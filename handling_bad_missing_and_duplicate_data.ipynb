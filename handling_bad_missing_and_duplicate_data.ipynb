{
 "cells": [
  {
   "cell_type": "markdown",
   "source": [
    "# Handling bad, missing, and duplicate data\n",
    "\n",
    "**Abid Ali**\n",
    "Skype: Abd.Soft\n",
    "Email: [abdsoftfsd@gmail.com](mailto:abdsoftfsd@gmail.com)\n",
    "Github: [github.com/abid-2362](https://github.com/abid-2362)"
   ],
   "metadata": {
    "collapsed": false,
    "pycharm": {
     "name": "#%% md\n"
    }
   }
  },
  {
   "cell_type": "markdown",
   "source": [
    "## Cleaning Bad Data\n",
    "- What is \"bad\" data?\n",
    "- Define your goal\n",
    "- Drop, fill, or replace"
   ],
   "metadata": {
    "collapsed": false,
    "pycharm": {
     "name": "#%% md\n"
    }
   }
  },
  {
   "cell_type": "code",
   "execution_count": 2,
   "outputs": [],
   "source": [
    "import pandas as pd\n"
   ],
   "metadata": {
    "collapsed": false,
    "pycharm": {
     "name": "#%%\n"
    }
   }
  },
  {
   "cell_type": "code",
   "execution_count": 3,
   "outputs": [
    {
     "data": {
      "text/plain": "     id accession_number          artist artistRole  artistId  \\\n0  1035           A00001   Blake, Robert     artist        38   \n1  1036           A00002   Blake, Robert     artist        38   \n2  1037           A00003   Blake, Robert     artist        38   \n3  1038           A00004   Blake, Robert     artist        38   \n4  1039           A00005  Blake, William     artist        39   \n\n                                               title                dateText  \\\n0  A Figure Bowing before a Seated Old Man with h...          date not known   \n1  Two Drawings of Frightened Figures, Probably f...          date not known   \n2  The Preaching of Warning. Verso: An Old Man En...                 ?c.1785   \n3     Six Drawings of Figures with Outstretched Arms          date not known   \n4  The Circle of the Lustful: Francesca da Rimini...  1826–7, reprinted 1892   \n\n                                              medium  \\\n0  Watercolour, ink, chalk and graphite on paper....   \n1                                  Graphite on paper   \n2        Graphite on paper. Verso: graphite on paper   \n3                                  Graphite on paper   \n4                            Line engraving on paper   \n\n                                          creditLine  year  acquisitionYear  \\\n0                Presented by Mrs John Richmond 1922   NaN           1922.0   \n1                Presented by Mrs John Richmond 1922   NaN           1922.0   \n2                Presented by Mrs John Richmond 1922  1785           1922.0   \n3                Presented by Mrs John Richmond 1922   NaN           1922.0   \n4  Purchased with the assistance of a special gra...  1826           1919.0   \n\n              dimensions width height  depth units inscription  \\\n0  support: 394 x 419 mm   394    419    NaN    mm         NaN   \n1  support: 311 x 213 mm   311    213    NaN    mm         NaN   \n2  support: 343 x 467 mm   343    467    NaN    mm         NaN   \n3  support: 318 x 394 mm   318    394    NaN    mm         NaN   \n4    image: 243 x 335 mm   243    335    NaN    mm         NaN   \n\n  thumbnailCopyright                                       thumbnailUrl  \\\n0                NaN  http://www.tate.org.uk/art/images/work/A/A00/A...   \n1                NaN  http://www.tate.org.uk/art/images/work/A/A00/A...   \n2                NaN  http://www.tate.org.uk/art/images/work/A/A00/A...   \n3                NaN  http://www.tate.org.uk/art/images/work/A/A00/A...   \n4                NaN  http://www.tate.org.uk/art/images/work/A/A00/A...   \n\n                                                 url  \n0  http://www.tate.org.uk/art/artworks/blake-a-fi...  \n1  http://www.tate.org.uk/art/artworks/blake-two-...  \n2  http://www.tate.org.uk/art/artworks/blake-the-...  \n3  http://www.tate.org.uk/art/artworks/blake-six-...  \n4  http://www.tate.org.uk/art/artworks/blake-the-...  ",
      "text/html": "<div>\n<style scoped>\n    .dataframe tbody tr th:only-of-type {\n        vertical-align: middle;\n    }\n\n    .dataframe tbody tr th {\n        vertical-align: top;\n    }\n\n    .dataframe thead th {\n        text-align: right;\n    }\n</style>\n<table border=\"1\" class=\"dataframe\">\n  <thead>\n    <tr style=\"text-align: right;\">\n      <th></th>\n      <th>id</th>\n      <th>accession_number</th>\n      <th>artist</th>\n      <th>artistRole</th>\n      <th>artistId</th>\n      <th>title</th>\n      <th>dateText</th>\n      <th>medium</th>\n      <th>creditLine</th>\n      <th>year</th>\n      <th>acquisitionYear</th>\n      <th>dimensions</th>\n      <th>width</th>\n      <th>height</th>\n      <th>depth</th>\n      <th>units</th>\n      <th>inscription</th>\n      <th>thumbnailCopyright</th>\n      <th>thumbnailUrl</th>\n      <th>url</th>\n    </tr>\n  </thead>\n  <tbody>\n    <tr>\n      <th>0</th>\n      <td>1035</td>\n      <td>A00001</td>\n      <td>Blake, Robert</td>\n      <td>artist</td>\n      <td>38</td>\n      <td>A Figure Bowing before a Seated Old Man with h...</td>\n      <td>date not known</td>\n      <td>Watercolour, ink, chalk and graphite on paper....</td>\n      <td>Presented by Mrs John Richmond 1922</td>\n      <td>NaN</td>\n      <td>1922.0</td>\n      <td>support: 394 x 419 mm</td>\n      <td>394</td>\n      <td>419</td>\n      <td>NaN</td>\n      <td>mm</td>\n      <td>NaN</td>\n      <td>NaN</td>\n      <td>http://www.tate.org.uk/art/images/work/A/A00/A...</td>\n      <td>http://www.tate.org.uk/art/artworks/blake-a-fi...</td>\n    </tr>\n    <tr>\n      <th>1</th>\n      <td>1036</td>\n      <td>A00002</td>\n      <td>Blake, Robert</td>\n      <td>artist</td>\n      <td>38</td>\n      <td>Two Drawings of Frightened Figures, Probably f...</td>\n      <td>date not known</td>\n      <td>Graphite on paper</td>\n      <td>Presented by Mrs John Richmond 1922</td>\n      <td>NaN</td>\n      <td>1922.0</td>\n      <td>support: 311 x 213 mm</td>\n      <td>311</td>\n      <td>213</td>\n      <td>NaN</td>\n      <td>mm</td>\n      <td>NaN</td>\n      <td>NaN</td>\n      <td>http://www.tate.org.uk/art/images/work/A/A00/A...</td>\n      <td>http://www.tate.org.uk/art/artworks/blake-two-...</td>\n    </tr>\n    <tr>\n      <th>2</th>\n      <td>1037</td>\n      <td>A00003</td>\n      <td>Blake, Robert</td>\n      <td>artist</td>\n      <td>38</td>\n      <td>The Preaching of Warning. Verso: An Old Man En...</td>\n      <td>?c.1785</td>\n      <td>Graphite on paper. Verso: graphite on paper</td>\n      <td>Presented by Mrs John Richmond 1922</td>\n      <td>1785</td>\n      <td>1922.0</td>\n      <td>support: 343 x 467 mm</td>\n      <td>343</td>\n      <td>467</td>\n      <td>NaN</td>\n      <td>mm</td>\n      <td>NaN</td>\n      <td>NaN</td>\n      <td>http://www.tate.org.uk/art/images/work/A/A00/A...</td>\n      <td>http://www.tate.org.uk/art/artworks/blake-the-...</td>\n    </tr>\n    <tr>\n      <th>3</th>\n      <td>1038</td>\n      <td>A00004</td>\n      <td>Blake, Robert</td>\n      <td>artist</td>\n      <td>38</td>\n      <td>Six Drawings of Figures with Outstretched Arms</td>\n      <td>date not known</td>\n      <td>Graphite on paper</td>\n      <td>Presented by Mrs John Richmond 1922</td>\n      <td>NaN</td>\n      <td>1922.0</td>\n      <td>support: 318 x 394 mm</td>\n      <td>318</td>\n      <td>394</td>\n      <td>NaN</td>\n      <td>mm</td>\n      <td>NaN</td>\n      <td>NaN</td>\n      <td>http://www.tate.org.uk/art/images/work/A/A00/A...</td>\n      <td>http://www.tate.org.uk/art/artworks/blake-six-...</td>\n    </tr>\n    <tr>\n      <th>4</th>\n      <td>1039</td>\n      <td>A00005</td>\n      <td>Blake, William</td>\n      <td>artist</td>\n      <td>39</td>\n      <td>The Circle of the Lustful: Francesca da Rimini...</td>\n      <td>1826–7, reprinted 1892</td>\n      <td>Line engraving on paper</td>\n      <td>Purchased with the assistance of a special gra...</td>\n      <td>1826</td>\n      <td>1919.0</td>\n      <td>image: 243 x 335 mm</td>\n      <td>243</td>\n      <td>335</td>\n      <td>NaN</td>\n      <td>mm</td>\n      <td>NaN</td>\n      <td>NaN</td>\n      <td>http://www.tate.org.uk/art/images/work/A/A00/A...</td>\n      <td>http://www.tate.org.uk/art/artworks/blake-the-...</td>\n    </tr>\n  </tbody>\n</table>\n</div>"
     },
     "execution_count": 3,
     "metadata": {},
     "output_type": "execute_result"
    }
   ],
   "source": [
    "data = pd.read_csv('data/artwork_data.csv', low_memory=False)\n",
    "data.head()"
   ],
   "metadata": {
    "collapsed": false,
    "pycharm": {
     "name": "#%%\n"
    }
   }
  },
  {
   "cell_type": "markdown",
   "source": [
    "- Strip white space\n",
    "- Replace bad data\n",
    "- Fill missing data\n",
    "- Drop bad data\n",
    "- Drop duplicate data"
   ],
   "metadata": {
    "collapsed": false,
    "pycharm": {
     "name": "#%% md\n"
    }
   }
  },
  {
   "cell_type": "markdown",
   "source": [
    "## Stripping White Space\n"
   ],
   "metadata": {
    "collapsed": false,
    "pycharm": {
     "name": "#%% md\n"
    }
   }
  },
  {
   "cell_type": "code",
   "execution_count": 4,
   "outputs": [
    {
     "data": {
      "text/plain": "49498    Port-Distinguishing Letters of Scottish Fishin...\n50534                                                Boys \n50535                                           Buildings \n50537                                    Pray for Josquin \n53186                              Untitled (Safety Pins) \n56283    Towards a definitive statement on the coming t...\n67409                          2 Standard Ware Mead Cups  \n67432                                               Bowl  \nName: title, dtype: object"
     },
     "execution_count": 4,
     "metadata": {},
     "output_type": "execute_result"
    }
   ],
   "source": [
    "data.loc[data.title.str.contains('\\s$', regex=True), 'title']\n"
   ],
   "metadata": {
    "collapsed": false,
    "pycharm": {
     "name": "#%%\n"
    }
   }
  },
  {
   "cell_type": "code",
   "execution_count": 5,
   "outputs": [
    {
     "data": {
      "text/plain": "0        A Figure Bowing before a Seated Old Man with h...\n1        Two Drawings of Frightened Figures, Probably f...\n2        The Preaching of Warning. Verso: An Old Man En...\n3           Six Drawings of Figures with Outstretched Arms\n4        The Circle of the Lustful: Francesca da Rimini...\n                               ...                        \n69196                          Larvae (from Tampax Romana)\n69197                     Living Womb (from Tampax Romana)\n69198                                        Present Tense\n69199            Work No. 227: The lights going on and off\n69200                     Dancing Scene in the West Indies\nName: title, Length: 69201, dtype: object"
     },
     "execution_count": 5,
     "metadata": {},
     "output_type": "execute_result"
    }
   ],
   "source": [
    "data.title.str.strip()\n"
   ],
   "metadata": {
    "collapsed": false,
    "pycharm": {
     "name": "#%%\n"
    }
   }
  },
  {
   "cell_type": "code",
   "execution_count": 6,
   "outputs": [
    {
     "data": {
      "text/plain": "49498    Port-Distinguishing Letters of Scottish Fishin...\n50534                                                Boys \n50535                                           Buildings \n50537                                    Pray for Josquin \n53186                              Untitled (Safety Pins) \n56283    Towards a definitive statement on the coming t...\n67409                          2 Standard Ware Mead Cups  \n67432                                               Bowl  \nName: title, dtype: object"
     },
     "execution_count": 6,
     "metadata": {},
     "output_type": "execute_result"
    }
   ],
   "source": [
    "data.loc[data.title.str.contains('\\s$', regex=True), 'title']\n"
   ],
   "metadata": {
    "collapsed": false,
    "pycharm": {
     "name": "#%%\n"
    }
   }
  },
  {
   "cell_type": "code",
   "execution_count": 7,
   "outputs": [],
   "source": [
    "data.title = data.title.str.strip()\n"
   ],
   "metadata": {
    "collapsed": false,
    "pycharm": {
     "name": "#%%\n"
    }
   }
  },
  {
   "cell_type": "code",
   "execution_count": 8,
   "outputs": [
    {
     "data": {
      "text/plain": "Series([], Name: title, dtype: object)"
     },
     "execution_count": 8,
     "metadata": {},
     "output_type": "execute_result"
    }
   ],
   "source": [
    "data.loc[data.title.str.contains('\\s$', regex=True), 'title']\n"
   ],
   "metadata": {
    "collapsed": false,
    "pycharm": {
     "name": "#%%\n"
    }
   }
  },
  {
   "cell_type": "code",
   "execution_count": 9,
   "outputs": [],
   "source": [
    "# Right and left strip\n",
    "# data.title = data.title.str.rstrip()\n",
    "# data.title = data.title.str.lstrip()\n"
   ],
   "metadata": {
    "collapsed": false,
    "pycharm": {
     "name": "#%%\n"
    }
   }
  },
  {
   "cell_type": "code",
   "execution_count": 10,
   "outputs": [
    {
     "data": {
      "text/plain": "0        A Figure Bowing before a Seated Old Man with h...\n1        Two Drawings of Frightened Figures, Probably f...\n2        The Preaching of Warning. Verso: An Old Man En...\n3           Six Drawings of Figures with Outstretched Arms\n4        The Circle of the Lustful: Francesca da Rimini...\n                               ...                        \n69196                          Larvae (from Tampax Romana)\n69197                     Living Womb (from Tampax Romana)\n69198                                        Present Tense\n69199            Work No. 227: The lights going on and off\n69200                     Dancing Scene in the West Indies\nName: title, Length: 69201, dtype: object"
     },
     "execution_count": 10,
     "metadata": {},
     "output_type": "execute_result"
    }
   ],
   "source": [
    "# stripping by lambda function\n",
    "data.title.transform(lambda x: x.strip())\n"
   ],
   "metadata": {
    "collapsed": false,
    "pycharm": {
     "name": "#%%\n"
    }
   }
  },
  {
   "cell_type": "code",
   "execution_count": 11,
   "outputs": [],
   "source": [
    "# Replacing Bad Data with NaN\n",
    "original_data = pd.read_csv('data/artwork_data.csv',low_memory=False)\n",
    "data = original_data.copy()"
   ],
   "metadata": {
    "collapsed": false,
    "pycharm": {
     "name": "#%%\n"
    }
   }
  },
  {
   "cell_type": "code",
   "execution_count": 12,
   "outputs": [
    {
     "data": {
      "text/plain": "                                               title                dateText\n0  A Figure Bowing before a Seated Old Man with h...          date not known\n1  Two Drawings of Frightened Figures, Probably f...          date not known\n2  The Preaching of Warning. Verso: An Old Man En...                 ?c.1785\n3     Six Drawings of Figures with Outstretched Arms          date not known\n4  The Circle of the Lustful: Francesca da Rimini...  1826–7, reprinted 1892",
      "text/html": "<div>\n<style scoped>\n    .dataframe tbody tr th:only-of-type {\n        vertical-align: middle;\n    }\n\n    .dataframe tbody tr th {\n        vertical-align: top;\n    }\n\n    .dataframe thead th {\n        text-align: right;\n    }\n</style>\n<table border=\"1\" class=\"dataframe\">\n  <thead>\n    <tr style=\"text-align: right;\">\n      <th></th>\n      <th>title</th>\n      <th>dateText</th>\n    </tr>\n  </thead>\n  <tbody>\n    <tr>\n      <th>0</th>\n      <td>A Figure Bowing before a Seated Old Man with h...</td>\n      <td>date not known</td>\n    </tr>\n    <tr>\n      <th>1</th>\n      <td>Two Drawings of Frightened Figures, Probably f...</td>\n      <td>date not known</td>\n    </tr>\n    <tr>\n      <th>2</th>\n      <td>The Preaching of Warning. Verso: An Old Man En...</td>\n      <td>?c.1785</td>\n    </tr>\n    <tr>\n      <th>3</th>\n      <td>Six Drawings of Figures with Outstretched Arms</td>\n      <td>date not known</td>\n    </tr>\n    <tr>\n      <th>4</th>\n      <td>The Circle of the Lustful: Francesca da Rimini...</td>\n      <td>1826–7, reprinted 1892</td>\n    </tr>\n  </tbody>\n</table>\n</div>"
     },
     "execution_count": 12,
     "metadata": {},
     "output_type": "execute_result"
    }
   ],
   "source": [
    "data[['title','dateText']].head()\n"
   ],
   "metadata": {
    "collapsed": false,
    "pycharm": {
     "name": "#%%\n"
    }
   }
  },
  {
   "cell_type": "code",
   "execution_count": 13,
   "outputs": [
    {
     "data": {
      "text/plain": "0        False\n1        False\n2        False\n3        False\n4        False\n         ...  \n69196    False\n69197    False\n69198    False\n69199    False\n69200    False\nName: dateText, Length: 69201, dtype: bool"
     },
     "execution_count": 13,
     "metadata": {},
     "output_type": "execute_result"
    }
   ],
   "source": [
    "# data.loc[pd.isna(data.loc[:, 'dateText']) == True]\n",
    "pd.isna(data.loc[:, 'dateText'])"
   ],
   "metadata": {
    "collapsed": false,
    "pycharm": {
     "name": "#%%\n"
    }
   }
  },
  {
   "cell_type": "code",
   "execution_count": 14,
   "outputs": [],
   "source": [
    "from numpy import nan\n"
   ],
   "metadata": {
    "collapsed": false,
    "pycharm": {
     "name": "#%%\n"
    }
   }
  },
  {
   "cell_type": "code",
   "execution_count": 15,
   "outputs": [
    {
     "data": {
      "text/plain": "           id accession_number              artist artistRole  artistId  \\\n0        1035           A00001       Blake, Robert     artist        38   \n1        1036           A00002       Blake, Robert     artist        38   \n2        1037           A00003       Blake, Robert     artist        38   \n3        1038           A00004       Blake, Robert     artist        38   \n4        1039           A00005      Blake, William     artist        39   \n...       ...              ...                 ...        ...       ...   \n69196  122960           T13865  P-Orridge, Genesis     artist     16646   \n69197  122961           T13866  P-Orridge, Genesis     artist     16646   \n69198  121181           T13867        Hatoum, Mona     artist      2365   \n69199  112306           T13868       Creed, Martin     artist      2760   \n69200  127035           T13869   Brunias, Agostino     artist      3824   \n\n                                                   title  \\\n0      A Figure Bowing before a Seated Old Man with h...   \n1      Two Drawings of Frightened Figures, Probably f...   \n2      The Preaching of Warning. Verso: An Old Man En...   \n3         Six Drawings of Figures with Outstretched Arms   \n4      The Circle of the Lustful: Francesca da Rimini...   \n...                                                  ...   \n69196                        Larvae (from Tampax Romana)   \n69197                   Living Womb (from Tampax Romana)   \n69198                                      Present Tense   \n69199          Work No. 227: The lights going on and off   \n69200                   Dancing Scene in the West Indies   \n\n                     dateText  \\\n0                         NaN   \n1                         NaN   \n2                     ?c.1785   \n3                         NaN   \n4      1826–7, reprinted 1892   \n...                       ...   \n69196                    1975   \n69197                    1976   \n69198                    1996   \n69199                    2000   \n69200                 1764–96   \n\n                                                  medium  \\\n0      Watercolour, ink, chalk and graphite on paper....   \n1                                      Graphite on paper   \n2            Graphite on paper. Verso: graphite on paper   \n3                                      Graphite on paper   \n4                                Line engraving on paper   \n...                                                  ...   \n69196   Perspex, Wood, hairpiece, tampon and human blood   \n69197  Wood, Perspex, plastic, photograph on paper, t...   \n69198                               Soap and glass beads   \n69199                                   Gallery lighting   \n69200                                Oil paint on canvas   \n\n                                              creditLine  year  \\\n0                    Presented by Mrs John Richmond 1922   NaN   \n1                    Presented by Mrs John Richmond 1922   NaN   \n2                    Presented by Mrs John Richmond 1922  1785   \n3                    Presented by Mrs John Richmond 1922   NaN   \n4      Purchased with the assistance of a special gra...  1826   \n...                                                  ...   ...   \n69196                 Transferred from Tate Archive 2012  1975   \n69197                 Transferred from Tate Archive 2012  1976   \n69198                     Presented by Tate Members 2013  1996   \n69199  Purchased with funds provided by Tate Members,...  2000   \n69200  Purchased with assistance from Tate Patrons an...  1764   \n\n       acquisitionYear                           dimensions width height  \\\n0               1922.0                support: 394 x 419 mm   394    419   \n1               1922.0                support: 311 x 213 mm   311    213   \n2               1922.0                support: 343 x 467 mm   343    467   \n3               1922.0                support: 318 x 394 mm   318    394   \n4               1919.0                  image: 243 x 335 mm   243    335   \n...                ...                                  ...   ...    ...   \n69196           2013.0           object: 305 x 305 x 135 mm   305    305   \n69197           2013.0           object: 305 x 305 x 135 mm   305    305   \n69198           2013.0       displayed: 45 x 2410 x 2990 mm    45   2410   \n69199           2013.0  Overall display dimensions variable   NaN    NaN   \n69200           2013.0            unconfirmed: 508 x 660 mm   508    660   \n\n        depth units inscription thumbnailCopyright  \\\n0         NaN    mm         NaN                NaN   \n1         NaN    mm         NaN                NaN   \n2         NaN    mm         NaN                NaN   \n3         NaN    mm         NaN                NaN   \n4         NaN    mm         NaN                NaN   \n...       ...   ...         ...                ...   \n69196   135.0    mm         NaN                NaN   \n69197   135.0    mm         NaN                NaN   \n69198  2990.0    mm         NaN                NaN   \n69199     NaN   NaN         NaN                NaN   \n69200     NaN    mm         NaN                NaN   \n\n                                            thumbnailUrl  \\\n0      http://www.tate.org.uk/art/images/work/A/A00/A...   \n1      http://www.tate.org.uk/art/images/work/A/A00/A...   \n2      http://www.tate.org.uk/art/images/work/A/A00/A...   \n3      http://www.tate.org.uk/art/images/work/A/A00/A...   \n4      http://www.tate.org.uk/art/images/work/A/A00/A...   \n...                                                  ...   \n69196                                                NaN   \n69197                                                NaN   \n69198                                                NaN   \n69199                                                NaN   \n69200  http://www.tate.org.uk/art/images/work/T/T13/T...   \n\n                                                     url  \n0      http://www.tate.org.uk/art/artworks/blake-a-fi...  \n1      http://www.tate.org.uk/art/artworks/blake-two-...  \n2      http://www.tate.org.uk/art/artworks/blake-the-...  \n3      http://www.tate.org.uk/art/artworks/blake-six-...  \n4      http://www.tate.org.uk/art/artworks/blake-the-...  \n...                                                  ...  \n69196  http://www.tate.org.uk/art/artworks/p-orridge-...  \n69197  http://www.tate.org.uk/art/artworks/p-orridge-...  \n69198  http://www.tate.org.uk/art/artworks/hatoum-pre...  \n69199  http://www.tate.org.uk/art/artworks/creed-work...  \n69200  http://www.tate.org.uk/art/artworks/brunias-da...  \n\n[69201 rows x 20 columns]",
      "text/html": "<div>\n<style scoped>\n    .dataframe tbody tr th:only-of-type {\n        vertical-align: middle;\n    }\n\n    .dataframe tbody tr th {\n        vertical-align: top;\n    }\n\n    .dataframe thead th {\n        text-align: right;\n    }\n</style>\n<table border=\"1\" class=\"dataframe\">\n  <thead>\n    <tr style=\"text-align: right;\">\n      <th></th>\n      <th>id</th>\n      <th>accession_number</th>\n      <th>artist</th>\n      <th>artistRole</th>\n      <th>artistId</th>\n      <th>title</th>\n      <th>dateText</th>\n      <th>medium</th>\n      <th>creditLine</th>\n      <th>year</th>\n      <th>acquisitionYear</th>\n      <th>dimensions</th>\n      <th>width</th>\n      <th>height</th>\n      <th>depth</th>\n      <th>units</th>\n      <th>inscription</th>\n      <th>thumbnailCopyright</th>\n      <th>thumbnailUrl</th>\n      <th>url</th>\n    </tr>\n  </thead>\n  <tbody>\n    <tr>\n      <th>0</th>\n      <td>1035</td>\n      <td>A00001</td>\n      <td>Blake, Robert</td>\n      <td>artist</td>\n      <td>38</td>\n      <td>A Figure Bowing before a Seated Old Man with h...</td>\n      <td>NaN</td>\n      <td>Watercolour, ink, chalk and graphite on paper....</td>\n      <td>Presented by Mrs John Richmond 1922</td>\n      <td>NaN</td>\n      <td>1922.0</td>\n      <td>support: 394 x 419 mm</td>\n      <td>394</td>\n      <td>419</td>\n      <td>NaN</td>\n      <td>mm</td>\n      <td>NaN</td>\n      <td>NaN</td>\n      <td>http://www.tate.org.uk/art/images/work/A/A00/A...</td>\n      <td>http://www.tate.org.uk/art/artworks/blake-a-fi...</td>\n    </tr>\n    <tr>\n      <th>1</th>\n      <td>1036</td>\n      <td>A00002</td>\n      <td>Blake, Robert</td>\n      <td>artist</td>\n      <td>38</td>\n      <td>Two Drawings of Frightened Figures, Probably f...</td>\n      <td>NaN</td>\n      <td>Graphite on paper</td>\n      <td>Presented by Mrs John Richmond 1922</td>\n      <td>NaN</td>\n      <td>1922.0</td>\n      <td>support: 311 x 213 mm</td>\n      <td>311</td>\n      <td>213</td>\n      <td>NaN</td>\n      <td>mm</td>\n      <td>NaN</td>\n      <td>NaN</td>\n      <td>http://www.tate.org.uk/art/images/work/A/A00/A...</td>\n      <td>http://www.tate.org.uk/art/artworks/blake-two-...</td>\n    </tr>\n    <tr>\n      <th>2</th>\n      <td>1037</td>\n      <td>A00003</td>\n      <td>Blake, Robert</td>\n      <td>artist</td>\n      <td>38</td>\n      <td>The Preaching of Warning. Verso: An Old Man En...</td>\n      <td>?c.1785</td>\n      <td>Graphite on paper. Verso: graphite on paper</td>\n      <td>Presented by Mrs John Richmond 1922</td>\n      <td>1785</td>\n      <td>1922.0</td>\n      <td>support: 343 x 467 mm</td>\n      <td>343</td>\n      <td>467</td>\n      <td>NaN</td>\n      <td>mm</td>\n      <td>NaN</td>\n      <td>NaN</td>\n      <td>http://www.tate.org.uk/art/images/work/A/A00/A...</td>\n      <td>http://www.tate.org.uk/art/artworks/blake-the-...</td>\n    </tr>\n    <tr>\n      <th>3</th>\n      <td>1038</td>\n      <td>A00004</td>\n      <td>Blake, Robert</td>\n      <td>artist</td>\n      <td>38</td>\n      <td>Six Drawings of Figures with Outstretched Arms</td>\n      <td>NaN</td>\n      <td>Graphite on paper</td>\n      <td>Presented by Mrs John Richmond 1922</td>\n      <td>NaN</td>\n      <td>1922.0</td>\n      <td>support: 318 x 394 mm</td>\n      <td>318</td>\n      <td>394</td>\n      <td>NaN</td>\n      <td>mm</td>\n      <td>NaN</td>\n      <td>NaN</td>\n      <td>http://www.tate.org.uk/art/images/work/A/A00/A...</td>\n      <td>http://www.tate.org.uk/art/artworks/blake-six-...</td>\n    </tr>\n    <tr>\n      <th>4</th>\n      <td>1039</td>\n      <td>A00005</td>\n      <td>Blake, William</td>\n      <td>artist</td>\n      <td>39</td>\n      <td>The Circle of the Lustful: Francesca da Rimini...</td>\n      <td>1826–7, reprinted 1892</td>\n      <td>Line engraving on paper</td>\n      <td>Purchased with the assistance of a special gra...</td>\n      <td>1826</td>\n      <td>1919.0</td>\n      <td>image: 243 x 335 mm</td>\n      <td>243</td>\n      <td>335</td>\n      <td>NaN</td>\n      <td>mm</td>\n      <td>NaN</td>\n      <td>NaN</td>\n      <td>http://www.tate.org.uk/art/images/work/A/A00/A...</td>\n      <td>http://www.tate.org.uk/art/artworks/blake-the-...</td>\n    </tr>\n    <tr>\n      <th>...</th>\n      <td>...</td>\n      <td>...</td>\n      <td>...</td>\n      <td>...</td>\n      <td>...</td>\n      <td>...</td>\n      <td>...</td>\n      <td>...</td>\n      <td>...</td>\n      <td>...</td>\n      <td>...</td>\n      <td>...</td>\n      <td>...</td>\n      <td>...</td>\n      <td>...</td>\n      <td>...</td>\n      <td>...</td>\n      <td>...</td>\n      <td>...</td>\n      <td>...</td>\n    </tr>\n    <tr>\n      <th>69196</th>\n      <td>122960</td>\n      <td>T13865</td>\n      <td>P-Orridge, Genesis</td>\n      <td>artist</td>\n      <td>16646</td>\n      <td>Larvae (from Tampax Romana)</td>\n      <td>1975</td>\n      <td>Perspex, Wood, hairpiece, tampon and human blood</td>\n      <td>Transferred from Tate Archive 2012</td>\n      <td>1975</td>\n      <td>2013.0</td>\n      <td>object: 305 x 305 x 135 mm</td>\n      <td>305</td>\n      <td>305</td>\n      <td>135.0</td>\n      <td>mm</td>\n      <td>NaN</td>\n      <td>NaN</td>\n      <td>NaN</td>\n      <td>http://www.tate.org.uk/art/artworks/p-orridge-...</td>\n    </tr>\n    <tr>\n      <th>69197</th>\n      <td>122961</td>\n      <td>T13866</td>\n      <td>P-Orridge, Genesis</td>\n      <td>artist</td>\n      <td>16646</td>\n      <td>Living Womb (from Tampax Romana)</td>\n      <td>1976</td>\n      <td>Wood, Perspex, plastic, photograph on paper, t...</td>\n      <td>Transferred from Tate Archive 2012</td>\n      <td>1976</td>\n      <td>2013.0</td>\n      <td>object: 305 x 305 x 135 mm</td>\n      <td>305</td>\n      <td>305</td>\n      <td>135.0</td>\n      <td>mm</td>\n      <td>NaN</td>\n      <td>NaN</td>\n      <td>NaN</td>\n      <td>http://www.tate.org.uk/art/artworks/p-orridge-...</td>\n    </tr>\n    <tr>\n      <th>69198</th>\n      <td>121181</td>\n      <td>T13867</td>\n      <td>Hatoum, Mona</td>\n      <td>artist</td>\n      <td>2365</td>\n      <td>Present Tense</td>\n      <td>1996</td>\n      <td>Soap and glass beads</td>\n      <td>Presented by Tate Members 2013</td>\n      <td>1996</td>\n      <td>2013.0</td>\n      <td>displayed: 45 x 2410 x 2990 mm</td>\n      <td>45</td>\n      <td>2410</td>\n      <td>2990.0</td>\n      <td>mm</td>\n      <td>NaN</td>\n      <td>NaN</td>\n      <td>NaN</td>\n      <td>http://www.tate.org.uk/art/artworks/hatoum-pre...</td>\n    </tr>\n    <tr>\n      <th>69199</th>\n      <td>112306</td>\n      <td>T13868</td>\n      <td>Creed, Martin</td>\n      <td>artist</td>\n      <td>2760</td>\n      <td>Work No. 227: The lights going on and off</td>\n      <td>2000</td>\n      <td>Gallery lighting</td>\n      <td>Purchased with funds provided by Tate Members,...</td>\n      <td>2000</td>\n      <td>2013.0</td>\n      <td>Overall display dimensions variable</td>\n      <td>NaN</td>\n      <td>NaN</td>\n      <td>NaN</td>\n      <td>NaN</td>\n      <td>NaN</td>\n      <td>NaN</td>\n      <td>NaN</td>\n      <td>http://www.tate.org.uk/art/artworks/creed-work...</td>\n    </tr>\n    <tr>\n      <th>69200</th>\n      <td>127035</td>\n      <td>T13869</td>\n      <td>Brunias, Agostino</td>\n      <td>artist</td>\n      <td>3824</td>\n      <td>Dancing Scene in the West Indies</td>\n      <td>1764–96</td>\n      <td>Oil paint on canvas</td>\n      <td>Purchased with assistance from Tate Patrons an...</td>\n      <td>1764</td>\n      <td>2013.0</td>\n      <td>unconfirmed: 508 x 660 mm</td>\n      <td>508</td>\n      <td>660</td>\n      <td>NaN</td>\n      <td>mm</td>\n      <td>NaN</td>\n      <td>NaN</td>\n      <td>http://www.tate.org.uk/art/images/work/T/T13/T...</td>\n      <td>http://www.tate.org.uk/art/artworks/brunias-da...</td>\n    </tr>\n  </tbody>\n</table>\n<p>69201 rows × 20 columns</p>\n</div>"
     },
     "execution_count": 15,
     "metadata": {},
     "output_type": "execute_result"
    }
   ],
   "source": [
    "# replace date not known in dateText series with NaN values\n",
    "data.replace({'dateText': {'date not known': nan}})\n"
   ],
   "metadata": {
    "collapsed": false,
    "pycharm": {
     "name": "#%%\n"
    }
   }
  },
  {
   "cell_type": "code",
   "execution_count": 16,
   "outputs": [
    {
     "data": {
      "text/plain": "                                               title                dateText\n0  A Figure Bowing before a Seated Old Man with h...          date not known\n1  Two Drawings of Frightened Figures, Probably f...          date not known\n2  The Preaching of Warning. Verso: An Old Man En...                 ?c.1785\n3     Six Drawings of Figures with Outstretched Arms          date not known\n4  The Circle of the Lustful: Francesca da Rimini...  1826–7, reprinted 1892",
      "text/html": "<div>\n<style scoped>\n    .dataframe tbody tr th:only-of-type {\n        vertical-align: middle;\n    }\n\n    .dataframe tbody tr th {\n        vertical-align: top;\n    }\n\n    .dataframe thead th {\n        text-align: right;\n    }\n</style>\n<table border=\"1\" class=\"dataframe\">\n  <thead>\n    <tr style=\"text-align: right;\">\n      <th></th>\n      <th>title</th>\n      <th>dateText</th>\n    </tr>\n  </thead>\n  <tbody>\n    <tr>\n      <th>0</th>\n      <td>A Figure Bowing before a Seated Old Man with h...</td>\n      <td>date not known</td>\n    </tr>\n    <tr>\n      <th>1</th>\n      <td>Two Drawings of Frightened Figures, Probably f...</td>\n      <td>date not known</td>\n    </tr>\n    <tr>\n      <th>2</th>\n      <td>The Preaching of Warning. Verso: An Old Man En...</td>\n      <td>?c.1785</td>\n    </tr>\n    <tr>\n      <th>3</th>\n      <td>Six Drawings of Figures with Outstretched Arms</td>\n      <td>date not known</td>\n    </tr>\n    <tr>\n      <th>4</th>\n      <td>The Circle of the Lustful: Francesca da Rimini...</td>\n      <td>1826–7, reprinted 1892</td>\n    </tr>\n  </tbody>\n</table>\n</div>"
     },
     "execution_count": 16,
     "metadata": {},
     "output_type": "execute_result"
    }
   ],
   "source": [
    "data[['title', 'dateText']].head()\n"
   ],
   "metadata": {
    "collapsed": false,
    "pycharm": {
     "name": "#%%\n"
    }
   }
  },
  {
   "cell_type": "code",
   "execution_count": 17,
   "outputs": [
    {
     "data": {
      "text/plain": "                                               title                dateText\n0  A Figure Bowing before a Seated Old Man with h...                     NaN\n1  Two Drawings of Frightened Figures, Probably f...                     NaN\n2  The Preaching of Warning. Verso: An Old Man En...                 ?c.1785\n3     Six Drawings of Figures with Outstretched Arms                     NaN\n4  The Circle of the Lustful: Francesca da Rimini...  1826–7, reprinted 1892",
      "text/html": "<div>\n<style scoped>\n    .dataframe tbody tr th:only-of-type {\n        vertical-align: middle;\n    }\n\n    .dataframe tbody tr th {\n        vertical-align: top;\n    }\n\n    .dataframe thead th {\n        text-align: right;\n    }\n</style>\n<table border=\"1\" class=\"dataframe\">\n  <thead>\n    <tr style=\"text-align: right;\">\n      <th></th>\n      <th>title</th>\n      <th>dateText</th>\n    </tr>\n  </thead>\n  <tbody>\n    <tr>\n      <th>0</th>\n      <td>A Figure Bowing before a Seated Old Man with h...</td>\n      <td>NaN</td>\n    </tr>\n    <tr>\n      <th>1</th>\n      <td>Two Drawings of Frightened Figures, Probably f...</td>\n      <td>NaN</td>\n    </tr>\n    <tr>\n      <th>2</th>\n      <td>The Preaching of Warning. Verso: An Old Man En...</td>\n      <td>?c.1785</td>\n    </tr>\n    <tr>\n      <th>3</th>\n      <td>Six Drawings of Figures with Outstretched Arms</td>\n      <td>NaN</td>\n    </tr>\n    <tr>\n      <th>4</th>\n      <td>The Circle of the Lustful: Francesca da Rimini...</td>\n      <td>1826–7, reprinted 1892</td>\n    </tr>\n  </tbody>\n</table>\n</div>"
     },
     "execution_count": 17,
     "metadata": {},
     "output_type": "execute_result"
    }
   ],
   "source": [
    "# inplace = True to change the original data\n",
    "data.replace({'dateText': {'date not known': nan}}, inplace=True)\n",
    "data[['title', 'dateText']].head()\n"
   ],
   "metadata": {
    "collapsed": false,
    "pycharm": {
     "name": "#%%\n"
    }
   }
  },
  {
   "cell_type": "code",
   "execution_count": 18,
   "outputs": [],
   "source": [
    "# reload unmodified data again\n",
    "data = original_data.copy()\n"
   ],
   "metadata": {
    "collapsed": false,
    "pycharm": {
     "name": "#%%\n"
    }
   }
  },
  {
   "cell_type": "code",
   "execution_count": 19,
   "outputs": [],
   "source": [
    "# set NaN where dateText value is 'date not known'\n",
    "data.loc[data.dateText == 'date not known', 'dateText'] = nan\n"
   ],
   "metadata": {
    "collapsed": false,
    "pycharm": {
     "name": "#%%\n"
    }
   }
  },
  {
   "cell_type": "code",
   "execution_count": 20,
   "outputs": [
    {
     "data": {
      "text/plain": "                                               title                dateText\n0  A Figure Bowing before a Seated Old Man with h...                     NaN\n1  Two Drawings of Frightened Figures, Probably f...                     NaN\n2  The Preaching of Warning. Verso: An Old Man En...                 ?c.1785\n3     Six Drawings of Figures with Outstretched Arms                     NaN\n4  The Circle of the Lustful: Francesca da Rimini...  1826–7, reprinted 1892",
      "text/html": "<div>\n<style scoped>\n    .dataframe tbody tr th:only-of-type {\n        vertical-align: middle;\n    }\n\n    .dataframe tbody tr th {\n        vertical-align: top;\n    }\n\n    .dataframe thead th {\n        text-align: right;\n    }\n</style>\n<table border=\"1\" class=\"dataframe\">\n  <thead>\n    <tr style=\"text-align: right;\">\n      <th></th>\n      <th>title</th>\n      <th>dateText</th>\n    </tr>\n  </thead>\n  <tbody>\n    <tr>\n      <th>0</th>\n      <td>A Figure Bowing before a Seated Old Man with h...</td>\n      <td>NaN</td>\n    </tr>\n    <tr>\n      <th>1</th>\n      <td>Two Drawings of Frightened Figures, Probably f...</td>\n      <td>NaN</td>\n    </tr>\n    <tr>\n      <th>2</th>\n      <td>The Preaching of Warning. Verso: An Old Man En...</td>\n      <td>?c.1785</td>\n    </tr>\n    <tr>\n      <th>3</th>\n      <td>Six Drawings of Figures with Outstretched Arms</td>\n      <td>NaN</td>\n    </tr>\n    <tr>\n      <th>4</th>\n      <td>The Circle of the Lustful: Francesca da Rimini...</td>\n      <td>1826–7, reprinted 1892</td>\n    </tr>\n  </tbody>\n</table>\n</div>"
     },
     "execution_count": 20,
     "metadata": {},
     "output_type": "execute_result"
    }
   ],
   "source": [
    "data[['title', 'dateText']].head()\n"
   ],
   "metadata": {
    "collapsed": false,
    "pycharm": {
     "name": "#%%\n"
    }
   }
  },
  {
   "cell_type": "code",
   "execution_count": 21,
   "outputs": [
    {
     "data": {
      "text/plain": "           year\n67968   no date\n67980   no date\n67987   no date\n67994   no date\n68002   no date\n68015   no date\n68033   no date\n68042   no date\n68047   no date\n68051   no date\n68056   no date\n68057   no date\n68062   no date\n68070   no date\n68072   no date\n68074   no date\n68076   no date\n68077   no date\n69165  c.1997-9",
      "text/html": "<div>\n<style scoped>\n    .dataframe tbody tr th:only-of-type {\n        vertical-align: middle;\n    }\n\n    .dataframe tbody tr th {\n        vertical-align: top;\n    }\n\n    .dataframe thead th {\n        text-align: right;\n    }\n</style>\n<table border=\"1\" class=\"dataframe\">\n  <thead>\n    <tr style=\"text-align: right;\">\n      <th></th>\n      <th>year</th>\n    </tr>\n  </thead>\n  <tbody>\n    <tr>\n      <th>67968</th>\n      <td>no date</td>\n    </tr>\n    <tr>\n      <th>67980</th>\n      <td>no date</td>\n    </tr>\n    <tr>\n      <th>67987</th>\n      <td>no date</td>\n    </tr>\n    <tr>\n      <th>67994</th>\n      <td>no date</td>\n    </tr>\n    <tr>\n      <th>68002</th>\n      <td>no date</td>\n    </tr>\n    <tr>\n      <th>68015</th>\n      <td>no date</td>\n    </tr>\n    <tr>\n      <th>68033</th>\n      <td>no date</td>\n    </tr>\n    <tr>\n      <th>68042</th>\n      <td>no date</td>\n    </tr>\n    <tr>\n      <th>68047</th>\n      <td>no date</td>\n    </tr>\n    <tr>\n      <th>68051</th>\n      <td>no date</td>\n    </tr>\n    <tr>\n      <th>68056</th>\n      <td>no date</td>\n    </tr>\n    <tr>\n      <th>68057</th>\n      <td>no date</td>\n    </tr>\n    <tr>\n      <th>68062</th>\n      <td>no date</td>\n    </tr>\n    <tr>\n      <th>68070</th>\n      <td>no date</td>\n    </tr>\n    <tr>\n      <th>68072</th>\n      <td>no date</td>\n    </tr>\n    <tr>\n      <th>68074</th>\n      <td>no date</td>\n    </tr>\n    <tr>\n      <th>68076</th>\n      <td>no date</td>\n    </tr>\n    <tr>\n      <th>68077</th>\n      <td>no date</td>\n    </tr>\n    <tr>\n      <th>69165</th>\n      <td>c.1997-9</td>\n    </tr>\n  </tbody>\n</table>\n</div>"
     },
     "execution_count": 21,
     "metadata": {},
     "output_type": "execute_result"
    }
   ],
   "source": [
    "data.loc[data.year.notnull() & data.year.astype(str).str.contains('[^0-9]', regex=True), ['year']]\n"
   ],
   "metadata": {
    "collapsed": false,
    "pycharm": {
     "name": "#%%\n"
    }
   }
  },
  {
   "cell_type": "code",
   "execution_count": 22,
   "outputs": [],
   "source": [
    "# set bad values to NaN\n",
    "data.loc[data.year.notnull() & data.year.astype(str).str.contains('[^0-9]', regex=True), ['year']] = nan\n"
   ],
   "metadata": {
    "collapsed": false,
    "pycharm": {
     "name": "#%%\n"
    }
   }
  },
  {
   "cell_type": "code",
   "execution_count": 23,
   "outputs": [
    {
     "data": {
      "text/plain": "0     NaN\n1     NaN\n2    1785\n3     NaN\n4    1826\nName: year, dtype: object"
     },
     "execution_count": 23,
     "metadata": {},
     "output_type": "execute_result"
    }
   ],
   "source": [
    "data['year'].head()\n"
   ],
   "metadata": {
    "collapsed": false,
    "pycharm": {
     "name": "#%%\n"
    }
   }
  },
  {
   "cell_type": "code",
   "execution_count": 24,
   "outputs": [
    {
     "data": {
      "text/plain": "           id accession_number            artist artistRole  artistId  \\\n69165  121190           T13834  Barlow, Phyllida     artist     10908   \n\n          title  dateText                  medium  \\\n69165  Untitled  c.1997–9  Acrylic paint on paper   \n\n                                              creditLine year  \\\n69165  Presented by the Trustees of the Chantrey Bequ...  NaN   \n\n       acquisitionYear                 dimensions width height  depth units  \\\n69165           2013.0  unconfirmed: 389 x 562 mm   389    562    NaN    mm   \n\n      inscription thumbnailCopyright  \\\n69165         NaN  © Phyllida Barlow   \n\n                                            thumbnailUrl  \\\n69165  http://www.tate.org.uk/art/images/work/T/T13/T...   \n\n                                                     url  \n69165  http://www.tate.org.uk/art/artworks/barlow-unt...  ",
      "text/html": "<div>\n<style scoped>\n    .dataframe tbody tr th:only-of-type {\n        vertical-align: middle;\n    }\n\n    .dataframe tbody tr th {\n        vertical-align: top;\n    }\n\n    .dataframe thead th {\n        text-align: right;\n    }\n</style>\n<table border=\"1\" class=\"dataframe\">\n  <thead>\n    <tr style=\"text-align: right;\">\n      <th></th>\n      <th>id</th>\n      <th>accession_number</th>\n      <th>artist</th>\n      <th>artistRole</th>\n      <th>artistId</th>\n      <th>title</th>\n      <th>dateText</th>\n      <th>medium</th>\n      <th>creditLine</th>\n      <th>year</th>\n      <th>acquisitionYear</th>\n      <th>dimensions</th>\n      <th>width</th>\n      <th>height</th>\n      <th>depth</th>\n      <th>units</th>\n      <th>inscription</th>\n      <th>thumbnailCopyright</th>\n      <th>thumbnailUrl</th>\n      <th>url</th>\n    </tr>\n  </thead>\n  <tbody>\n    <tr>\n      <th>69165</th>\n      <td>121190</td>\n      <td>T13834</td>\n      <td>Barlow, Phyllida</td>\n      <td>artist</td>\n      <td>10908</td>\n      <td>Untitled</td>\n      <td>c.1997–9</td>\n      <td>Acrylic paint on paper</td>\n      <td>Presented by the Trustees of the Chantrey Bequ...</td>\n      <td>NaN</td>\n      <td>2013.0</td>\n      <td>unconfirmed: 389 x 562 mm</td>\n      <td>389</td>\n      <td>562</td>\n      <td>NaN</td>\n      <td>mm</td>\n      <td>NaN</td>\n      <td>© Phyllida Barlow</td>\n      <td>http://www.tate.org.uk/art/images/work/T/T13/T...</td>\n      <td>http://www.tate.org.uk/art/artworks/barlow-unt...</td>\n    </tr>\n  </tbody>\n</table>\n</div>"
     },
     "execution_count": 24,
     "metadata": {},
     "output_type": "execute_result"
    }
   ],
   "source": [
    "data.iloc[69165:69166]\n"
   ],
   "metadata": {
    "collapsed": false,
    "pycharm": {
     "name": "#%%\n"
    }
   }
  },
  {
   "cell_type": "markdown",
   "source": [
    "# Filling missing data with a value\n"
   ],
   "metadata": {
    "collapsed": false,
    "pycharm": {
     "name": "#%% md\n"
    }
   }
  },
  {
   "cell_type": "code",
   "execution_count": 25,
   "outputs": [
    {
     "data": {
      "text/plain": "     id accession_number          artist artistRole  artistId  \\\n0  1035           A00001   Blake, Robert     artist        38   \n1  1036           A00002   Blake, Robert     artist        38   \n2  1037           A00003   Blake, Robert     artist        38   \n3  1038           A00004   Blake, Robert     artist        38   \n4  1039           A00005  Blake, William     artist        39   \n\n                                               title                dateText  \\\n0  A Figure Bowing before a Seated Old Man with h...          date not known   \n1  Two Drawings of Frightened Figures, Probably f...          date not known   \n2  The Preaching of Warning. Verso: An Old Man En...                 ?c.1785   \n3     Six Drawings of Figures with Outstretched Arms          date not known   \n4  The Circle of the Lustful: Francesca da Rimini...  1826–7, reprinted 1892   \n\n                                              medium  \\\n0  Watercolour, ink, chalk and graphite on paper....   \n1                                  Graphite on paper   \n2        Graphite on paper. Verso: graphite on paper   \n3                                  Graphite on paper   \n4                            Line engraving on paper   \n\n                                          creditLine  year  acquisitionYear  \\\n0                Presented by Mrs John Richmond 1922   NaN           1922.0   \n1                Presented by Mrs John Richmond 1922   NaN           1922.0   \n2                Presented by Mrs John Richmond 1922  1785           1922.0   \n3                Presented by Mrs John Richmond 1922   NaN           1922.0   \n4  Purchased with the assistance of a special gra...  1826           1919.0   \n\n              dimensions width height  depth units inscription  \\\n0  support: 394 x 419 mm   394    419    NaN    mm         NaN   \n1  support: 311 x 213 mm   311    213    NaN    mm         NaN   \n2  support: 343 x 467 mm   343    467    NaN    mm         NaN   \n3  support: 318 x 394 mm   318    394    NaN    mm         NaN   \n4    image: 243 x 335 mm   243    335    NaN    mm         NaN   \n\n  thumbnailCopyright                                       thumbnailUrl  \\\n0                NaN  http://www.tate.org.uk/art/images/work/A/A00/A...   \n1                NaN  http://www.tate.org.uk/art/images/work/A/A00/A...   \n2                NaN  http://www.tate.org.uk/art/images/work/A/A00/A...   \n3                NaN  http://www.tate.org.uk/art/images/work/A/A00/A...   \n4                NaN  http://www.tate.org.uk/art/images/work/A/A00/A...   \n\n                                                 url  \n0  http://www.tate.org.uk/art/artworks/blake-a-fi...  \n1  http://www.tate.org.uk/art/artworks/blake-two-...  \n2  http://www.tate.org.uk/art/artworks/blake-the-...  \n3  http://www.tate.org.uk/art/artworks/blake-six-...  \n4  http://www.tate.org.uk/art/artworks/blake-the-...  ",
      "text/html": "<div>\n<style scoped>\n    .dataframe tbody tr th:only-of-type {\n        vertical-align: middle;\n    }\n\n    .dataframe tbody tr th {\n        vertical-align: top;\n    }\n\n    .dataframe thead th {\n        text-align: right;\n    }\n</style>\n<table border=\"1\" class=\"dataframe\">\n  <thead>\n    <tr style=\"text-align: right;\">\n      <th></th>\n      <th>id</th>\n      <th>accession_number</th>\n      <th>artist</th>\n      <th>artistRole</th>\n      <th>artistId</th>\n      <th>title</th>\n      <th>dateText</th>\n      <th>medium</th>\n      <th>creditLine</th>\n      <th>year</th>\n      <th>acquisitionYear</th>\n      <th>dimensions</th>\n      <th>width</th>\n      <th>height</th>\n      <th>depth</th>\n      <th>units</th>\n      <th>inscription</th>\n      <th>thumbnailCopyright</th>\n      <th>thumbnailUrl</th>\n      <th>url</th>\n    </tr>\n  </thead>\n  <tbody>\n    <tr>\n      <th>0</th>\n      <td>1035</td>\n      <td>A00001</td>\n      <td>Blake, Robert</td>\n      <td>artist</td>\n      <td>38</td>\n      <td>A Figure Bowing before a Seated Old Man with h...</td>\n      <td>date not known</td>\n      <td>Watercolour, ink, chalk and graphite on paper....</td>\n      <td>Presented by Mrs John Richmond 1922</td>\n      <td>NaN</td>\n      <td>1922.0</td>\n      <td>support: 394 x 419 mm</td>\n      <td>394</td>\n      <td>419</td>\n      <td>NaN</td>\n      <td>mm</td>\n      <td>NaN</td>\n      <td>NaN</td>\n      <td>http://www.tate.org.uk/art/images/work/A/A00/A...</td>\n      <td>http://www.tate.org.uk/art/artworks/blake-a-fi...</td>\n    </tr>\n    <tr>\n      <th>1</th>\n      <td>1036</td>\n      <td>A00002</td>\n      <td>Blake, Robert</td>\n      <td>artist</td>\n      <td>38</td>\n      <td>Two Drawings of Frightened Figures, Probably f...</td>\n      <td>date not known</td>\n      <td>Graphite on paper</td>\n      <td>Presented by Mrs John Richmond 1922</td>\n      <td>NaN</td>\n      <td>1922.0</td>\n      <td>support: 311 x 213 mm</td>\n      <td>311</td>\n      <td>213</td>\n      <td>NaN</td>\n      <td>mm</td>\n      <td>NaN</td>\n      <td>NaN</td>\n      <td>http://www.tate.org.uk/art/images/work/A/A00/A...</td>\n      <td>http://www.tate.org.uk/art/artworks/blake-two-...</td>\n    </tr>\n    <tr>\n      <th>2</th>\n      <td>1037</td>\n      <td>A00003</td>\n      <td>Blake, Robert</td>\n      <td>artist</td>\n      <td>38</td>\n      <td>The Preaching of Warning. Verso: An Old Man En...</td>\n      <td>?c.1785</td>\n      <td>Graphite on paper. Verso: graphite on paper</td>\n      <td>Presented by Mrs John Richmond 1922</td>\n      <td>1785</td>\n      <td>1922.0</td>\n      <td>support: 343 x 467 mm</td>\n      <td>343</td>\n      <td>467</td>\n      <td>NaN</td>\n      <td>mm</td>\n      <td>NaN</td>\n      <td>NaN</td>\n      <td>http://www.tate.org.uk/art/images/work/A/A00/A...</td>\n      <td>http://www.tate.org.uk/art/artworks/blake-the-...</td>\n    </tr>\n    <tr>\n      <th>3</th>\n      <td>1038</td>\n      <td>A00004</td>\n      <td>Blake, Robert</td>\n      <td>artist</td>\n      <td>38</td>\n      <td>Six Drawings of Figures with Outstretched Arms</td>\n      <td>date not known</td>\n      <td>Graphite on paper</td>\n      <td>Presented by Mrs John Richmond 1922</td>\n      <td>NaN</td>\n      <td>1922.0</td>\n      <td>support: 318 x 394 mm</td>\n      <td>318</td>\n      <td>394</td>\n      <td>NaN</td>\n      <td>mm</td>\n      <td>NaN</td>\n      <td>NaN</td>\n      <td>http://www.tate.org.uk/art/images/work/A/A00/A...</td>\n      <td>http://www.tate.org.uk/art/artworks/blake-six-...</td>\n    </tr>\n    <tr>\n      <th>4</th>\n      <td>1039</td>\n      <td>A00005</td>\n      <td>Blake, William</td>\n      <td>artist</td>\n      <td>39</td>\n      <td>The Circle of the Lustful: Francesca da Rimini...</td>\n      <td>1826–7, reprinted 1892</td>\n      <td>Line engraving on paper</td>\n      <td>Purchased with the assistance of a special gra...</td>\n      <td>1826</td>\n      <td>1919.0</td>\n      <td>image: 243 x 335 mm</td>\n      <td>243</td>\n      <td>335</td>\n      <td>NaN</td>\n      <td>mm</td>\n      <td>NaN</td>\n      <td>NaN</td>\n      <td>http://www.tate.org.uk/art/images/work/A/A00/A...</td>\n      <td>http://www.tate.org.uk/art/artworks/blake-the-...</td>\n    </tr>\n  </tbody>\n</table>\n</div>"
     },
     "execution_count": 25,
     "metadata": {},
     "output_type": "execute_result"
    }
   ],
   "source": [
    "data = original_data.copy()\n",
    "data.head()"
   ],
   "metadata": {
    "collapsed": false,
    "pycharm": {
     "name": "#%%\n"
    }
   }
  },
  {
   "cell_type": "code",
   "execution_count": 26,
   "outputs": [
    {
     "data": {
      "text/plain": "           id accession_number              artist artistRole  artistId  \\\n0        1035           A00001       Blake, Robert     artist        38   \n1        1036           A00002       Blake, Robert     artist        38   \n2        1037           A00003       Blake, Robert     artist        38   \n3        1038           A00004       Blake, Robert     artist        38   \n4        1039           A00005      Blake, William     artist        39   \n...       ...              ...                 ...        ...       ...   \n69196  122960           T13865  P-Orridge, Genesis     artist     16646   \n69197  122961           T13866  P-Orridge, Genesis     artist     16646   \n69198  121181           T13867        Hatoum, Mona     artist      2365   \n69199  112306           T13868       Creed, Martin     artist      2760   \n69200  127035           T13869   Brunias, Agostino     artist      3824   \n\n                                                   title  \\\n0      A Figure Bowing before a Seated Old Man with h...   \n1      Two Drawings of Frightened Figures, Probably f...   \n2      The Preaching of Warning. Verso: An Old Man En...   \n3         Six Drawings of Figures with Outstretched Arms   \n4      The Circle of the Lustful: Francesca da Rimini...   \n...                                                  ...   \n69196                        Larvae (from Tampax Romana)   \n69197                   Living Womb (from Tampax Romana)   \n69198                                      Present Tense   \n69199          Work No. 227: The lights going on and off   \n69200                   Dancing Scene in the West Indies   \n\n                     dateText  \\\n0              date not known   \n1              date not known   \n2                     ?c.1785   \n3              date not known   \n4      1826–7, reprinted 1892   \n...                       ...   \n69196                    1975   \n69197                    1976   \n69198                    1996   \n69199                    2000   \n69200                 1764–96   \n\n                                                  medium  \\\n0      Watercolour, ink, chalk and graphite on paper....   \n1                                      Graphite on paper   \n2            Graphite on paper. Verso: graphite on paper   \n3                                      Graphite on paper   \n4                                Line engraving on paper   \n...                                                  ...   \n69196   Perspex, Wood, hairpiece, tampon and human blood   \n69197  Wood, Perspex, plastic, photograph on paper, t...   \n69198                               Soap and glass beads   \n69199                                   Gallery lighting   \n69200                                Oil paint on canvas   \n\n                                              creditLine  year  \\\n0                    Presented by Mrs John Richmond 1922     0   \n1                    Presented by Mrs John Richmond 1922     0   \n2                    Presented by Mrs John Richmond 1922  1785   \n3                    Presented by Mrs John Richmond 1922     0   \n4      Purchased with the assistance of a special gra...  1826   \n...                                                  ...   ...   \n69196                 Transferred from Tate Archive 2012  1975   \n69197                 Transferred from Tate Archive 2012  1976   \n69198                     Presented by Tate Members 2013  1996   \n69199  Purchased with funds provided by Tate Members,...  2000   \n69200  Purchased with assistance from Tate Patrons an...  1764   \n\n       acquisitionYear                           dimensions width height  \\\n0               1922.0                support: 394 x 419 mm   394    419   \n1               1922.0                support: 311 x 213 mm   311    213   \n2               1922.0                support: 343 x 467 mm   343    467   \n3               1922.0                support: 318 x 394 mm   318    394   \n4               1919.0                  image: 243 x 335 mm   243    335   \n...                ...                                  ...   ...    ...   \n69196           2013.0           object: 305 x 305 x 135 mm   305    305   \n69197           2013.0           object: 305 x 305 x 135 mm   305    305   \n69198           2013.0       displayed: 45 x 2410 x 2990 mm    45   2410   \n69199           2013.0  Overall display dimensions variable     0      0   \n69200           2013.0            unconfirmed: 508 x 660 mm   508    660   \n\n        depth units inscription thumbnailCopyright  \\\n0         0.0    mm           0                  0   \n1         0.0    mm           0                  0   \n2         0.0    mm           0                  0   \n3         0.0    mm           0                  0   \n4         0.0    mm           0                  0   \n...       ...   ...         ...                ...   \n69196   135.0    mm           0                  0   \n69197   135.0    mm           0                  0   \n69198  2990.0    mm           0                  0   \n69199     0.0     0           0                  0   \n69200     0.0    mm           0                  0   \n\n                                            thumbnailUrl  \\\n0      http://www.tate.org.uk/art/images/work/A/A00/A...   \n1      http://www.tate.org.uk/art/images/work/A/A00/A...   \n2      http://www.tate.org.uk/art/images/work/A/A00/A...   \n3      http://www.tate.org.uk/art/images/work/A/A00/A...   \n4      http://www.tate.org.uk/art/images/work/A/A00/A...   \n...                                                  ...   \n69196                                                  0   \n69197                                                  0   \n69198                                                  0   \n69199                                                  0   \n69200  http://www.tate.org.uk/art/images/work/T/T13/T...   \n\n                                                     url  \n0      http://www.tate.org.uk/art/artworks/blake-a-fi...  \n1      http://www.tate.org.uk/art/artworks/blake-two-...  \n2      http://www.tate.org.uk/art/artworks/blake-the-...  \n3      http://www.tate.org.uk/art/artworks/blake-six-...  \n4      http://www.tate.org.uk/art/artworks/blake-the-...  \n...                                                  ...  \n69196  http://www.tate.org.uk/art/artworks/p-orridge-...  \n69197  http://www.tate.org.uk/art/artworks/p-orridge-...  \n69198  http://www.tate.org.uk/art/artworks/hatoum-pre...  \n69199  http://www.tate.org.uk/art/artworks/creed-work...  \n69200  http://www.tate.org.uk/art/artworks/brunias-da...  \n\n[69201 rows x 20 columns]",
      "text/html": "<div>\n<style scoped>\n    .dataframe tbody tr th:only-of-type {\n        vertical-align: middle;\n    }\n\n    .dataframe tbody tr th {\n        vertical-align: top;\n    }\n\n    .dataframe thead th {\n        text-align: right;\n    }\n</style>\n<table border=\"1\" class=\"dataframe\">\n  <thead>\n    <tr style=\"text-align: right;\">\n      <th></th>\n      <th>id</th>\n      <th>accession_number</th>\n      <th>artist</th>\n      <th>artistRole</th>\n      <th>artistId</th>\n      <th>title</th>\n      <th>dateText</th>\n      <th>medium</th>\n      <th>creditLine</th>\n      <th>year</th>\n      <th>acquisitionYear</th>\n      <th>dimensions</th>\n      <th>width</th>\n      <th>height</th>\n      <th>depth</th>\n      <th>units</th>\n      <th>inscription</th>\n      <th>thumbnailCopyright</th>\n      <th>thumbnailUrl</th>\n      <th>url</th>\n    </tr>\n  </thead>\n  <tbody>\n    <tr>\n      <th>0</th>\n      <td>1035</td>\n      <td>A00001</td>\n      <td>Blake, Robert</td>\n      <td>artist</td>\n      <td>38</td>\n      <td>A Figure Bowing before a Seated Old Man with h...</td>\n      <td>date not known</td>\n      <td>Watercolour, ink, chalk and graphite on paper....</td>\n      <td>Presented by Mrs John Richmond 1922</td>\n      <td>0</td>\n      <td>1922.0</td>\n      <td>support: 394 x 419 mm</td>\n      <td>394</td>\n      <td>419</td>\n      <td>0.0</td>\n      <td>mm</td>\n      <td>0</td>\n      <td>0</td>\n      <td>http://www.tate.org.uk/art/images/work/A/A00/A...</td>\n      <td>http://www.tate.org.uk/art/artworks/blake-a-fi...</td>\n    </tr>\n    <tr>\n      <th>1</th>\n      <td>1036</td>\n      <td>A00002</td>\n      <td>Blake, Robert</td>\n      <td>artist</td>\n      <td>38</td>\n      <td>Two Drawings of Frightened Figures, Probably f...</td>\n      <td>date not known</td>\n      <td>Graphite on paper</td>\n      <td>Presented by Mrs John Richmond 1922</td>\n      <td>0</td>\n      <td>1922.0</td>\n      <td>support: 311 x 213 mm</td>\n      <td>311</td>\n      <td>213</td>\n      <td>0.0</td>\n      <td>mm</td>\n      <td>0</td>\n      <td>0</td>\n      <td>http://www.tate.org.uk/art/images/work/A/A00/A...</td>\n      <td>http://www.tate.org.uk/art/artworks/blake-two-...</td>\n    </tr>\n    <tr>\n      <th>2</th>\n      <td>1037</td>\n      <td>A00003</td>\n      <td>Blake, Robert</td>\n      <td>artist</td>\n      <td>38</td>\n      <td>The Preaching of Warning. Verso: An Old Man En...</td>\n      <td>?c.1785</td>\n      <td>Graphite on paper. Verso: graphite on paper</td>\n      <td>Presented by Mrs John Richmond 1922</td>\n      <td>1785</td>\n      <td>1922.0</td>\n      <td>support: 343 x 467 mm</td>\n      <td>343</td>\n      <td>467</td>\n      <td>0.0</td>\n      <td>mm</td>\n      <td>0</td>\n      <td>0</td>\n      <td>http://www.tate.org.uk/art/images/work/A/A00/A...</td>\n      <td>http://www.tate.org.uk/art/artworks/blake-the-...</td>\n    </tr>\n    <tr>\n      <th>3</th>\n      <td>1038</td>\n      <td>A00004</td>\n      <td>Blake, Robert</td>\n      <td>artist</td>\n      <td>38</td>\n      <td>Six Drawings of Figures with Outstretched Arms</td>\n      <td>date not known</td>\n      <td>Graphite on paper</td>\n      <td>Presented by Mrs John Richmond 1922</td>\n      <td>0</td>\n      <td>1922.0</td>\n      <td>support: 318 x 394 mm</td>\n      <td>318</td>\n      <td>394</td>\n      <td>0.0</td>\n      <td>mm</td>\n      <td>0</td>\n      <td>0</td>\n      <td>http://www.tate.org.uk/art/images/work/A/A00/A...</td>\n      <td>http://www.tate.org.uk/art/artworks/blake-six-...</td>\n    </tr>\n    <tr>\n      <th>4</th>\n      <td>1039</td>\n      <td>A00005</td>\n      <td>Blake, William</td>\n      <td>artist</td>\n      <td>39</td>\n      <td>The Circle of the Lustful: Francesca da Rimini...</td>\n      <td>1826–7, reprinted 1892</td>\n      <td>Line engraving on paper</td>\n      <td>Purchased with the assistance of a special gra...</td>\n      <td>1826</td>\n      <td>1919.0</td>\n      <td>image: 243 x 335 mm</td>\n      <td>243</td>\n      <td>335</td>\n      <td>0.0</td>\n      <td>mm</td>\n      <td>0</td>\n      <td>0</td>\n      <td>http://www.tate.org.uk/art/images/work/A/A00/A...</td>\n      <td>http://www.tate.org.uk/art/artworks/blake-the-...</td>\n    </tr>\n    <tr>\n      <th>...</th>\n      <td>...</td>\n      <td>...</td>\n      <td>...</td>\n      <td>...</td>\n      <td>...</td>\n      <td>...</td>\n      <td>...</td>\n      <td>...</td>\n      <td>...</td>\n      <td>...</td>\n      <td>...</td>\n      <td>...</td>\n      <td>...</td>\n      <td>...</td>\n      <td>...</td>\n      <td>...</td>\n      <td>...</td>\n      <td>...</td>\n      <td>...</td>\n      <td>...</td>\n    </tr>\n    <tr>\n      <th>69196</th>\n      <td>122960</td>\n      <td>T13865</td>\n      <td>P-Orridge, Genesis</td>\n      <td>artist</td>\n      <td>16646</td>\n      <td>Larvae (from Tampax Romana)</td>\n      <td>1975</td>\n      <td>Perspex, Wood, hairpiece, tampon and human blood</td>\n      <td>Transferred from Tate Archive 2012</td>\n      <td>1975</td>\n      <td>2013.0</td>\n      <td>object: 305 x 305 x 135 mm</td>\n      <td>305</td>\n      <td>305</td>\n      <td>135.0</td>\n      <td>mm</td>\n      <td>0</td>\n      <td>0</td>\n      <td>0</td>\n      <td>http://www.tate.org.uk/art/artworks/p-orridge-...</td>\n    </tr>\n    <tr>\n      <th>69197</th>\n      <td>122961</td>\n      <td>T13866</td>\n      <td>P-Orridge, Genesis</td>\n      <td>artist</td>\n      <td>16646</td>\n      <td>Living Womb (from Tampax Romana)</td>\n      <td>1976</td>\n      <td>Wood, Perspex, plastic, photograph on paper, t...</td>\n      <td>Transferred from Tate Archive 2012</td>\n      <td>1976</td>\n      <td>2013.0</td>\n      <td>object: 305 x 305 x 135 mm</td>\n      <td>305</td>\n      <td>305</td>\n      <td>135.0</td>\n      <td>mm</td>\n      <td>0</td>\n      <td>0</td>\n      <td>0</td>\n      <td>http://www.tate.org.uk/art/artworks/p-orridge-...</td>\n    </tr>\n    <tr>\n      <th>69198</th>\n      <td>121181</td>\n      <td>T13867</td>\n      <td>Hatoum, Mona</td>\n      <td>artist</td>\n      <td>2365</td>\n      <td>Present Tense</td>\n      <td>1996</td>\n      <td>Soap and glass beads</td>\n      <td>Presented by Tate Members 2013</td>\n      <td>1996</td>\n      <td>2013.0</td>\n      <td>displayed: 45 x 2410 x 2990 mm</td>\n      <td>45</td>\n      <td>2410</td>\n      <td>2990.0</td>\n      <td>mm</td>\n      <td>0</td>\n      <td>0</td>\n      <td>0</td>\n      <td>http://www.tate.org.uk/art/artworks/hatoum-pre...</td>\n    </tr>\n    <tr>\n      <th>69199</th>\n      <td>112306</td>\n      <td>T13868</td>\n      <td>Creed, Martin</td>\n      <td>artist</td>\n      <td>2760</td>\n      <td>Work No. 227: The lights going on and off</td>\n      <td>2000</td>\n      <td>Gallery lighting</td>\n      <td>Purchased with funds provided by Tate Members,...</td>\n      <td>2000</td>\n      <td>2013.0</td>\n      <td>Overall display dimensions variable</td>\n      <td>0</td>\n      <td>0</td>\n      <td>0.0</td>\n      <td>0</td>\n      <td>0</td>\n      <td>0</td>\n      <td>0</td>\n      <td>http://www.tate.org.uk/art/artworks/creed-work...</td>\n    </tr>\n    <tr>\n      <th>69200</th>\n      <td>127035</td>\n      <td>T13869</td>\n      <td>Brunias, Agostino</td>\n      <td>artist</td>\n      <td>3824</td>\n      <td>Dancing Scene in the West Indies</td>\n      <td>1764–96</td>\n      <td>Oil paint on canvas</td>\n      <td>Purchased with assistance from Tate Patrons an...</td>\n      <td>1764</td>\n      <td>2013.0</td>\n      <td>unconfirmed: 508 x 660 mm</td>\n      <td>508</td>\n      <td>660</td>\n      <td>0.0</td>\n      <td>mm</td>\n      <td>0</td>\n      <td>0</td>\n      <td>http://www.tate.org.uk/art/images/work/T/T13/T...</td>\n      <td>http://www.tate.org.uk/art/artworks/brunias-da...</td>\n    </tr>\n  </tbody>\n</table>\n<p>69201 rows × 20 columns</p>\n</div>"
     },
     "execution_count": 26,
     "metadata": {},
     "output_type": "execute_result"
    }
   ],
   "source": [
    "# fill all missing values with 0 (might not be the required case)\n",
    "data.fillna(0)\n"
   ],
   "metadata": {
    "collapsed": false,
    "pycharm": {
     "name": "#%%\n"
    }
   }
  },
  {
   "cell_type": "code",
   "execution_count": 27,
   "outputs": [
    {
     "data": {
      "text/plain": "           id accession_number              artist artistRole  artistId  \\\n0        1035           A00001       Blake, Robert     artist        38   \n1        1036           A00002       Blake, Robert     artist        38   \n2        1037           A00003       Blake, Robert     artist        38   \n3        1038           A00004       Blake, Robert     artist        38   \n4        1039           A00005      Blake, William     artist        39   \n...       ...              ...                 ...        ...       ...   \n69196  122960           T13865  P-Orridge, Genesis     artist     16646   \n69197  122961           T13866  P-Orridge, Genesis     artist     16646   \n69198  121181           T13867        Hatoum, Mona     artist      2365   \n69199  112306           T13868       Creed, Martin     artist      2760   \n69200  127035           T13869   Brunias, Agostino     artist      3824   \n\n                                                   title  \\\n0      A Figure Bowing before a Seated Old Man with h...   \n1      Two Drawings of Frightened Figures, Probably f...   \n2      The Preaching of Warning. Verso: An Old Man En...   \n3         Six Drawings of Figures with Outstretched Arms   \n4      The Circle of the Lustful: Francesca da Rimini...   \n...                                                  ...   \n69196                        Larvae (from Tampax Romana)   \n69197                   Living Womb (from Tampax Romana)   \n69198                                      Present Tense   \n69199          Work No. 227: The lights going on and off   \n69200                   Dancing Scene in the West Indies   \n\n                     dateText  \\\n0              date not known   \n1              date not known   \n2                     ?c.1785   \n3              date not known   \n4      1826–7, reprinted 1892   \n...                       ...   \n69196                    1975   \n69197                    1976   \n69198                    1996   \n69199                    2000   \n69200                 1764–96   \n\n                                                  medium  \\\n0      Watercolour, ink, chalk and graphite on paper....   \n1                                      Graphite on paper   \n2            Graphite on paper. Verso: graphite on paper   \n3                                      Graphite on paper   \n4                                Line engraving on paper   \n...                                                  ...   \n69196   Perspex, Wood, hairpiece, tampon and human blood   \n69197  Wood, Perspex, plastic, photograph on paper, t...   \n69198                               Soap and glass beads   \n69199                                   Gallery lighting   \n69200                                Oil paint on canvas   \n\n                                              creditLine  year  \\\n0                    Presented by Mrs John Richmond 1922   NaN   \n1                    Presented by Mrs John Richmond 1922   NaN   \n2                    Presented by Mrs John Richmond 1922  1785   \n3                    Presented by Mrs John Richmond 1922   NaN   \n4      Purchased with the assistance of a special gra...  1826   \n...                                                  ...   ...   \n69196                 Transferred from Tate Archive 2012  1975   \n69197                 Transferred from Tate Archive 2012  1976   \n69198                     Presented by Tate Members 2013  1996   \n69199  Purchased with funds provided by Tate Members,...  2000   \n69200  Purchased with assistance from Tate Patrons an...  1764   \n\n       acquisitionYear                           dimensions width height  \\\n0               1922.0                support: 394 x 419 mm   394    419   \n1               1922.0                support: 311 x 213 mm   311    213   \n2               1922.0                support: 343 x 467 mm   343    467   \n3               1922.0                support: 318 x 394 mm   318    394   \n4               1919.0                  image: 243 x 335 mm   243    335   \n...                ...                                  ...   ...    ...   \n69196           2013.0           object: 305 x 305 x 135 mm   305    305   \n69197           2013.0           object: 305 x 305 x 135 mm   305    305   \n69198           2013.0       displayed: 45 x 2410 x 2990 mm    45   2410   \n69199           2013.0  Overall display dimensions variable   NaN    NaN   \n69200           2013.0            unconfirmed: 508 x 660 mm   508    660   \n\n        depth units inscription thumbnailCopyright  \\\n0         0.0    mm         NaN                NaN   \n1         0.0    mm         NaN                NaN   \n2         0.0    mm         NaN                NaN   \n3         0.0    mm         NaN                NaN   \n4         0.0    mm         NaN                NaN   \n...       ...   ...         ...                ...   \n69196   135.0    mm         NaN                NaN   \n69197   135.0    mm         NaN                NaN   \n69198  2990.0    mm         NaN                NaN   \n69199     0.0   NaN         NaN                NaN   \n69200     0.0    mm         NaN                NaN   \n\n                                            thumbnailUrl  \\\n0      http://www.tate.org.uk/art/images/work/A/A00/A...   \n1      http://www.tate.org.uk/art/images/work/A/A00/A...   \n2      http://www.tate.org.uk/art/images/work/A/A00/A...   \n3      http://www.tate.org.uk/art/images/work/A/A00/A...   \n4      http://www.tate.org.uk/art/images/work/A/A00/A...   \n...                                                  ...   \n69196                                                NaN   \n69197                                                NaN   \n69198                                                NaN   \n69199                                                NaN   \n69200  http://www.tate.org.uk/art/images/work/T/T13/T...   \n\n                                                     url  \n0      http://www.tate.org.uk/art/artworks/blake-a-fi...  \n1      http://www.tate.org.uk/art/artworks/blake-two-...  \n2      http://www.tate.org.uk/art/artworks/blake-the-...  \n3      http://www.tate.org.uk/art/artworks/blake-six-...  \n4      http://www.tate.org.uk/art/artworks/blake-the-...  \n...                                                  ...  \n69196  http://www.tate.org.uk/art/artworks/p-orridge-...  \n69197  http://www.tate.org.uk/art/artworks/p-orridge-...  \n69198  http://www.tate.org.uk/art/artworks/hatoum-pre...  \n69199  http://www.tate.org.uk/art/artworks/creed-work...  \n69200  http://www.tate.org.uk/art/artworks/brunias-da...  \n\n[69201 rows x 20 columns]",
      "text/html": "<div>\n<style scoped>\n    .dataframe tbody tr th:only-of-type {\n        vertical-align: middle;\n    }\n\n    .dataframe tbody tr th {\n        vertical-align: top;\n    }\n\n    .dataframe thead th {\n        text-align: right;\n    }\n</style>\n<table border=\"1\" class=\"dataframe\">\n  <thead>\n    <tr style=\"text-align: right;\">\n      <th></th>\n      <th>id</th>\n      <th>accession_number</th>\n      <th>artist</th>\n      <th>artistRole</th>\n      <th>artistId</th>\n      <th>title</th>\n      <th>dateText</th>\n      <th>medium</th>\n      <th>creditLine</th>\n      <th>year</th>\n      <th>acquisitionYear</th>\n      <th>dimensions</th>\n      <th>width</th>\n      <th>height</th>\n      <th>depth</th>\n      <th>units</th>\n      <th>inscription</th>\n      <th>thumbnailCopyright</th>\n      <th>thumbnailUrl</th>\n      <th>url</th>\n    </tr>\n  </thead>\n  <tbody>\n    <tr>\n      <th>0</th>\n      <td>1035</td>\n      <td>A00001</td>\n      <td>Blake, Robert</td>\n      <td>artist</td>\n      <td>38</td>\n      <td>A Figure Bowing before a Seated Old Man with h...</td>\n      <td>date not known</td>\n      <td>Watercolour, ink, chalk and graphite on paper....</td>\n      <td>Presented by Mrs John Richmond 1922</td>\n      <td>NaN</td>\n      <td>1922.0</td>\n      <td>support: 394 x 419 mm</td>\n      <td>394</td>\n      <td>419</td>\n      <td>0.0</td>\n      <td>mm</td>\n      <td>NaN</td>\n      <td>NaN</td>\n      <td>http://www.tate.org.uk/art/images/work/A/A00/A...</td>\n      <td>http://www.tate.org.uk/art/artworks/blake-a-fi...</td>\n    </tr>\n    <tr>\n      <th>1</th>\n      <td>1036</td>\n      <td>A00002</td>\n      <td>Blake, Robert</td>\n      <td>artist</td>\n      <td>38</td>\n      <td>Two Drawings of Frightened Figures, Probably f...</td>\n      <td>date not known</td>\n      <td>Graphite on paper</td>\n      <td>Presented by Mrs John Richmond 1922</td>\n      <td>NaN</td>\n      <td>1922.0</td>\n      <td>support: 311 x 213 mm</td>\n      <td>311</td>\n      <td>213</td>\n      <td>0.0</td>\n      <td>mm</td>\n      <td>NaN</td>\n      <td>NaN</td>\n      <td>http://www.tate.org.uk/art/images/work/A/A00/A...</td>\n      <td>http://www.tate.org.uk/art/artworks/blake-two-...</td>\n    </tr>\n    <tr>\n      <th>2</th>\n      <td>1037</td>\n      <td>A00003</td>\n      <td>Blake, Robert</td>\n      <td>artist</td>\n      <td>38</td>\n      <td>The Preaching of Warning. Verso: An Old Man En...</td>\n      <td>?c.1785</td>\n      <td>Graphite on paper. Verso: graphite on paper</td>\n      <td>Presented by Mrs John Richmond 1922</td>\n      <td>1785</td>\n      <td>1922.0</td>\n      <td>support: 343 x 467 mm</td>\n      <td>343</td>\n      <td>467</td>\n      <td>0.0</td>\n      <td>mm</td>\n      <td>NaN</td>\n      <td>NaN</td>\n      <td>http://www.tate.org.uk/art/images/work/A/A00/A...</td>\n      <td>http://www.tate.org.uk/art/artworks/blake-the-...</td>\n    </tr>\n    <tr>\n      <th>3</th>\n      <td>1038</td>\n      <td>A00004</td>\n      <td>Blake, Robert</td>\n      <td>artist</td>\n      <td>38</td>\n      <td>Six Drawings of Figures with Outstretched Arms</td>\n      <td>date not known</td>\n      <td>Graphite on paper</td>\n      <td>Presented by Mrs John Richmond 1922</td>\n      <td>NaN</td>\n      <td>1922.0</td>\n      <td>support: 318 x 394 mm</td>\n      <td>318</td>\n      <td>394</td>\n      <td>0.0</td>\n      <td>mm</td>\n      <td>NaN</td>\n      <td>NaN</td>\n      <td>http://www.tate.org.uk/art/images/work/A/A00/A...</td>\n      <td>http://www.tate.org.uk/art/artworks/blake-six-...</td>\n    </tr>\n    <tr>\n      <th>4</th>\n      <td>1039</td>\n      <td>A00005</td>\n      <td>Blake, William</td>\n      <td>artist</td>\n      <td>39</td>\n      <td>The Circle of the Lustful: Francesca da Rimini...</td>\n      <td>1826–7, reprinted 1892</td>\n      <td>Line engraving on paper</td>\n      <td>Purchased with the assistance of a special gra...</td>\n      <td>1826</td>\n      <td>1919.0</td>\n      <td>image: 243 x 335 mm</td>\n      <td>243</td>\n      <td>335</td>\n      <td>0.0</td>\n      <td>mm</td>\n      <td>NaN</td>\n      <td>NaN</td>\n      <td>http://www.tate.org.uk/art/images/work/A/A00/A...</td>\n      <td>http://www.tate.org.uk/art/artworks/blake-the-...</td>\n    </tr>\n    <tr>\n      <th>...</th>\n      <td>...</td>\n      <td>...</td>\n      <td>...</td>\n      <td>...</td>\n      <td>...</td>\n      <td>...</td>\n      <td>...</td>\n      <td>...</td>\n      <td>...</td>\n      <td>...</td>\n      <td>...</td>\n      <td>...</td>\n      <td>...</td>\n      <td>...</td>\n      <td>...</td>\n      <td>...</td>\n      <td>...</td>\n      <td>...</td>\n      <td>...</td>\n      <td>...</td>\n    </tr>\n    <tr>\n      <th>69196</th>\n      <td>122960</td>\n      <td>T13865</td>\n      <td>P-Orridge, Genesis</td>\n      <td>artist</td>\n      <td>16646</td>\n      <td>Larvae (from Tampax Romana)</td>\n      <td>1975</td>\n      <td>Perspex, Wood, hairpiece, tampon and human blood</td>\n      <td>Transferred from Tate Archive 2012</td>\n      <td>1975</td>\n      <td>2013.0</td>\n      <td>object: 305 x 305 x 135 mm</td>\n      <td>305</td>\n      <td>305</td>\n      <td>135.0</td>\n      <td>mm</td>\n      <td>NaN</td>\n      <td>NaN</td>\n      <td>NaN</td>\n      <td>http://www.tate.org.uk/art/artworks/p-orridge-...</td>\n    </tr>\n    <tr>\n      <th>69197</th>\n      <td>122961</td>\n      <td>T13866</td>\n      <td>P-Orridge, Genesis</td>\n      <td>artist</td>\n      <td>16646</td>\n      <td>Living Womb (from Tampax Romana)</td>\n      <td>1976</td>\n      <td>Wood, Perspex, plastic, photograph on paper, t...</td>\n      <td>Transferred from Tate Archive 2012</td>\n      <td>1976</td>\n      <td>2013.0</td>\n      <td>object: 305 x 305 x 135 mm</td>\n      <td>305</td>\n      <td>305</td>\n      <td>135.0</td>\n      <td>mm</td>\n      <td>NaN</td>\n      <td>NaN</td>\n      <td>NaN</td>\n      <td>http://www.tate.org.uk/art/artworks/p-orridge-...</td>\n    </tr>\n    <tr>\n      <th>69198</th>\n      <td>121181</td>\n      <td>T13867</td>\n      <td>Hatoum, Mona</td>\n      <td>artist</td>\n      <td>2365</td>\n      <td>Present Tense</td>\n      <td>1996</td>\n      <td>Soap and glass beads</td>\n      <td>Presented by Tate Members 2013</td>\n      <td>1996</td>\n      <td>2013.0</td>\n      <td>displayed: 45 x 2410 x 2990 mm</td>\n      <td>45</td>\n      <td>2410</td>\n      <td>2990.0</td>\n      <td>mm</td>\n      <td>NaN</td>\n      <td>NaN</td>\n      <td>NaN</td>\n      <td>http://www.tate.org.uk/art/artworks/hatoum-pre...</td>\n    </tr>\n    <tr>\n      <th>69199</th>\n      <td>112306</td>\n      <td>T13868</td>\n      <td>Creed, Martin</td>\n      <td>artist</td>\n      <td>2760</td>\n      <td>Work No. 227: The lights going on and off</td>\n      <td>2000</td>\n      <td>Gallery lighting</td>\n      <td>Purchased with funds provided by Tate Members,...</td>\n      <td>2000</td>\n      <td>2013.0</td>\n      <td>Overall display dimensions variable</td>\n      <td>NaN</td>\n      <td>NaN</td>\n      <td>0.0</td>\n      <td>NaN</td>\n      <td>NaN</td>\n      <td>NaN</td>\n      <td>NaN</td>\n      <td>http://www.tate.org.uk/art/artworks/creed-work...</td>\n    </tr>\n    <tr>\n      <th>69200</th>\n      <td>127035</td>\n      <td>T13869</td>\n      <td>Brunias, Agostino</td>\n      <td>artist</td>\n      <td>3824</td>\n      <td>Dancing Scene in the West Indies</td>\n      <td>1764–96</td>\n      <td>Oil paint on canvas</td>\n      <td>Purchased with assistance from Tate Patrons an...</td>\n      <td>1764</td>\n      <td>2013.0</td>\n      <td>unconfirmed: 508 x 660 mm</td>\n      <td>508</td>\n      <td>660</td>\n      <td>0.0</td>\n      <td>mm</td>\n      <td>NaN</td>\n      <td>NaN</td>\n      <td>http://www.tate.org.uk/art/images/work/T/T13/T...</td>\n      <td>http://www.tate.org.uk/art/artworks/brunias-da...</td>\n    </tr>\n  </tbody>\n</table>\n<p>69201 rows × 20 columns</p>\n</div>"
     },
     "execution_count": 27,
     "metadata": {},
     "output_type": "execute_result"
    }
   ],
   "source": [
    "# we want to fill only depth column's missing values with 0\n",
    "data.fillna(value={'depth': 0})\n"
   ],
   "metadata": {
    "collapsed": false,
    "pycharm": {
     "name": "#%%\n"
    }
   }
  },
  {
   "cell_type": "code",
   "execution_count": 28,
   "outputs": [
    {
     "data": {
      "text/plain": "dtype('float64')"
     },
     "execution_count": 28,
     "metadata": {},
     "output_type": "execute_result"
    }
   ],
   "source": [
    "data.depth.dtype\n"
   ],
   "metadata": {
    "collapsed": false,
    "pycharm": {
     "name": "#%%\n"
    }
   }
  },
  {
   "cell_type": "code",
   "execution_count": 29,
   "outputs": [
    {
     "data": {
      "text/plain": "                                                  title   depth\n850                                   [title not known]   112.0\n1738                                            Pansies     4.0\n1739                                             Tulips     3.0\n1740                                        West Window     3.0\n1741                       Lillies Against Yellow House     3.0\n...                                                 ...     ...\n69194                  Venus Mound (from Tampax Romana)   135.0\n69195  It’s That Time Of The Month (from Tampax Romana)   135.0\n69196                       Larvae (from Tampax Romana)   135.0\n69197                  Living Womb (from Tampax Romana)   135.0\n69198                                     Present Tense  2990.0\n\n[2514 rows x 2 columns]",
      "text/html": "<div>\n<style scoped>\n    .dataframe tbody tr th:only-of-type {\n        vertical-align: middle;\n    }\n\n    .dataframe tbody tr th {\n        vertical-align: top;\n    }\n\n    .dataframe thead th {\n        text-align: right;\n    }\n</style>\n<table border=\"1\" class=\"dataframe\">\n  <thead>\n    <tr style=\"text-align: right;\">\n      <th></th>\n      <th>title</th>\n      <th>depth</th>\n    </tr>\n  </thead>\n  <tbody>\n    <tr>\n      <th>850</th>\n      <td>[title not known]</td>\n      <td>112.0</td>\n    </tr>\n    <tr>\n      <th>1738</th>\n      <td>Pansies</td>\n      <td>4.0</td>\n    </tr>\n    <tr>\n      <th>1739</th>\n      <td>Tulips</td>\n      <td>3.0</td>\n    </tr>\n    <tr>\n      <th>1740</th>\n      <td>West Window</td>\n      <td>3.0</td>\n    </tr>\n    <tr>\n      <th>1741</th>\n      <td>Lillies Against Yellow House</td>\n      <td>3.0</td>\n    </tr>\n    <tr>\n      <th>...</th>\n      <td>...</td>\n      <td>...</td>\n    </tr>\n    <tr>\n      <th>69194</th>\n      <td>Venus Mound (from Tampax Romana)</td>\n      <td>135.0</td>\n    </tr>\n    <tr>\n      <th>69195</th>\n      <td>It’s That Time Of The Month (from Tampax Romana)</td>\n      <td>135.0</td>\n    </tr>\n    <tr>\n      <th>69196</th>\n      <td>Larvae (from Tampax Romana)</td>\n      <td>135.0</td>\n    </tr>\n    <tr>\n      <th>69197</th>\n      <td>Living Womb (from Tampax Romana)</td>\n      <td>135.0</td>\n    </tr>\n    <tr>\n      <th>69198</th>\n      <td>Present Tense</td>\n      <td>2990.0</td>\n    </tr>\n  </tbody>\n</table>\n<p>2514 rows × 2 columns</p>\n</div>"
     },
     "execution_count": 29,
     "metadata": {},
     "output_type": "execute_result"
    }
   ],
   "source": [
    "data.loc[data.depth> 0, ['title', 'depth']]\n"
   ],
   "metadata": {
    "collapsed": false,
    "pycharm": {
     "name": "#%%\n"
    }
   }
  },
  {
   "cell_type": "code",
   "execution_count": 30,
   "outputs": [
    {
     "data": {
      "text/plain": "0   NaN\n1   NaN\n2   NaN\n3   NaN\n4   NaN\nName: depth, dtype: float64"
     },
     "execution_count": 30,
     "metadata": {},
     "output_type": "execute_result"
    }
   ],
   "source": [
    "data['depth'].head()\n"
   ],
   "metadata": {
    "collapsed": false,
    "pycharm": {
     "name": "#%%\n"
    }
   }
  },
  {
   "cell_type": "code",
   "execution_count": 31,
   "outputs": [],
   "source": [
    "data.fillna(value={'depth': 0}, inplace=True)\n"
   ],
   "metadata": {
    "collapsed": false,
    "pycharm": {
     "name": "#%%\n"
    }
   }
  },
  {
   "cell_type": "code",
   "execution_count": 32,
   "outputs": [
    {
     "data": {
      "text/plain": "0    0.0\n1    0.0\n2    0.0\n3    0.0\n4    0.0\nName: depth, dtype: float64"
     },
     "execution_count": 32,
     "metadata": {},
     "output_type": "execute_result"
    }
   ],
   "source": [
    "data['depth'].head()\n"
   ],
   "metadata": {
    "collapsed": false,
    "pycharm": {
     "name": "#%%\n"
    }
   }
  },
  {
   "cell_type": "markdown",
   "source": [
    "# Dropping rows of data\n"
   ],
   "metadata": {
    "collapsed": false,
    "pycharm": {
     "name": "#%% md\n"
    }
   }
  },
  {
   "cell_type": "code",
   "execution_count": 33,
   "outputs": [
    {
     "data": {
      "text/plain": "     id accession_number          artist artistRole  artistId  \\\n0  1035           A00001   Blake, Robert     artist        38   \n1  1036           A00002   Blake, Robert     artist        38   \n2  1037           A00003   Blake, Robert     artist        38   \n3  1038           A00004   Blake, Robert     artist        38   \n4  1039           A00005  Blake, William     artist        39   \n\n                                               title                dateText  \\\n0  A Figure Bowing before a Seated Old Man with h...          date not known   \n1  Two Drawings of Frightened Figures, Probably f...          date not known   \n2  The Preaching of Warning. Verso: An Old Man En...                 ?c.1785   \n3     Six Drawings of Figures with Outstretched Arms          date not known   \n4  The Circle of the Lustful: Francesca da Rimini...  1826–7, reprinted 1892   \n\n                                              medium  \\\n0  Watercolour, ink, chalk and graphite on paper....   \n1                                  Graphite on paper   \n2        Graphite on paper. Verso: graphite on paper   \n3                                  Graphite on paper   \n4                            Line engraving on paper   \n\n                                          creditLine  year  acquisitionYear  \\\n0                Presented by Mrs John Richmond 1922   NaN           1922.0   \n1                Presented by Mrs John Richmond 1922   NaN           1922.0   \n2                Presented by Mrs John Richmond 1922  1785           1922.0   \n3                Presented by Mrs John Richmond 1922   NaN           1922.0   \n4  Purchased with the assistance of a special gra...  1826           1919.0   \n\n              dimensions width height  depth units inscription  \\\n0  support: 394 x 419 mm   394    419    NaN    mm         NaN   \n1  support: 311 x 213 mm   311    213    NaN    mm         NaN   \n2  support: 343 x 467 mm   343    467    NaN    mm         NaN   \n3  support: 318 x 394 mm   318    394    NaN    mm         NaN   \n4    image: 243 x 335 mm   243    335    NaN    mm         NaN   \n\n  thumbnailCopyright                                       thumbnailUrl  \\\n0                NaN  http://www.tate.org.uk/art/images/work/A/A00/A...   \n1                NaN  http://www.tate.org.uk/art/images/work/A/A00/A...   \n2                NaN  http://www.tate.org.uk/art/images/work/A/A00/A...   \n3                NaN  http://www.tate.org.uk/art/images/work/A/A00/A...   \n4                NaN  http://www.tate.org.uk/art/images/work/A/A00/A...   \n\n                                                 url  \n0  http://www.tate.org.uk/art/artworks/blake-a-fi...  \n1  http://www.tate.org.uk/art/artworks/blake-two-...  \n2  http://www.tate.org.uk/art/artworks/blake-the-...  \n3  http://www.tate.org.uk/art/artworks/blake-six-...  \n4  http://www.tate.org.uk/art/artworks/blake-the-...  ",
      "text/html": "<div>\n<style scoped>\n    .dataframe tbody tr th:only-of-type {\n        vertical-align: middle;\n    }\n\n    .dataframe tbody tr th {\n        vertical-align: top;\n    }\n\n    .dataframe thead th {\n        text-align: right;\n    }\n</style>\n<table border=\"1\" class=\"dataframe\">\n  <thead>\n    <tr style=\"text-align: right;\">\n      <th></th>\n      <th>id</th>\n      <th>accession_number</th>\n      <th>artist</th>\n      <th>artistRole</th>\n      <th>artistId</th>\n      <th>title</th>\n      <th>dateText</th>\n      <th>medium</th>\n      <th>creditLine</th>\n      <th>year</th>\n      <th>acquisitionYear</th>\n      <th>dimensions</th>\n      <th>width</th>\n      <th>height</th>\n      <th>depth</th>\n      <th>units</th>\n      <th>inscription</th>\n      <th>thumbnailCopyright</th>\n      <th>thumbnailUrl</th>\n      <th>url</th>\n    </tr>\n  </thead>\n  <tbody>\n    <tr>\n      <th>0</th>\n      <td>1035</td>\n      <td>A00001</td>\n      <td>Blake, Robert</td>\n      <td>artist</td>\n      <td>38</td>\n      <td>A Figure Bowing before a Seated Old Man with h...</td>\n      <td>date not known</td>\n      <td>Watercolour, ink, chalk and graphite on paper....</td>\n      <td>Presented by Mrs John Richmond 1922</td>\n      <td>NaN</td>\n      <td>1922.0</td>\n      <td>support: 394 x 419 mm</td>\n      <td>394</td>\n      <td>419</td>\n      <td>NaN</td>\n      <td>mm</td>\n      <td>NaN</td>\n      <td>NaN</td>\n      <td>http://www.tate.org.uk/art/images/work/A/A00/A...</td>\n      <td>http://www.tate.org.uk/art/artworks/blake-a-fi...</td>\n    </tr>\n    <tr>\n      <th>1</th>\n      <td>1036</td>\n      <td>A00002</td>\n      <td>Blake, Robert</td>\n      <td>artist</td>\n      <td>38</td>\n      <td>Two Drawings of Frightened Figures, Probably f...</td>\n      <td>date not known</td>\n      <td>Graphite on paper</td>\n      <td>Presented by Mrs John Richmond 1922</td>\n      <td>NaN</td>\n      <td>1922.0</td>\n      <td>support: 311 x 213 mm</td>\n      <td>311</td>\n      <td>213</td>\n      <td>NaN</td>\n      <td>mm</td>\n      <td>NaN</td>\n      <td>NaN</td>\n      <td>http://www.tate.org.uk/art/images/work/A/A00/A...</td>\n      <td>http://www.tate.org.uk/art/artworks/blake-two-...</td>\n    </tr>\n    <tr>\n      <th>2</th>\n      <td>1037</td>\n      <td>A00003</td>\n      <td>Blake, Robert</td>\n      <td>artist</td>\n      <td>38</td>\n      <td>The Preaching of Warning. Verso: An Old Man En...</td>\n      <td>?c.1785</td>\n      <td>Graphite on paper. Verso: graphite on paper</td>\n      <td>Presented by Mrs John Richmond 1922</td>\n      <td>1785</td>\n      <td>1922.0</td>\n      <td>support: 343 x 467 mm</td>\n      <td>343</td>\n      <td>467</td>\n      <td>NaN</td>\n      <td>mm</td>\n      <td>NaN</td>\n      <td>NaN</td>\n      <td>http://www.tate.org.uk/art/images/work/A/A00/A...</td>\n      <td>http://www.tate.org.uk/art/artworks/blake-the-...</td>\n    </tr>\n    <tr>\n      <th>3</th>\n      <td>1038</td>\n      <td>A00004</td>\n      <td>Blake, Robert</td>\n      <td>artist</td>\n      <td>38</td>\n      <td>Six Drawings of Figures with Outstretched Arms</td>\n      <td>date not known</td>\n      <td>Graphite on paper</td>\n      <td>Presented by Mrs John Richmond 1922</td>\n      <td>NaN</td>\n      <td>1922.0</td>\n      <td>support: 318 x 394 mm</td>\n      <td>318</td>\n      <td>394</td>\n      <td>NaN</td>\n      <td>mm</td>\n      <td>NaN</td>\n      <td>NaN</td>\n      <td>http://www.tate.org.uk/art/images/work/A/A00/A...</td>\n      <td>http://www.tate.org.uk/art/artworks/blake-six-...</td>\n    </tr>\n    <tr>\n      <th>4</th>\n      <td>1039</td>\n      <td>A00005</td>\n      <td>Blake, William</td>\n      <td>artist</td>\n      <td>39</td>\n      <td>The Circle of the Lustful: Francesca da Rimini...</td>\n      <td>1826–7, reprinted 1892</td>\n      <td>Line engraving on paper</td>\n      <td>Purchased with the assistance of a special gra...</td>\n      <td>1826</td>\n      <td>1919.0</td>\n      <td>image: 243 x 335 mm</td>\n      <td>243</td>\n      <td>335</td>\n      <td>NaN</td>\n      <td>mm</td>\n      <td>NaN</td>\n      <td>NaN</td>\n      <td>http://www.tate.org.uk/art/images/work/A/A00/A...</td>\n      <td>http://www.tate.org.uk/art/artworks/blake-the-...</td>\n    </tr>\n  </tbody>\n</table>\n</div>"
     },
     "execution_count": 33,
     "metadata": {},
     "output_type": "execute_result"
    }
   ],
   "source": [
    "data = original_data.copy()\n",
    "data.head()"
   ],
   "metadata": {
    "collapsed": false,
    "pycharm": {
     "name": "#%%\n"
    }
   }
  },
  {
   "cell_type": "code",
   "execution_count": 34,
   "outputs": [
    {
     "data": {
      "text/plain": "(69201, 20)"
     },
     "execution_count": 34,
     "metadata": {},
     "output_type": "execute_result"
    }
   ],
   "source": [
    "data.shape\n"
   ],
   "metadata": {
    "collapsed": false,
    "pycharm": {
     "name": "#%%\n"
    }
   }
  },
  {
   "cell_type": "code",
   "execution_count": 35,
   "outputs": [
    {
     "data": {
      "text/plain": "          id accession_number                 artist artistRole  artistId  \\\n1738   98171          AR00001             Katz, Alex     artist      1386   \n1739   98172          AR00002             Katz, Alex     artist      1386   \n1740   98173          AR00003             Katz, Alex     artist      1386   \n1741   98174          AR00004             Katz, Alex     artist      1386   \n1742   98175          AR00005             Katz, Alex     artist      1386   \n...      ...              ...                    ...        ...       ...   \n61878  20155           T06453      Buchheister, Carl     artist      2276   \n62083  20568           T06659          Gober, Robert     artist      2309   \n62274  20984           T06858  Paolozzi, Sir Eduardo     artist      1738   \n62466  21517           T07052          Irvin, Albert     artist      1342   \n62596  21805           T07183       Davey, Grenville     artist      2295   \n\n                              title dateText  \\\n1738                        Pansies     1967   \n1739                         Tulips     1969   \n1740                    West Window     1979   \n1741   Lillies Against Yellow House     1983   \n1742                    Young Trees     1989   \n...                             ...      ...   \n61878            Composition Ursiem     1959   \n62083                        Drains     1990   \n62274                       Cyclops     1957   \n62466                    St Germain     1995   \n62596                        By Air     1989   \n\n                                                  medium  \\\n1738                              Oil paint on hardboard   \n1739                              Oil paint on hardboard   \n1740                              Oil paint on hardboard   \n1741                              Oil paint on hardboard   \n1742                              Oil paint on hardboard   \n...                                                  ...   \n61878  Graphite, ink, oil paint and adhesive on paper...   \n62083                                             Pewter   \n62274                                             Bronze   \n62466                            Acrylic paint on canvas   \n62596                          Hardboard, wood and steel   \n\n                                              creditLine  year  \\\n1738   ARTIST ROOMS Acquired jointly with the Nationa...  1967   \n1739   ARTIST ROOMS Acquired jointly with the Nationa...  1969   \n1740   ARTIST ROOMS Acquired jointly with the Nationa...  1979   \n1741   ARTIST ROOMS Acquired jointly with the Nationa...  1983   \n1742   ARTIST ROOMS Acquired jointly with the Nationa...  1989   \n...                                                  ...   ...   \n61878                       Presented by Willi Kemp 1991  1959   \n62083                                     Purchased 1992  1990   \n62274                                     Purchased 1994  1957   \n62466                                     Purchased 1996  1995   \n62596          Presented by Janet Wolfson de Botton 1996  1989   \n\n       acquisitionYear                                         dimensions  \\\n1738            2008.0  support: 309 x 404 x 4 mm frame: 322 x 424 x 3...   \n1739            2008.0  support: 356 x 253 x 3 mm frame: 375 x 273 x 3...   \n1740            2008.0  support: 196 x 238 x 3 mm frame: 216 x 256 x 3...   \n1741            2008.0  support: 307 x 229 x 3 mm frame: 327 x 249 x 3...   \n1742            2008.0  support: 407 x 301 x 3 mm frame: 426 x 320 x 3...   \n...                ...                                                ...   \n61878           1991.0                         support: 302 x 389 x 23 mm   \n62083           1992.0                            object: 94 x 94 x 42 mm   \n62274           1994.0                object: 692 x 370 x 320 mm, 36.4 kg   \n62466           1996.0                       support: 2140 x 3056 x 52 mm   \n62596           1996.0                   displayed: 1850 x 3250 x 1850 mm   \n\n      width height   depth units     inscription  \\\n1738    309    404     4.0    mm  date inscribed   \n1739    356    253     3.0    mm  date inscribed   \n1740    196    238     3.0    mm  date inscribed   \n1741    307    229     3.0    mm  date inscribed   \n1742    407    301     3.0    mm  date inscribed   \n...     ...    ...     ...   ...             ...   \n61878   302    389    23.0    mm  date inscribed   \n62083    94     94    42.0    mm  date inscribed   \n62274   692    370   320.0    mm  date inscribed   \n62466  2140   3056    52.0    mm  date inscribed   \n62596  1850   3250  1850.0    mm  date inscribed   \n\n                      thumbnailCopyright  \\\n1738                         © Alex Katz   \n1739                         © Alex Katz   \n1740                         © Alex Katz   \n1741                         © Alex Katz   \n1742                         © Alex Katz   \n...                                  ...   \n61878                       © DACS, 2014   \n62083                     © Robert Gober   \n62274  © The Eduardo Paolozzi Foundation   \n62466                     © Albert Irvin   \n62596                  © Grenville Davey   \n\n                                            thumbnailUrl  \\\n1738   http://www.tate.org.uk/art/images/work/AR/AR00...   \n1739   http://www.tate.org.uk/art/images/work/AR/AR00...   \n1740   http://www.tate.org.uk/art/images/work/AR/AR00...   \n1741   http://www.tate.org.uk/art/images/work/AR/AR00...   \n1742   http://www.tate.org.uk/art/images/work/AR/AR00...   \n...                                                  ...   \n61878  http://www.tate.org.uk/art/images/work/T/T06/T...   \n62083  http://www.tate.org.uk/art/images/work/T/T06/T...   \n62274  http://www.tate.org.uk/art/images/work/T/T06/T...   \n62466  http://www.tate.org.uk/art/images/work/T/T07/T...   \n62596  http://www.tate.org.uk/art/images/work/T/T07/T...   \n\n                                                     url  \n1738   http://www.tate.org.uk/art/artworks/katz-pansi...  \n1739   http://www.tate.org.uk/art/artworks/katz-tulip...  \n1740   http://www.tate.org.uk/art/artworks/katz-west-...  \n1741   http://www.tate.org.uk/art/artworks/katz-lilli...  \n1742   http://www.tate.org.uk/art/artworks/katz-young...  \n...                                                  ...  \n61878  http://www.tate.org.uk/art/artworks/buchheiste...  \n62083  http://www.tate.org.uk/art/artworks/gober-drai...  \n62274  http://www.tate.org.uk/art/artworks/paolozzi-c...  \n62466  http://www.tate.org.uk/art/artworks/irvin-st-g...  \n62596  http://www.tate.org.uk/art/artworks/davey-by-a...  \n\n[164 rows x 20 columns]",
      "text/html": "<div>\n<style scoped>\n    .dataframe tbody tr th:only-of-type {\n        vertical-align: middle;\n    }\n\n    .dataframe tbody tr th {\n        vertical-align: top;\n    }\n\n    .dataframe thead th {\n        text-align: right;\n    }\n</style>\n<table border=\"1\" class=\"dataframe\">\n  <thead>\n    <tr style=\"text-align: right;\">\n      <th></th>\n      <th>id</th>\n      <th>accession_number</th>\n      <th>artist</th>\n      <th>artistRole</th>\n      <th>artistId</th>\n      <th>title</th>\n      <th>dateText</th>\n      <th>medium</th>\n      <th>creditLine</th>\n      <th>year</th>\n      <th>acquisitionYear</th>\n      <th>dimensions</th>\n      <th>width</th>\n      <th>height</th>\n      <th>depth</th>\n      <th>units</th>\n      <th>inscription</th>\n      <th>thumbnailCopyright</th>\n      <th>thumbnailUrl</th>\n      <th>url</th>\n    </tr>\n  </thead>\n  <tbody>\n    <tr>\n      <th>1738</th>\n      <td>98171</td>\n      <td>AR00001</td>\n      <td>Katz, Alex</td>\n      <td>artist</td>\n      <td>1386</td>\n      <td>Pansies</td>\n      <td>1967</td>\n      <td>Oil paint on hardboard</td>\n      <td>ARTIST ROOMS Acquired jointly with the Nationa...</td>\n      <td>1967</td>\n      <td>2008.0</td>\n      <td>support: 309 x 404 x 4 mm frame: 322 x 424 x 3...</td>\n      <td>309</td>\n      <td>404</td>\n      <td>4.0</td>\n      <td>mm</td>\n      <td>date inscribed</td>\n      <td>© Alex Katz</td>\n      <td>http://www.tate.org.uk/art/images/work/AR/AR00...</td>\n      <td>http://www.tate.org.uk/art/artworks/katz-pansi...</td>\n    </tr>\n    <tr>\n      <th>1739</th>\n      <td>98172</td>\n      <td>AR00002</td>\n      <td>Katz, Alex</td>\n      <td>artist</td>\n      <td>1386</td>\n      <td>Tulips</td>\n      <td>1969</td>\n      <td>Oil paint on hardboard</td>\n      <td>ARTIST ROOMS Acquired jointly with the Nationa...</td>\n      <td>1969</td>\n      <td>2008.0</td>\n      <td>support: 356 x 253 x 3 mm frame: 375 x 273 x 3...</td>\n      <td>356</td>\n      <td>253</td>\n      <td>3.0</td>\n      <td>mm</td>\n      <td>date inscribed</td>\n      <td>© Alex Katz</td>\n      <td>http://www.tate.org.uk/art/images/work/AR/AR00...</td>\n      <td>http://www.tate.org.uk/art/artworks/katz-tulip...</td>\n    </tr>\n    <tr>\n      <th>1740</th>\n      <td>98173</td>\n      <td>AR00003</td>\n      <td>Katz, Alex</td>\n      <td>artist</td>\n      <td>1386</td>\n      <td>West Window</td>\n      <td>1979</td>\n      <td>Oil paint on hardboard</td>\n      <td>ARTIST ROOMS Acquired jointly with the Nationa...</td>\n      <td>1979</td>\n      <td>2008.0</td>\n      <td>support: 196 x 238 x 3 mm frame: 216 x 256 x 3...</td>\n      <td>196</td>\n      <td>238</td>\n      <td>3.0</td>\n      <td>mm</td>\n      <td>date inscribed</td>\n      <td>© Alex Katz</td>\n      <td>http://www.tate.org.uk/art/images/work/AR/AR00...</td>\n      <td>http://www.tate.org.uk/art/artworks/katz-west-...</td>\n    </tr>\n    <tr>\n      <th>1741</th>\n      <td>98174</td>\n      <td>AR00004</td>\n      <td>Katz, Alex</td>\n      <td>artist</td>\n      <td>1386</td>\n      <td>Lillies Against Yellow House</td>\n      <td>1983</td>\n      <td>Oil paint on hardboard</td>\n      <td>ARTIST ROOMS Acquired jointly with the Nationa...</td>\n      <td>1983</td>\n      <td>2008.0</td>\n      <td>support: 307 x 229 x 3 mm frame: 327 x 249 x 3...</td>\n      <td>307</td>\n      <td>229</td>\n      <td>3.0</td>\n      <td>mm</td>\n      <td>date inscribed</td>\n      <td>© Alex Katz</td>\n      <td>http://www.tate.org.uk/art/images/work/AR/AR00...</td>\n      <td>http://www.tate.org.uk/art/artworks/katz-lilli...</td>\n    </tr>\n    <tr>\n      <th>1742</th>\n      <td>98175</td>\n      <td>AR00005</td>\n      <td>Katz, Alex</td>\n      <td>artist</td>\n      <td>1386</td>\n      <td>Young Trees</td>\n      <td>1989</td>\n      <td>Oil paint on hardboard</td>\n      <td>ARTIST ROOMS Acquired jointly with the Nationa...</td>\n      <td>1989</td>\n      <td>2008.0</td>\n      <td>support: 407 x 301 x 3 mm frame: 426 x 320 x 3...</td>\n      <td>407</td>\n      <td>301</td>\n      <td>3.0</td>\n      <td>mm</td>\n      <td>date inscribed</td>\n      <td>© Alex Katz</td>\n      <td>http://www.tate.org.uk/art/images/work/AR/AR00...</td>\n      <td>http://www.tate.org.uk/art/artworks/katz-young...</td>\n    </tr>\n    <tr>\n      <th>...</th>\n      <td>...</td>\n      <td>...</td>\n      <td>...</td>\n      <td>...</td>\n      <td>...</td>\n      <td>...</td>\n      <td>...</td>\n      <td>...</td>\n      <td>...</td>\n      <td>...</td>\n      <td>...</td>\n      <td>...</td>\n      <td>...</td>\n      <td>...</td>\n      <td>...</td>\n      <td>...</td>\n      <td>...</td>\n      <td>...</td>\n      <td>...</td>\n      <td>...</td>\n    </tr>\n    <tr>\n      <th>61878</th>\n      <td>20155</td>\n      <td>T06453</td>\n      <td>Buchheister, Carl</td>\n      <td>artist</td>\n      <td>2276</td>\n      <td>Composition Ursiem</td>\n      <td>1959</td>\n      <td>Graphite, ink, oil paint and adhesive on paper...</td>\n      <td>Presented by Willi Kemp 1991</td>\n      <td>1959</td>\n      <td>1991.0</td>\n      <td>support: 302 x 389 x 23 mm</td>\n      <td>302</td>\n      <td>389</td>\n      <td>23.0</td>\n      <td>mm</td>\n      <td>date inscribed</td>\n      <td>© DACS, 2014</td>\n      <td>http://www.tate.org.uk/art/images/work/T/T06/T...</td>\n      <td>http://www.tate.org.uk/art/artworks/buchheiste...</td>\n    </tr>\n    <tr>\n      <th>62083</th>\n      <td>20568</td>\n      <td>T06659</td>\n      <td>Gober, Robert</td>\n      <td>artist</td>\n      <td>2309</td>\n      <td>Drains</td>\n      <td>1990</td>\n      <td>Pewter</td>\n      <td>Purchased 1992</td>\n      <td>1990</td>\n      <td>1992.0</td>\n      <td>object: 94 x 94 x 42 mm</td>\n      <td>94</td>\n      <td>94</td>\n      <td>42.0</td>\n      <td>mm</td>\n      <td>date inscribed</td>\n      <td>© Robert Gober</td>\n      <td>http://www.tate.org.uk/art/images/work/T/T06/T...</td>\n      <td>http://www.tate.org.uk/art/artworks/gober-drai...</td>\n    </tr>\n    <tr>\n      <th>62274</th>\n      <td>20984</td>\n      <td>T06858</td>\n      <td>Paolozzi, Sir Eduardo</td>\n      <td>artist</td>\n      <td>1738</td>\n      <td>Cyclops</td>\n      <td>1957</td>\n      <td>Bronze</td>\n      <td>Purchased 1994</td>\n      <td>1957</td>\n      <td>1994.0</td>\n      <td>object: 692 x 370 x 320 mm, 36.4 kg</td>\n      <td>692</td>\n      <td>370</td>\n      <td>320.0</td>\n      <td>mm</td>\n      <td>date inscribed</td>\n      <td>© The Eduardo Paolozzi Foundation</td>\n      <td>http://www.tate.org.uk/art/images/work/T/T06/T...</td>\n      <td>http://www.tate.org.uk/art/artworks/paolozzi-c...</td>\n    </tr>\n    <tr>\n      <th>62466</th>\n      <td>21517</td>\n      <td>T07052</td>\n      <td>Irvin, Albert</td>\n      <td>artist</td>\n      <td>1342</td>\n      <td>St Germain</td>\n      <td>1995</td>\n      <td>Acrylic paint on canvas</td>\n      <td>Purchased 1996</td>\n      <td>1995</td>\n      <td>1996.0</td>\n      <td>support: 2140 x 3056 x 52 mm</td>\n      <td>2140</td>\n      <td>3056</td>\n      <td>52.0</td>\n      <td>mm</td>\n      <td>date inscribed</td>\n      <td>© Albert Irvin</td>\n      <td>http://www.tate.org.uk/art/images/work/T/T07/T...</td>\n      <td>http://www.tate.org.uk/art/artworks/irvin-st-g...</td>\n    </tr>\n    <tr>\n      <th>62596</th>\n      <td>21805</td>\n      <td>T07183</td>\n      <td>Davey, Grenville</td>\n      <td>artist</td>\n      <td>2295</td>\n      <td>By Air</td>\n      <td>1989</td>\n      <td>Hardboard, wood and steel</td>\n      <td>Presented by Janet Wolfson de Botton 1996</td>\n      <td>1989</td>\n      <td>1996.0</td>\n      <td>displayed: 1850 x 3250 x 1850 mm</td>\n      <td>1850</td>\n      <td>3250</td>\n      <td>1850.0</td>\n      <td>mm</td>\n      <td>date inscribed</td>\n      <td>© Grenville Davey</td>\n      <td>http://www.tate.org.uk/art/images/work/T/T07/T...</td>\n      <td>http://www.tate.org.uk/art/artworks/davey-by-a...</td>\n    </tr>\n  </tbody>\n</table>\n<p>164 rows × 20 columns</p>\n</div>"
     },
     "execution_count": 35,
     "metadata": {},
     "output_type": "execute_result"
    }
   ],
   "source": [
    "data.dropna()\n"
   ],
   "metadata": {
    "collapsed": false,
    "pycharm": {
     "name": "#%%\n"
    }
   }
  },
  {
   "cell_type": "code",
   "execution_count": 36,
   "outputs": [
    {
     "data": {
      "text/plain": "(69201, 20)"
     },
     "execution_count": 36,
     "metadata": {},
     "output_type": "execute_result"
    }
   ],
   "source": [
    "data.shape\n"
   ],
   "metadata": {
    "collapsed": false,
    "pycharm": {
     "name": "#%%\n"
    }
   }
  },
  {
   "cell_type": "code",
   "execution_count": 37,
   "outputs": [
    {
     "data": {
      "text/plain": "           id accession_number              artist artistRole  artistId  \\\n0        1035           A00001       Blake, Robert     artist        38   \n1        1036           A00002       Blake, Robert     artist        38   \n2        1037           A00003       Blake, Robert     artist        38   \n3        1038           A00004       Blake, Robert     artist        38   \n4        1039           A00005      Blake, William     artist        39   \n...       ...              ...                 ...        ...       ...   \n69196  122960           T13865  P-Orridge, Genesis     artist     16646   \n69197  122961           T13866  P-Orridge, Genesis     artist     16646   \n69198  121181           T13867        Hatoum, Mona     artist      2365   \n69199  112306           T13868       Creed, Martin     artist      2760   \n69200  127035           T13869   Brunias, Agostino     artist      3824   \n\n                                                   title  \\\n0      A Figure Bowing before a Seated Old Man with h...   \n1      Two Drawings of Frightened Figures, Probably f...   \n2      The Preaching of Warning. Verso: An Old Man En...   \n3         Six Drawings of Figures with Outstretched Arms   \n4      The Circle of the Lustful: Francesca da Rimini...   \n...                                                  ...   \n69196                        Larvae (from Tampax Romana)   \n69197                   Living Womb (from Tampax Romana)   \n69198                                      Present Tense   \n69199          Work No. 227: The lights going on and off   \n69200                   Dancing Scene in the West Indies   \n\n                     dateText  \\\n0              date not known   \n1              date not known   \n2                     ?c.1785   \n3              date not known   \n4      1826–7, reprinted 1892   \n...                       ...   \n69196                    1975   \n69197                    1976   \n69198                    1996   \n69199                    2000   \n69200                 1764–96   \n\n                                                  medium  \\\n0      Watercolour, ink, chalk and graphite on paper....   \n1                                      Graphite on paper   \n2            Graphite on paper. Verso: graphite on paper   \n3                                      Graphite on paper   \n4                                Line engraving on paper   \n...                                                  ...   \n69196   Perspex, Wood, hairpiece, tampon and human blood   \n69197  Wood, Perspex, plastic, photograph on paper, t...   \n69198                               Soap and glass beads   \n69199                                   Gallery lighting   \n69200                                Oil paint on canvas   \n\n                                              creditLine  year  \\\n0                    Presented by Mrs John Richmond 1922   NaN   \n1                    Presented by Mrs John Richmond 1922   NaN   \n2                    Presented by Mrs John Richmond 1922  1785   \n3                    Presented by Mrs John Richmond 1922   NaN   \n4      Purchased with the assistance of a special gra...  1826   \n...                                                  ...   ...   \n69196                 Transferred from Tate Archive 2012  1975   \n69197                 Transferred from Tate Archive 2012  1976   \n69198                     Presented by Tate Members 2013  1996   \n69199  Purchased with funds provided by Tate Members,...  2000   \n69200  Purchased with assistance from Tate Patrons an...  1764   \n\n       acquisitionYear                           dimensions width height  \\\n0               1922.0                support: 394 x 419 mm   394    419   \n1               1922.0                support: 311 x 213 mm   311    213   \n2               1922.0                support: 343 x 467 mm   343    467   \n3               1922.0                support: 318 x 394 mm   318    394   \n4               1919.0                  image: 243 x 335 mm   243    335   \n...                ...                                  ...   ...    ...   \n69196           2013.0           object: 305 x 305 x 135 mm   305    305   \n69197           2013.0           object: 305 x 305 x 135 mm   305    305   \n69198           2013.0       displayed: 45 x 2410 x 2990 mm    45   2410   \n69199           2013.0  Overall display dimensions variable   NaN    NaN   \n69200           2013.0            unconfirmed: 508 x 660 mm   508    660   \n\n        depth units inscription thumbnailCopyright  \\\n0         NaN    mm         NaN                NaN   \n1         NaN    mm         NaN                NaN   \n2         NaN    mm         NaN                NaN   \n3         NaN    mm         NaN                NaN   \n4         NaN    mm         NaN                NaN   \n...       ...   ...         ...                ...   \n69196   135.0    mm         NaN                NaN   \n69197   135.0    mm         NaN                NaN   \n69198  2990.0    mm         NaN                NaN   \n69199     NaN   NaN         NaN                NaN   \n69200     NaN    mm         NaN                NaN   \n\n                                            thumbnailUrl  \\\n0      http://www.tate.org.uk/art/images/work/A/A00/A...   \n1      http://www.tate.org.uk/art/images/work/A/A00/A...   \n2      http://www.tate.org.uk/art/images/work/A/A00/A...   \n3      http://www.tate.org.uk/art/images/work/A/A00/A...   \n4      http://www.tate.org.uk/art/images/work/A/A00/A...   \n...                                                  ...   \n69196                                                NaN   \n69197                                                NaN   \n69198                                                NaN   \n69199                                                NaN   \n69200  http://www.tate.org.uk/art/images/work/T/T13/T...   \n\n                                                     url  \n0      http://www.tate.org.uk/art/artworks/blake-a-fi...  \n1      http://www.tate.org.uk/art/artworks/blake-two-...  \n2      http://www.tate.org.uk/art/artworks/blake-the-...  \n3      http://www.tate.org.uk/art/artworks/blake-six-...  \n4      http://www.tate.org.uk/art/artworks/blake-the-...  \n...                                                  ...  \n69196  http://www.tate.org.uk/art/artworks/p-orridge-...  \n69197  http://www.tate.org.uk/art/artworks/p-orridge-...  \n69198  http://www.tate.org.uk/art/artworks/hatoum-pre...  \n69199  http://www.tate.org.uk/art/artworks/creed-work...  \n69200  http://www.tate.org.uk/art/artworks/brunias-da...  \n\n[69201 rows x 20 columns]",
      "text/html": "<div>\n<style scoped>\n    .dataframe tbody tr th:only-of-type {\n        vertical-align: middle;\n    }\n\n    .dataframe tbody tr th {\n        vertical-align: top;\n    }\n\n    .dataframe thead th {\n        text-align: right;\n    }\n</style>\n<table border=\"1\" class=\"dataframe\">\n  <thead>\n    <tr style=\"text-align: right;\">\n      <th></th>\n      <th>id</th>\n      <th>accession_number</th>\n      <th>artist</th>\n      <th>artistRole</th>\n      <th>artistId</th>\n      <th>title</th>\n      <th>dateText</th>\n      <th>medium</th>\n      <th>creditLine</th>\n      <th>year</th>\n      <th>acquisitionYear</th>\n      <th>dimensions</th>\n      <th>width</th>\n      <th>height</th>\n      <th>depth</th>\n      <th>units</th>\n      <th>inscription</th>\n      <th>thumbnailCopyright</th>\n      <th>thumbnailUrl</th>\n      <th>url</th>\n    </tr>\n  </thead>\n  <tbody>\n    <tr>\n      <th>0</th>\n      <td>1035</td>\n      <td>A00001</td>\n      <td>Blake, Robert</td>\n      <td>artist</td>\n      <td>38</td>\n      <td>A Figure Bowing before a Seated Old Man with h...</td>\n      <td>date not known</td>\n      <td>Watercolour, ink, chalk and graphite on paper....</td>\n      <td>Presented by Mrs John Richmond 1922</td>\n      <td>NaN</td>\n      <td>1922.0</td>\n      <td>support: 394 x 419 mm</td>\n      <td>394</td>\n      <td>419</td>\n      <td>NaN</td>\n      <td>mm</td>\n      <td>NaN</td>\n      <td>NaN</td>\n      <td>http://www.tate.org.uk/art/images/work/A/A00/A...</td>\n      <td>http://www.tate.org.uk/art/artworks/blake-a-fi...</td>\n    </tr>\n    <tr>\n      <th>1</th>\n      <td>1036</td>\n      <td>A00002</td>\n      <td>Blake, Robert</td>\n      <td>artist</td>\n      <td>38</td>\n      <td>Two Drawings of Frightened Figures, Probably f...</td>\n      <td>date not known</td>\n      <td>Graphite on paper</td>\n      <td>Presented by Mrs John Richmond 1922</td>\n      <td>NaN</td>\n      <td>1922.0</td>\n      <td>support: 311 x 213 mm</td>\n      <td>311</td>\n      <td>213</td>\n      <td>NaN</td>\n      <td>mm</td>\n      <td>NaN</td>\n      <td>NaN</td>\n      <td>http://www.tate.org.uk/art/images/work/A/A00/A...</td>\n      <td>http://www.tate.org.uk/art/artworks/blake-two-...</td>\n    </tr>\n    <tr>\n      <th>2</th>\n      <td>1037</td>\n      <td>A00003</td>\n      <td>Blake, Robert</td>\n      <td>artist</td>\n      <td>38</td>\n      <td>The Preaching of Warning. Verso: An Old Man En...</td>\n      <td>?c.1785</td>\n      <td>Graphite on paper. Verso: graphite on paper</td>\n      <td>Presented by Mrs John Richmond 1922</td>\n      <td>1785</td>\n      <td>1922.0</td>\n      <td>support: 343 x 467 mm</td>\n      <td>343</td>\n      <td>467</td>\n      <td>NaN</td>\n      <td>mm</td>\n      <td>NaN</td>\n      <td>NaN</td>\n      <td>http://www.tate.org.uk/art/images/work/A/A00/A...</td>\n      <td>http://www.tate.org.uk/art/artworks/blake-the-...</td>\n    </tr>\n    <tr>\n      <th>3</th>\n      <td>1038</td>\n      <td>A00004</td>\n      <td>Blake, Robert</td>\n      <td>artist</td>\n      <td>38</td>\n      <td>Six Drawings of Figures with Outstretched Arms</td>\n      <td>date not known</td>\n      <td>Graphite on paper</td>\n      <td>Presented by Mrs John Richmond 1922</td>\n      <td>NaN</td>\n      <td>1922.0</td>\n      <td>support: 318 x 394 mm</td>\n      <td>318</td>\n      <td>394</td>\n      <td>NaN</td>\n      <td>mm</td>\n      <td>NaN</td>\n      <td>NaN</td>\n      <td>http://www.tate.org.uk/art/images/work/A/A00/A...</td>\n      <td>http://www.tate.org.uk/art/artworks/blake-six-...</td>\n    </tr>\n    <tr>\n      <th>4</th>\n      <td>1039</td>\n      <td>A00005</td>\n      <td>Blake, William</td>\n      <td>artist</td>\n      <td>39</td>\n      <td>The Circle of the Lustful: Francesca da Rimini...</td>\n      <td>1826–7, reprinted 1892</td>\n      <td>Line engraving on paper</td>\n      <td>Purchased with the assistance of a special gra...</td>\n      <td>1826</td>\n      <td>1919.0</td>\n      <td>image: 243 x 335 mm</td>\n      <td>243</td>\n      <td>335</td>\n      <td>NaN</td>\n      <td>mm</td>\n      <td>NaN</td>\n      <td>NaN</td>\n      <td>http://www.tate.org.uk/art/images/work/A/A00/A...</td>\n      <td>http://www.tate.org.uk/art/artworks/blake-the-...</td>\n    </tr>\n    <tr>\n      <th>...</th>\n      <td>...</td>\n      <td>...</td>\n      <td>...</td>\n      <td>...</td>\n      <td>...</td>\n      <td>...</td>\n      <td>...</td>\n      <td>...</td>\n      <td>...</td>\n      <td>...</td>\n      <td>...</td>\n      <td>...</td>\n      <td>...</td>\n      <td>...</td>\n      <td>...</td>\n      <td>...</td>\n      <td>...</td>\n      <td>...</td>\n      <td>...</td>\n      <td>...</td>\n    </tr>\n    <tr>\n      <th>69196</th>\n      <td>122960</td>\n      <td>T13865</td>\n      <td>P-Orridge, Genesis</td>\n      <td>artist</td>\n      <td>16646</td>\n      <td>Larvae (from Tampax Romana)</td>\n      <td>1975</td>\n      <td>Perspex, Wood, hairpiece, tampon and human blood</td>\n      <td>Transferred from Tate Archive 2012</td>\n      <td>1975</td>\n      <td>2013.0</td>\n      <td>object: 305 x 305 x 135 mm</td>\n      <td>305</td>\n      <td>305</td>\n      <td>135.0</td>\n      <td>mm</td>\n      <td>NaN</td>\n      <td>NaN</td>\n      <td>NaN</td>\n      <td>http://www.tate.org.uk/art/artworks/p-orridge-...</td>\n    </tr>\n    <tr>\n      <th>69197</th>\n      <td>122961</td>\n      <td>T13866</td>\n      <td>P-Orridge, Genesis</td>\n      <td>artist</td>\n      <td>16646</td>\n      <td>Living Womb (from Tampax Romana)</td>\n      <td>1976</td>\n      <td>Wood, Perspex, plastic, photograph on paper, t...</td>\n      <td>Transferred from Tate Archive 2012</td>\n      <td>1976</td>\n      <td>2013.0</td>\n      <td>object: 305 x 305 x 135 mm</td>\n      <td>305</td>\n      <td>305</td>\n      <td>135.0</td>\n      <td>mm</td>\n      <td>NaN</td>\n      <td>NaN</td>\n      <td>NaN</td>\n      <td>http://www.tate.org.uk/art/artworks/p-orridge-...</td>\n    </tr>\n    <tr>\n      <th>69198</th>\n      <td>121181</td>\n      <td>T13867</td>\n      <td>Hatoum, Mona</td>\n      <td>artist</td>\n      <td>2365</td>\n      <td>Present Tense</td>\n      <td>1996</td>\n      <td>Soap and glass beads</td>\n      <td>Presented by Tate Members 2013</td>\n      <td>1996</td>\n      <td>2013.0</td>\n      <td>displayed: 45 x 2410 x 2990 mm</td>\n      <td>45</td>\n      <td>2410</td>\n      <td>2990.0</td>\n      <td>mm</td>\n      <td>NaN</td>\n      <td>NaN</td>\n      <td>NaN</td>\n      <td>http://www.tate.org.uk/art/artworks/hatoum-pre...</td>\n    </tr>\n    <tr>\n      <th>69199</th>\n      <td>112306</td>\n      <td>T13868</td>\n      <td>Creed, Martin</td>\n      <td>artist</td>\n      <td>2760</td>\n      <td>Work No. 227: The lights going on and off</td>\n      <td>2000</td>\n      <td>Gallery lighting</td>\n      <td>Purchased with funds provided by Tate Members,...</td>\n      <td>2000</td>\n      <td>2013.0</td>\n      <td>Overall display dimensions variable</td>\n      <td>NaN</td>\n      <td>NaN</td>\n      <td>NaN</td>\n      <td>NaN</td>\n      <td>NaN</td>\n      <td>NaN</td>\n      <td>NaN</td>\n      <td>http://www.tate.org.uk/art/artworks/creed-work...</td>\n    </tr>\n    <tr>\n      <th>69200</th>\n      <td>127035</td>\n      <td>T13869</td>\n      <td>Brunias, Agostino</td>\n      <td>artist</td>\n      <td>3824</td>\n      <td>Dancing Scene in the West Indies</td>\n      <td>1764–96</td>\n      <td>Oil paint on canvas</td>\n      <td>Purchased with assistance from Tate Patrons an...</td>\n      <td>1764</td>\n      <td>2013.0</td>\n      <td>unconfirmed: 508 x 660 mm</td>\n      <td>508</td>\n      <td>660</td>\n      <td>NaN</td>\n      <td>mm</td>\n      <td>NaN</td>\n      <td>NaN</td>\n      <td>http://www.tate.org.uk/art/images/work/T/T13/T...</td>\n      <td>http://www.tate.org.uk/art/artworks/brunias-da...</td>\n    </tr>\n  </tbody>\n</table>\n<p>69201 rows × 20 columns</p>\n</div>"
     },
     "execution_count": 37,
     "metadata": {},
     "output_type": "execute_result"
    }
   ],
   "source": [
    "# pandas.DataFrame.dropna\n",
    "# DataFrame.dropna(*, axis=0, how=_NoDefault.no_default, thresh=_NoDefault.no_default, subset=None, inplace=False)\n",
    "# how = 'any' by default.\n",
    "data.dropna(how='all')\n"
   ],
   "metadata": {
    "collapsed": false,
    "pycharm": {
     "name": "#%%\n"
    }
   }
  },
  {
   "cell_type": "code",
   "execution_count": 38,
   "outputs": [
    {
     "data": {
      "text/plain": "           id accession_number              artist artistRole  artistId  \\\n0        1035           A00001       Blake, Robert     artist        38   \n1        1036           A00002       Blake, Robert     artist        38   \n2        1037           A00003       Blake, Robert     artist        38   \n3        1038           A00004       Blake, Robert     artist        38   \n4        1039           A00005      Blake, William     artist        39   \n...       ...              ...                 ...        ...       ...   \n69195  122959           T13864  P-Orridge, Genesis     artist     16646   \n69196  122960           T13865  P-Orridge, Genesis     artist     16646   \n69197  122961           T13866  P-Orridge, Genesis     artist     16646   \n69198  121181           T13867        Hatoum, Mona     artist      2365   \n69200  127035           T13869   Brunias, Agostino     artist      3824   \n\n                                                   title  \\\n0      A Figure Bowing before a Seated Old Man with h...   \n1      Two Drawings of Frightened Figures, Probably f...   \n2      The Preaching of Warning. Verso: An Old Man En...   \n3         Six Drawings of Figures with Outstretched Arms   \n4      The Circle of the Lustful: Francesca da Rimini...   \n...                                                  ...   \n69195   It’s That Time Of The Month (from Tampax Romana)   \n69196                        Larvae (from Tampax Romana)   \n69197                   Living Womb (from Tampax Romana)   \n69198                                      Present Tense   \n69200                   Dancing Scene in the West Indies   \n\n                     dateText  \\\n0              date not known   \n1              date not known   \n2                     ?c.1785   \n3              date not known   \n4      1826–7, reprinted 1892   \n...                       ...   \n69195                    1975   \n69196                    1975   \n69197                    1976   \n69198                    1996   \n69200                 1764–96   \n\n                                                  medium  \\\n0      Watercolour, ink, chalk and graphite on paper....   \n1                                      Graphite on paper   \n2            Graphite on paper. Verso: graphite on paper   \n3                                      Graphite on paper   \n4                                Line engraving on paper   \n...                                                  ...   \n69195  Wood, Perspex, clock case, tampons and human b...   \n69196   Perspex, Wood, hairpiece, tampon and human blood   \n69197  Wood, Perspex, plastic, photograph on paper, t...   \n69198                               Soap and glass beads   \n69200                                Oil paint on canvas   \n\n                                              creditLine  year  \\\n0                    Presented by Mrs John Richmond 1922   NaN   \n1                    Presented by Mrs John Richmond 1922   NaN   \n2                    Presented by Mrs John Richmond 1922  1785   \n3                    Presented by Mrs John Richmond 1922   NaN   \n4      Purchased with the assistance of a special gra...  1826   \n...                                                  ...   ...   \n69195                 Transferred from Tate Archive 2012  1975   \n69196                 Transferred from Tate Archive 2012  1975   \n69197                 Transferred from Tate Archive 2012  1976   \n69198                     Presented by Tate Members 2013  1996   \n69200  Purchased with assistance from Tate Patrons an...  1764   \n\n       acquisitionYear                      dimensions width height   depth  \\\n0               1922.0           support: 394 x 419 mm   394    419     NaN   \n1               1922.0           support: 311 x 213 mm   311    213     NaN   \n2               1922.0           support: 343 x 467 mm   343    467     NaN   \n3               1922.0           support: 318 x 394 mm   318    394     NaN   \n4               1919.0             image: 243 x 335 mm   243    335     NaN   \n...                ...                             ...   ...    ...     ...   \n69195           2013.0      object: 305 x 305 x 135 mm   305    305   135.0   \n69196           2013.0      object: 305 x 305 x 135 mm   305    305   135.0   \n69197           2013.0      object: 305 x 305 x 135 mm   305    305   135.0   \n69198           2013.0  displayed: 45 x 2410 x 2990 mm    45   2410  2990.0   \n69200           2013.0       unconfirmed: 508 x 660 mm   508    660     NaN   \n\n      units inscription   thumbnailCopyright  \\\n0        mm         NaN                  NaN   \n1        mm         NaN                  NaN   \n2        mm         NaN                  NaN   \n3        mm         NaN                  NaN   \n4        mm         NaN                  NaN   \n...     ...         ...                  ...   \n69195    mm         NaN  © Genesis P-Orridge   \n69196    mm         NaN                  NaN   \n69197    mm         NaN                  NaN   \n69198    mm         NaN                  NaN   \n69200    mm         NaN                  NaN   \n\n                                            thumbnailUrl  \\\n0      http://www.tate.org.uk/art/images/work/A/A00/A...   \n1      http://www.tate.org.uk/art/images/work/A/A00/A...   \n2      http://www.tate.org.uk/art/images/work/A/A00/A...   \n3      http://www.tate.org.uk/art/images/work/A/A00/A...   \n4      http://www.tate.org.uk/art/images/work/A/A00/A...   \n...                                                  ...   \n69195  http://www.tate.org.uk/art/images/work/T/T13/T...   \n69196                                                NaN   \n69197                                                NaN   \n69198                                                NaN   \n69200  http://www.tate.org.uk/art/images/work/T/T13/T...   \n\n                                                     url  \n0      http://www.tate.org.uk/art/artworks/blake-a-fi...  \n1      http://www.tate.org.uk/art/artworks/blake-two-...  \n2      http://www.tate.org.uk/art/artworks/blake-the-...  \n3      http://www.tate.org.uk/art/artworks/blake-six-...  \n4      http://www.tate.org.uk/art/artworks/blake-the-...  \n...                                                  ...  \n69195  http://www.tate.org.uk/art/artworks/p-orridge-...  \n69196  http://www.tate.org.uk/art/artworks/p-orridge-...  \n69197  http://www.tate.org.uk/art/artworks/p-orridge-...  \n69198  http://www.tate.org.uk/art/artworks/hatoum-pre...  \n69200  http://www.tate.org.uk/art/artworks/brunias-da...  \n\n[66379 rows x 20 columns]",
      "text/html": "<div>\n<style scoped>\n    .dataframe tbody tr th:only-of-type {\n        vertical-align: middle;\n    }\n\n    .dataframe tbody tr th {\n        vertical-align: top;\n    }\n\n    .dataframe thead th {\n        text-align: right;\n    }\n</style>\n<table border=\"1\" class=\"dataframe\">\n  <thead>\n    <tr style=\"text-align: right;\">\n      <th></th>\n      <th>id</th>\n      <th>accession_number</th>\n      <th>artist</th>\n      <th>artistRole</th>\n      <th>artistId</th>\n      <th>title</th>\n      <th>dateText</th>\n      <th>medium</th>\n      <th>creditLine</th>\n      <th>year</th>\n      <th>acquisitionYear</th>\n      <th>dimensions</th>\n      <th>width</th>\n      <th>height</th>\n      <th>depth</th>\n      <th>units</th>\n      <th>inscription</th>\n      <th>thumbnailCopyright</th>\n      <th>thumbnailUrl</th>\n      <th>url</th>\n    </tr>\n  </thead>\n  <tbody>\n    <tr>\n      <th>0</th>\n      <td>1035</td>\n      <td>A00001</td>\n      <td>Blake, Robert</td>\n      <td>artist</td>\n      <td>38</td>\n      <td>A Figure Bowing before a Seated Old Man with h...</td>\n      <td>date not known</td>\n      <td>Watercolour, ink, chalk and graphite on paper....</td>\n      <td>Presented by Mrs John Richmond 1922</td>\n      <td>NaN</td>\n      <td>1922.0</td>\n      <td>support: 394 x 419 mm</td>\n      <td>394</td>\n      <td>419</td>\n      <td>NaN</td>\n      <td>mm</td>\n      <td>NaN</td>\n      <td>NaN</td>\n      <td>http://www.tate.org.uk/art/images/work/A/A00/A...</td>\n      <td>http://www.tate.org.uk/art/artworks/blake-a-fi...</td>\n    </tr>\n    <tr>\n      <th>1</th>\n      <td>1036</td>\n      <td>A00002</td>\n      <td>Blake, Robert</td>\n      <td>artist</td>\n      <td>38</td>\n      <td>Two Drawings of Frightened Figures, Probably f...</td>\n      <td>date not known</td>\n      <td>Graphite on paper</td>\n      <td>Presented by Mrs John Richmond 1922</td>\n      <td>NaN</td>\n      <td>1922.0</td>\n      <td>support: 311 x 213 mm</td>\n      <td>311</td>\n      <td>213</td>\n      <td>NaN</td>\n      <td>mm</td>\n      <td>NaN</td>\n      <td>NaN</td>\n      <td>http://www.tate.org.uk/art/images/work/A/A00/A...</td>\n      <td>http://www.tate.org.uk/art/artworks/blake-two-...</td>\n    </tr>\n    <tr>\n      <th>2</th>\n      <td>1037</td>\n      <td>A00003</td>\n      <td>Blake, Robert</td>\n      <td>artist</td>\n      <td>38</td>\n      <td>The Preaching of Warning. Verso: An Old Man En...</td>\n      <td>?c.1785</td>\n      <td>Graphite on paper. Verso: graphite on paper</td>\n      <td>Presented by Mrs John Richmond 1922</td>\n      <td>1785</td>\n      <td>1922.0</td>\n      <td>support: 343 x 467 mm</td>\n      <td>343</td>\n      <td>467</td>\n      <td>NaN</td>\n      <td>mm</td>\n      <td>NaN</td>\n      <td>NaN</td>\n      <td>http://www.tate.org.uk/art/images/work/A/A00/A...</td>\n      <td>http://www.tate.org.uk/art/artworks/blake-the-...</td>\n    </tr>\n    <tr>\n      <th>3</th>\n      <td>1038</td>\n      <td>A00004</td>\n      <td>Blake, Robert</td>\n      <td>artist</td>\n      <td>38</td>\n      <td>Six Drawings of Figures with Outstretched Arms</td>\n      <td>date not known</td>\n      <td>Graphite on paper</td>\n      <td>Presented by Mrs John Richmond 1922</td>\n      <td>NaN</td>\n      <td>1922.0</td>\n      <td>support: 318 x 394 mm</td>\n      <td>318</td>\n      <td>394</td>\n      <td>NaN</td>\n      <td>mm</td>\n      <td>NaN</td>\n      <td>NaN</td>\n      <td>http://www.tate.org.uk/art/images/work/A/A00/A...</td>\n      <td>http://www.tate.org.uk/art/artworks/blake-six-...</td>\n    </tr>\n    <tr>\n      <th>4</th>\n      <td>1039</td>\n      <td>A00005</td>\n      <td>Blake, William</td>\n      <td>artist</td>\n      <td>39</td>\n      <td>The Circle of the Lustful: Francesca da Rimini...</td>\n      <td>1826–7, reprinted 1892</td>\n      <td>Line engraving on paper</td>\n      <td>Purchased with the assistance of a special gra...</td>\n      <td>1826</td>\n      <td>1919.0</td>\n      <td>image: 243 x 335 mm</td>\n      <td>243</td>\n      <td>335</td>\n      <td>NaN</td>\n      <td>mm</td>\n      <td>NaN</td>\n      <td>NaN</td>\n      <td>http://www.tate.org.uk/art/images/work/A/A00/A...</td>\n      <td>http://www.tate.org.uk/art/artworks/blake-the-...</td>\n    </tr>\n    <tr>\n      <th>...</th>\n      <td>...</td>\n      <td>...</td>\n      <td>...</td>\n      <td>...</td>\n      <td>...</td>\n      <td>...</td>\n      <td>...</td>\n      <td>...</td>\n      <td>...</td>\n      <td>...</td>\n      <td>...</td>\n      <td>...</td>\n      <td>...</td>\n      <td>...</td>\n      <td>...</td>\n      <td>...</td>\n      <td>...</td>\n      <td>...</td>\n      <td>...</td>\n      <td>...</td>\n    </tr>\n    <tr>\n      <th>69195</th>\n      <td>122959</td>\n      <td>T13864</td>\n      <td>P-Orridge, Genesis</td>\n      <td>artist</td>\n      <td>16646</td>\n      <td>It’s That Time Of The Month (from Tampax Romana)</td>\n      <td>1975</td>\n      <td>Wood, Perspex, clock case, tampons and human b...</td>\n      <td>Transferred from Tate Archive 2012</td>\n      <td>1975</td>\n      <td>2013.0</td>\n      <td>object: 305 x 305 x 135 mm</td>\n      <td>305</td>\n      <td>305</td>\n      <td>135.0</td>\n      <td>mm</td>\n      <td>NaN</td>\n      <td>© Genesis P-Orridge</td>\n      <td>http://www.tate.org.uk/art/images/work/T/T13/T...</td>\n      <td>http://www.tate.org.uk/art/artworks/p-orridge-...</td>\n    </tr>\n    <tr>\n      <th>69196</th>\n      <td>122960</td>\n      <td>T13865</td>\n      <td>P-Orridge, Genesis</td>\n      <td>artist</td>\n      <td>16646</td>\n      <td>Larvae (from Tampax Romana)</td>\n      <td>1975</td>\n      <td>Perspex, Wood, hairpiece, tampon and human blood</td>\n      <td>Transferred from Tate Archive 2012</td>\n      <td>1975</td>\n      <td>2013.0</td>\n      <td>object: 305 x 305 x 135 mm</td>\n      <td>305</td>\n      <td>305</td>\n      <td>135.0</td>\n      <td>mm</td>\n      <td>NaN</td>\n      <td>NaN</td>\n      <td>NaN</td>\n      <td>http://www.tate.org.uk/art/artworks/p-orridge-...</td>\n    </tr>\n    <tr>\n      <th>69197</th>\n      <td>122961</td>\n      <td>T13866</td>\n      <td>P-Orridge, Genesis</td>\n      <td>artist</td>\n      <td>16646</td>\n      <td>Living Womb (from Tampax Romana)</td>\n      <td>1976</td>\n      <td>Wood, Perspex, plastic, photograph on paper, t...</td>\n      <td>Transferred from Tate Archive 2012</td>\n      <td>1976</td>\n      <td>2013.0</td>\n      <td>object: 305 x 305 x 135 mm</td>\n      <td>305</td>\n      <td>305</td>\n      <td>135.0</td>\n      <td>mm</td>\n      <td>NaN</td>\n      <td>NaN</td>\n      <td>NaN</td>\n      <td>http://www.tate.org.uk/art/artworks/p-orridge-...</td>\n    </tr>\n    <tr>\n      <th>69198</th>\n      <td>121181</td>\n      <td>T13867</td>\n      <td>Hatoum, Mona</td>\n      <td>artist</td>\n      <td>2365</td>\n      <td>Present Tense</td>\n      <td>1996</td>\n      <td>Soap and glass beads</td>\n      <td>Presented by Tate Members 2013</td>\n      <td>1996</td>\n      <td>2013.0</td>\n      <td>displayed: 45 x 2410 x 2990 mm</td>\n      <td>45</td>\n      <td>2410</td>\n      <td>2990.0</td>\n      <td>mm</td>\n      <td>NaN</td>\n      <td>NaN</td>\n      <td>NaN</td>\n      <td>http://www.tate.org.uk/art/artworks/hatoum-pre...</td>\n    </tr>\n    <tr>\n      <th>69200</th>\n      <td>127035</td>\n      <td>T13869</td>\n      <td>Brunias, Agostino</td>\n      <td>artist</td>\n      <td>3824</td>\n      <td>Dancing Scene in the West Indies</td>\n      <td>1764–96</td>\n      <td>Oil paint on canvas</td>\n      <td>Purchased with assistance from Tate Patrons an...</td>\n      <td>1764</td>\n      <td>2013.0</td>\n      <td>unconfirmed: 508 x 660 mm</td>\n      <td>508</td>\n      <td>660</td>\n      <td>NaN</td>\n      <td>mm</td>\n      <td>NaN</td>\n      <td>NaN</td>\n      <td>http://www.tate.org.uk/art/images/work/T/T13/T...</td>\n      <td>http://www.tate.org.uk/art/artworks/brunias-da...</td>\n    </tr>\n  </tbody>\n</table>\n<p>66379 rows × 20 columns</p>\n</div>"
     },
     "execution_count": 38,
     "metadata": {},
     "output_type": "execute_result"
    }
   ],
   "source": [
    "# drop a row if >= 15 columns have NaN values\n",
    "data.dropna(thresh=15)\n"
   ],
   "metadata": {
    "collapsed": false,
    "pycharm": {
     "name": "#%%\n"
    }
   }
  },
  {
   "cell_type": "code",
   "execution_count": 39,
   "outputs": [
    {
     "data": {
      "text/plain": "(63781, 20)"
     },
     "execution_count": 39,
     "metadata": {},
     "output_type": "execute_result"
    }
   ],
   "source": [
    "# drop based on columns\n",
    "\n",
    "# drop rows, if year or acquisitionYear is NaN\n",
    "data.dropna(subset=['year', 'acquisitionYear']).shape\n",
    "\n"
   ],
   "metadata": {
    "collapsed": false,
    "pycharm": {
     "name": "#%%\n"
    }
   }
  },
  {
   "cell_type": "code",
   "execution_count": 40,
   "outputs": [
    {
     "data": {
      "text/plain": "(69198, 20)"
     },
     "execution_count": 40,
     "metadata": {},
     "output_type": "execute_result"
    }
   ],
   "source": [
    "# drop rows if year and acquisitionYear both are NaN\n",
    "data.dropna(subset=['year', 'acquisitionYear'], how='all').shape\n"
   ],
   "metadata": {
    "collapsed": false,
    "pycharm": {
     "name": "#%%\n"
    }
   }
  },
  {
   "cell_type": "code",
   "execution_count": 41,
   "outputs": [
    {
     "data": {
      "text/plain": "(69201, 20)"
     },
     "execution_count": 41,
     "metadata": {},
     "output_type": "execute_result"
    }
   ],
   "source": [
    "data.shape\n"
   ],
   "metadata": {
    "collapsed": false,
    "pycharm": {
     "name": "#%%\n"
    }
   }
  },
  {
   "cell_type": "code",
   "execution_count": 42,
   "outputs": [
    {
     "data": {
      "text/plain": "(63781, 20)"
     },
     "execution_count": 42,
     "metadata": {},
     "output_type": "execute_result"
    }
   ],
   "source": [
    "data.dropna(subset=['year', 'acquisitionYear'], inplace=True)\n",
    "data.shape\n"
   ],
   "metadata": {
    "collapsed": false,
    "pycharm": {
     "name": "#%%\n"
    }
   }
  },
  {
   "cell_type": "markdown",
   "source": [
    "# Identifying and Dropping Duplicate Data\n"
   ],
   "metadata": {
    "collapsed": false,
    "pycharm": {
     "name": "#%% md\n"
    }
   }
  },
  {
   "cell_type": "code",
   "execution_count": 43,
   "outputs": [],
   "source": [
    "sample_data = pd.read_csv('data/artwork_sample.csv')\n",
    "data = sample_data.copy()"
   ],
   "metadata": {
    "collapsed": false,
    "pycharm": {
     "name": "#%%\n"
    }
   }
  },
  {
   "cell_type": "code",
   "execution_count": 44,
   "outputs": [
    {
     "data": {
      "text/plain": "     id accession_number          artist artistRole  artistId  \\\n0  1035           A00001   Blake, Robert     artist        38   \n1  1036           A00002   Blake, Robert     artist        38   \n2  1037           A00003   Blake, Robert     artist        38   \n3  1038           A00004   Blake, Robert     artist        38   \n4  1039           A00005  Blake, William     artist        39   \n\n                                               title                dateText  \\\n0  A Figure Bowing before a Seated Old Man with h...          date not known   \n1  Two Drawings of Frightened Figures, Probably f...          date not known   \n2  The Preaching of Warning. Verso: An Old Man En...                 ?c.1785   \n3     Six Drawings of Figures with Outstretched Arms          date not known   \n4  The Circle of the Lustful: Francesca da Rimini...  1826–7, reprinted 1892   \n\n                                              medium  \\\n0  Watercolour, ink, chalk and graphite on paper....   \n1                                  Graphite on paper   \n2        Graphite on paper. Verso: graphite on paper   \n3                                  Graphite on paper   \n4                            Line engraving on paper   \n\n                                          creditLine    year  acquisitionYear  \\\n0                Presented by Mrs John Richmond 1922     NaN             1922   \n1                Presented by Mrs John Richmond 1922     NaN             1922   \n2                Presented by Mrs John Richmond 1922  1785.0             1922   \n3                Presented by Mrs John Richmond 1922     NaN             1922   \n4  Purchased with the assistance of a special gra...  1826.0             1919   \n\n              dimensions  width  height  depth units  inscription  \\\n0  support: 394 x 419 mm    394     419    NaN    mm          NaN   \n1  support: 311 x 213 mm    311     213    NaN    mm          NaN   \n2  support: 343 x 467 mm    343     467    NaN    mm          NaN   \n3  support: 318 x 394 mm    318     394    NaN    mm          NaN   \n4    image: 243 x 335 mm    243     335    NaN    mm          NaN   \n\n   thumbnailCopyright                                       thumbnailUrl  \\\n0                 NaN  http://www.tate.org.uk/art/images/work/A/A00/A...   \n1                 NaN  http://www.tate.org.uk/art/images/work/A/A00/A...   \n2                 NaN  http://www.tate.org.uk/art/images/work/A/A00/A...   \n3                 NaN  http://www.tate.org.uk/art/images/work/A/A00/A...   \n4                 NaN  http://www.tate.org.uk/art/images/work/A/A00/A...   \n\n                                                 url  \n0  http://www.tate.org.uk/art/artworks/blake-a-fi...  \n1  http://www.tate.org.uk/art/artworks/blake-two-...  \n2  http://www.tate.org.uk/art/artworks/blake-the-...  \n3  http://www.tate.org.uk/art/artworks/blake-six-...  \n4  http://www.tate.org.uk/art/artworks/blake-the-...  ",
      "text/html": "<div>\n<style scoped>\n    .dataframe tbody tr th:only-of-type {\n        vertical-align: middle;\n    }\n\n    .dataframe tbody tr th {\n        vertical-align: top;\n    }\n\n    .dataframe thead th {\n        text-align: right;\n    }\n</style>\n<table border=\"1\" class=\"dataframe\">\n  <thead>\n    <tr style=\"text-align: right;\">\n      <th></th>\n      <th>id</th>\n      <th>accession_number</th>\n      <th>artist</th>\n      <th>artistRole</th>\n      <th>artistId</th>\n      <th>title</th>\n      <th>dateText</th>\n      <th>medium</th>\n      <th>creditLine</th>\n      <th>year</th>\n      <th>acquisitionYear</th>\n      <th>dimensions</th>\n      <th>width</th>\n      <th>height</th>\n      <th>depth</th>\n      <th>units</th>\n      <th>inscription</th>\n      <th>thumbnailCopyright</th>\n      <th>thumbnailUrl</th>\n      <th>url</th>\n    </tr>\n  </thead>\n  <tbody>\n    <tr>\n      <th>0</th>\n      <td>1035</td>\n      <td>A00001</td>\n      <td>Blake, Robert</td>\n      <td>artist</td>\n      <td>38</td>\n      <td>A Figure Bowing before a Seated Old Man with h...</td>\n      <td>date not known</td>\n      <td>Watercolour, ink, chalk and graphite on paper....</td>\n      <td>Presented by Mrs John Richmond 1922</td>\n      <td>NaN</td>\n      <td>1922</td>\n      <td>support: 394 x 419 mm</td>\n      <td>394</td>\n      <td>419</td>\n      <td>NaN</td>\n      <td>mm</td>\n      <td>NaN</td>\n      <td>NaN</td>\n      <td>http://www.tate.org.uk/art/images/work/A/A00/A...</td>\n      <td>http://www.tate.org.uk/art/artworks/blake-a-fi...</td>\n    </tr>\n    <tr>\n      <th>1</th>\n      <td>1036</td>\n      <td>A00002</td>\n      <td>Blake, Robert</td>\n      <td>artist</td>\n      <td>38</td>\n      <td>Two Drawings of Frightened Figures, Probably f...</td>\n      <td>date not known</td>\n      <td>Graphite on paper</td>\n      <td>Presented by Mrs John Richmond 1922</td>\n      <td>NaN</td>\n      <td>1922</td>\n      <td>support: 311 x 213 mm</td>\n      <td>311</td>\n      <td>213</td>\n      <td>NaN</td>\n      <td>mm</td>\n      <td>NaN</td>\n      <td>NaN</td>\n      <td>http://www.tate.org.uk/art/images/work/A/A00/A...</td>\n      <td>http://www.tate.org.uk/art/artworks/blake-two-...</td>\n    </tr>\n    <tr>\n      <th>2</th>\n      <td>1037</td>\n      <td>A00003</td>\n      <td>Blake, Robert</td>\n      <td>artist</td>\n      <td>38</td>\n      <td>The Preaching of Warning. Verso: An Old Man En...</td>\n      <td>?c.1785</td>\n      <td>Graphite on paper. Verso: graphite on paper</td>\n      <td>Presented by Mrs John Richmond 1922</td>\n      <td>1785.0</td>\n      <td>1922</td>\n      <td>support: 343 x 467 mm</td>\n      <td>343</td>\n      <td>467</td>\n      <td>NaN</td>\n      <td>mm</td>\n      <td>NaN</td>\n      <td>NaN</td>\n      <td>http://www.tate.org.uk/art/images/work/A/A00/A...</td>\n      <td>http://www.tate.org.uk/art/artworks/blake-the-...</td>\n    </tr>\n    <tr>\n      <th>3</th>\n      <td>1038</td>\n      <td>A00004</td>\n      <td>Blake, Robert</td>\n      <td>artist</td>\n      <td>38</td>\n      <td>Six Drawings of Figures with Outstretched Arms</td>\n      <td>date not known</td>\n      <td>Graphite on paper</td>\n      <td>Presented by Mrs John Richmond 1922</td>\n      <td>NaN</td>\n      <td>1922</td>\n      <td>support: 318 x 394 mm</td>\n      <td>318</td>\n      <td>394</td>\n      <td>NaN</td>\n      <td>mm</td>\n      <td>NaN</td>\n      <td>NaN</td>\n      <td>http://www.tate.org.uk/art/images/work/A/A00/A...</td>\n      <td>http://www.tate.org.uk/art/artworks/blake-six-...</td>\n    </tr>\n    <tr>\n      <th>4</th>\n      <td>1039</td>\n      <td>A00005</td>\n      <td>Blake, William</td>\n      <td>artist</td>\n      <td>39</td>\n      <td>The Circle of the Lustful: Francesca da Rimini...</td>\n      <td>1826–7, reprinted 1892</td>\n      <td>Line engraving on paper</td>\n      <td>Purchased with the assistance of a special gra...</td>\n      <td>1826.0</td>\n      <td>1919</td>\n      <td>image: 243 x 335 mm</td>\n      <td>243</td>\n      <td>335</td>\n      <td>NaN</td>\n      <td>mm</td>\n      <td>NaN</td>\n      <td>NaN</td>\n      <td>http://www.tate.org.uk/art/images/work/A/A00/A...</td>\n      <td>http://www.tate.org.uk/art/artworks/blake-the-...</td>\n    </tr>\n  </tbody>\n</table>\n</div>"
     },
     "execution_count": 44,
     "metadata": {},
     "output_type": "execute_result"
    }
   ],
   "source": [
    "data.head()"
   ],
   "metadata": {
    "collapsed": false,
    "pycharm": {
     "name": "#%%\n"
    }
   }
  },
  {
   "cell_type": "code",
   "execution_count": 45,
   "outputs": [
    {
     "data": {
      "text/plain": "     id accession_number          artist artistRole  artistId  \\\n0  1035           A00001   Blake, Robert     artist        38   \n1  1036           A00002   Blake, Robert     artist        38   \n2  1037           A00003   Blake, Robert     artist        38   \n3  1038           A00004   Blake, Robert     artist        38   \n4  1039           A00005  Blake, William     artist        39   \n5  1040           A00006  Blake, William     artist        39   \n6  1041           A00007  Blake, William     artist        39   \n7  1042           A00008  Blake, William     artist        39   \n8  1043           A00009  Blake, William     artist        39   \n9  1044           A00010  Blake, William     artist        39   \n\n                                               title                dateText  \\\n0  A Figure Bowing before a Seated Old Man with h...          date not known   \n1  Two Drawings of Frightened Figures, Probably f...          date not known   \n2  The Preaching of Warning. Verso: An Old Man En...                 ?c.1785   \n3     Six Drawings of Figures with Outstretched Arms          date not known   \n4  The Circle of the Lustful: Francesca da Rimini...  1826–7, reprinted 1892   \n5      Ciampolo the Barrator Tormented by the Devils  1826–7, reprinted 1892   \n6                        The Baffled Devils Fighting  1826–7, reprinted 1892   \n7  The Six-Footed Serpent Attacking Agnolo Brunel...  1826–7, reprinted 1892   \n8                 The Serpent Attacking Buoso Donati  1826–7, reprinted 1892   \n9                 The Pit of Disease: The Falsifiers  1826–7, reprinted 1892   \n\n                                              medium  \\\n0  Watercolour, ink, chalk and graphite on paper....   \n1                                  Graphite on paper   \n2        Graphite on paper. Verso: graphite on paper   \n3                                  Graphite on paper   \n4                            Line engraving on paper   \n5                            Line engraving on paper   \n6                            Line engraving on paper   \n7                            Line engraving on paper   \n8                            Line engraving on paper   \n9                            Line engraving on paper   \n\n                                          creditLine    year  acquisitionYear  \\\n0                Presented by Mrs John Richmond 1922     NaN             1922   \n1                Presented by Mrs John Richmond 1922     NaN             1922   \n2                Presented by Mrs John Richmond 1922  1785.0             1922   \n3                Presented by Mrs John Richmond 1922     NaN             1922   \n4  Purchased with the assistance of a special gra...  1826.0             1919   \n5  Purchased with the assistance of a special gra...  1826.0             1919   \n6  Purchased with the assistance of a special gra...  1826.0             1919   \n7  Purchased with the assistance of a special gra...  1826.0             1919   \n8  Purchased with the assistance of a special gra...  1826.0             1919   \n9  Purchased with the assistance of a special gra...  1826.0             1919   \n\n              dimensions  width  height  depth units  inscription  \\\n0  support: 394 x 419 mm    394     419    NaN    mm          NaN   \n1  support: 311 x 213 mm    311     213    NaN    mm          NaN   \n2  support: 343 x 467 mm    343     467    NaN    mm          NaN   \n3  support: 318 x 394 mm    318     394    NaN    mm          NaN   \n4    image: 243 x 335 mm    243     335    NaN    mm          NaN   \n5    image: 240 x 338 mm    240     338    NaN    mm          NaN   \n6    image: 242 x 334 mm    242     334    NaN    mm          NaN   \n7    image: 246 x 340 mm    246     340    NaN    mm          NaN   \n8    image: 241 x 335 mm    241     335    NaN    mm          NaN   \n9    image: 243 x 340 mm    243     340    NaN    mm          NaN   \n\n   thumbnailCopyright                                       thumbnailUrl  \\\n0                 NaN  http://www.tate.org.uk/art/images/work/A/A00/A...   \n1                 NaN  http://www.tate.org.uk/art/images/work/A/A00/A...   \n2                 NaN  http://www.tate.org.uk/art/images/work/A/A00/A...   \n3                 NaN  http://www.tate.org.uk/art/images/work/A/A00/A...   \n4                 NaN  http://www.tate.org.uk/art/images/work/A/A00/A...   \n5                 NaN  http://www.tate.org.uk/art/images/work/A/A00/A...   \n6                 NaN  http://www.tate.org.uk/art/images/work/A/A00/A...   \n7                 NaN  http://www.tate.org.uk/art/images/work/A/A00/A...   \n8                 NaN  http://www.tate.org.uk/art/images/work/A/A00/A...   \n9                 NaN  http://www.tate.org.uk/art/images/work/A/A00/A...   \n\n                                                 url  \n0  http://www.tate.org.uk/art/artworks/blake-a-fi...  \n1  http://www.tate.org.uk/art/artworks/blake-two-...  \n2  http://www.tate.org.uk/art/artworks/blake-the-...  \n3  http://www.tate.org.uk/art/artworks/blake-six-...  \n4  http://www.tate.org.uk/art/artworks/blake-the-...  \n5  http://www.tate.org.uk/art/artworks/blake-ciam...  \n6  http://www.tate.org.uk/art/artworks/blake-the-...  \n7  http://www.tate.org.uk/art/artworks/blake-the-...  \n8  http://www.tate.org.uk/art/artworks/blake-the-...  \n9  http://www.tate.org.uk/art/artworks/blake-the-...  ",
      "text/html": "<div>\n<style scoped>\n    .dataframe tbody tr th:only-of-type {\n        vertical-align: middle;\n    }\n\n    .dataframe tbody tr th {\n        vertical-align: top;\n    }\n\n    .dataframe thead th {\n        text-align: right;\n    }\n</style>\n<table border=\"1\" class=\"dataframe\">\n  <thead>\n    <tr style=\"text-align: right;\">\n      <th></th>\n      <th>id</th>\n      <th>accession_number</th>\n      <th>artist</th>\n      <th>artistRole</th>\n      <th>artistId</th>\n      <th>title</th>\n      <th>dateText</th>\n      <th>medium</th>\n      <th>creditLine</th>\n      <th>year</th>\n      <th>acquisitionYear</th>\n      <th>dimensions</th>\n      <th>width</th>\n      <th>height</th>\n      <th>depth</th>\n      <th>units</th>\n      <th>inscription</th>\n      <th>thumbnailCopyright</th>\n      <th>thumbnailUrl</th>\n      <th>url</th>\n    </tr>\n  </thead>\n  <tbody>\n    <tr>\n      <th>0</th>\n      <td>1035</td>\n      <td>A00001</td>\n      <td>Blake, Robert</td>\n      <td>artist</td>\n      <td>38</td>\n      <td>A Figure Bowing before a Seated Old Man with h...</td>\n      <td>date not known</td>\n      <td>Watercolour, ink, chalk and graphite on paper....</td>\n      <td>Presented by Mrs John Richmond 1922</td>\n      <td>NaN</td>\n      <td>1922</td>\n      <td>support: 394 x 419 mm</td>\n      <td>394</td>\n      <td>419</td>\n      <td>NaN</td>\n      <td>mm</td>\n      <td>NaN</td>\n      <td>NaN</td>\n      <td>http://www.tate.org.uk/art/images/work/A/A00/A...</td>\n      <td>http://www.tate.org.uk/art/artworks/blake-a-fi...</td>\n    </tr>\n    <tr>\n      <th>1</th>\n      <td>1036</td>\n      <td>A00002</td>\n      <td>Blake, Robert</td>\n      <td>artist</td>\n      <td>38</td>\n      <td>Two Drawings of Frightened Figures, Probably f...</td>\n      <td>date not known</td>\n      <td>Graphite on paper</td>\n      <td>Presented by Mrs John Richmond 1922</td>\n      <td>NaN</td>\n      <td>1922</td>\n      <td>support: 311 x 213 mm</td>\n      <td>311</td>\n      <td>213</td>\n      <td>NaN</td>\n      <td>mm</td>\n      <td>NaN</td>\n      <td>NaN</td>\n      <td>http://www.tate.org.uk/art/images/work/A/A00/A...</td>\n      <td>http://www.tate.org.uk/art/artworks/blake-two-...</td>\n    </tr>\n    <tr>\n      <th>2</th>\n      <td>1037</td>\n      <td>A00003</td>\n      <td>Blake, Robert</td>\n      <td>artist</td>\n      <td>38</td>\n      <td>The Preaching of Warning. Verso: An Old Man En...</td>\n      <td>?c.1785</td>\n      <td>Graphite on paper. Verso: graphite on paper</td>\n      <td>Presented by Mrs John Richmond 1922</td>\n      <td>1785.0</td>\n      <td>1922</td>\n      <td>support: 343 x 467 mm</td>\n      <td>343</td>\n      <td>467</td>\n      <td>NaN</td>\n      <td>mm</td>\n      <td>NaN</td>\n      <td>NaN</td>\n      <td>http://www.tate.org.uk/art/images/work/A/A00/A...</td>\n      <td>http://www.tate.org.uk/art/artworks/blake-the-...</td>\n    </tr>\n    <tr>\n      <th>3</th>\n      <td>1038</td>\n      <td>A00004</td>\n      <td>Blake, Robert</td>\n      <td>artist</td>\n      <td>38</td>\n      <td>Six Drawings of Figures with Outstretched Arms</td>\n      <td>date not known</td>\n      <td>Graphite on paper</td>\n      <td>Presented by Mrs John Richmond 1922</td>\n      <td>NaN</td>\n      <td>1922</td>\n      <td>support: 318 x 394 mm</td>\n      <td>318</td>\n      <td>394</td>\n      <td>NaN</td>\n      <td>mm</td>\n      <td>NaN</td>\n      <td>NaN</td>\n      <td>http://www.tate.org.uk/art/images/work/A/A00/A...</td>\n      <td>http://www.tate.org.uk/art/artworks/blake-six-...</td>\n    </tr>\n    <tr>\n      <th>4</th>\n      <td>1039</td>\n      <td>A00005</td>\n      <td>Blake, William</td>\n      <td>artist</td>\n      <td>39</td>\n      <td>The Circle of the Lustful: Francesca da Rimini...</td>\n      <td>1826–7, reprinted 1892</td>\n      <td>Line engraving on paper</td>\n      <td>Purchased with the assistance of a special gra...</td>\n      <td>1826.0</td>\n      <td>1919</td>\n      <td>image: 243 x 335 mm</td>\n      <td>243</td>\n      <td>335</td>\n      <td>NaN</td>\n      <td>mm</td>\n      <td>NaN</td>\n      <td>NaN</td>\n      <td>http://www.tate.org.uk/art/images/work/A/A00/A...</td>\n      <td>http://www.tate.org.uk/art/artworks/blake-the-...</td>\n    </tr>\n    <tr>\n      <th>5</th>\n      <td>1040</td>\n      <td>A00006</td>\n      <td>Blake, William</td>\n      <td>artist</td>\n      <td>39</td>\n      <td>Ciampolo the Barrator Tormented by the Devils</td>\n      <td>1826–7, reprinted 1892</td>\n      <td>Line engraving on paper</td>\n      <td>Purchased with the assistance of a special gra...</td>\n      <td>1826.0</td>\n      <td>1919</td>\n      <td>image: 240 x 338 mm</td>\n      <td>240</td>\n      <td>338</td>\n      <td>NaN</td>\n      <td>mm</td>\n      <td>NaN</td>\n      <td>NaN</td>\n      <td>http://www.tate.org.uk/art/images/work/A/A00/A...</td>\n      <td>http://www.tate.org.uk/art/artworks/blake-ciam...</td>\n    </tr>\n    <tr>\n      <th>6</th>\n      <td>1041</td>\n      <td>A00007</td>\n      <td>Blake, William</td>\n      <td>artist</td>\n      <td>39</td>\n      <td>The Baffled Devils Fighting</td>\n      <td>1826–7, reprinted 1892</td>\n      <td>Line engraving on paper</td>\n      <td>Purchased with the assistance of a special gra...</td>\n      <td>1826.0</td>\n      <td>1919</td>\n      <td>image: 242 x 334 mm</td>\n      <td>242</td>\n      <td>334</td>\n      <td>NaN</td>\n      <td>mm</td>\n      <td>NaN</td>\n      <td>NaN</td>\n      <td>http://www.tate.org.uk/art/images/work/A/A00/A...</td>\n      <td>http://www.tate.org.uk/art/artworks/blake-the-...</td>\n    </tr>\n    <tr>\n      <th>7</th>\n      <td>1042</td>\n      <td>A00008</td>\n      <td>Blake, William</td>\n      <td>artist</td>\n      <td>39</td>\n      <td>The Six-Footed Serpent Attacking Agnolo Brunel...</td>\n      <td>1826–7, reprinted 1892</td>\n      <td>Line engraving on paper</td>\n      <td>Purchased with the assistance of a special gra...</td>\n      <td>1826.0</td>\n      <td>1919</td>\n      <td>image: 246 x 340 mm</td>\n      <td>246</td>\n      <td>340</td>\n      <td>NaN</td>\n      <td>mm</td>\n      <td>NaN</td>\n      <td>NaN</td>\n      <td>http://www.tate.org.uk/art/images/work/A/A00/A...</td>\n      <td>http://www.tate.org.uk/art/artworks/blake-the-...</td>\n    </tr>\n    <tr>\n      <th>8</th>\n      <td>1043</td>\n      <td>A00009</td>\n      <td>Blake, William</td>\n      <td>artist</td>\n      <td>39</td>\n      <td>The Serpent Attacking Buoso Donati</td>\n      <td>1826–7, reprinted 1892</td>\n      <td>Line engraving on paper</td>\n      <td>Purchased with the assistance of a special gra...</td>\n      <td>1826.0</td>\n      <td>1919</td>\n      <td>image: 241 x 335 mm</td>\n      <td>241</td>\n      <td>335</td>\n      <td>NaN</td>\n      <td>mm</td>\n      <td>NaN</td>\n      <td>NaN</td>\n      <td>http://www.tate.org.uk/art/images/work/A/A00/A...</td>\n      <td>http://www.tate.org.uk/art/artworks/blake-the-...</td>\n    </tr>\n    <tr>\n      <th>9</th>\n      <td>1044</td>\n      <td>A00010</td>\n      <td>Blake, William</td>\n      <td>artist</td>\n      <td>39</td>\n      <td>The Pit of Disease: The Falsifiers</td>\n      <td>1826–7, reprinted 1892</td>\n      <td>Line engraving on paper</td>\n      <td>Purchased with the assistance of a special gra...</td>\n      <td>1826.0</td>\n      <td>1919</td>\n      <td>image: 243 x 340 mm</td>\n      <td>243</td>\n      <td>340</td>\n      <td>NaN</td>\n      <td>mm</td>\n      <td>NaN</td>\n      <td>NaN</td>\n      <td>http://www.tate.org.uk/art/images/work/A/A00/A...</td>\n      <td>http://www.tate.org.uk/art/artworks/blake-the-...</td>\n    </tr>\n  </tbody>\n</table>\n</div>"
     },
     "execution_count": 45,
     "metadata": {},
     "output_type": "execute_result"
    }
   ],
   "source": [
    "# by default, drop rows if the whole row is duplicate to another row\n",
    "data.drop_duplicates()\n"
   ],
   "metadata": {
    "collapsed": false,
    "pycharm": {
     "name": "#%%\n"
    }
   }
  },
  {
   "cell_type": "code",
   "execution_count": 46,
   "outputs": [
    {
     "data": {
      "text/plain": "     id accession_number          artist artistRole  artistId  \\\n0  1035           A00001   Blake, Robert     artist        38   \n4  1039           A00005  Blake, William     artist        39   \n\n                                               title                dateText  \\\n0  A Figure Bowing before a Seated Old Man with h...          date not known   \n4  The Circle of the Lustful: Francesca da Rimini...  1826–7, reprinted 1892   \n\n                                              medium  \\\n0  Watercolour, ink, chalk and graphite on paper....   \n4                            Line engraving on paper   \n\n                                          creditLine    year  acquisitionYear  \\\n0                Presented by Mrs John Richmond 1922     NaN             1922   \n4  Purchased with the assistance of a special gra...  1826.0             1919   \n\n              dimensions  width  height  depth units  inscription  \\\n0  support: 394 x 419 mm    394     419    NaN    mm          NaN   \n4    image: 243 x 335 mm    243     335    NaN    mm          NaN   \n\n   thumbnailCopyright                                       thumbnailUrl  \\\n0                 NaN  http://www.tate.org.uk/art/images/work/A/A00/A...   \n4                 NaN  http://www.tate.org.uk/art/images/work/A/A00/A...   \n\n                                                 url  \n0  http://www.tate.org.uk/art/artworks/blake-a-fi...  \n4  http://www.tate.org.uk/art/artworks/blake-the-...  ",
      "text/html": "<div>\n<style scoped>\n    .dataframe tbody tr th:only-of-type {\n        vertical-align: middle;\n    }\n\n    .dataframe tbody tr th {\n        vertical-align: top;\n    }\n\n    .dataframe thead th {\n        text-align: right;\n    }\n</style>\n<table border=\"1\" class=\"dataframe\">\n  <thead>\n    <tr style=\"text-align: right;\">\n      <th></th>\n      <th>id</th>\n      <th>accession_number</th>\n      <th>artist</th>\n      <th>artistRole</th>\n      <th>artistId</th>\n      <th>title</th>\n      <th>dateText</th>\n      <th>medium</th>\n      <th>creditLine</th>\n      <th>year</th>\n      <th>acquisitionYear</th>\n      <th>dimensions</th>\n      <th>width</th>\n      <th>height</th>\n      <th>depth</th>\n      <th>units</th>\n      <th>inscription</th>\n      <th>thumbnailCopyright</th>\n      <th>thumbnailUrl</th>\n      <th>url</th>\n    </tr>\n  </thead>\n  <tbody>\n    <tr>\n      <th>0</th>\n      <td>1035</td>\n      <td>A00001</td>\n      <td>Blake, Robert</td>\n      <td>artist</td>\n      <td>38</td>\n      <td>A Figure Bowing before a Seated Old Man with h...</td>\n      <td>date not known</td>\n      <td>Watercolour, ink, chalk and graphite on paper....</td>\n      <td>Presented by Mrs John Richmond 1922</td>\n      <td>NaN</td>\n      <td>1922</td>\n      <td>support: 394 x 419 mm</td>\n      <td>394</td>\n      <td>419</td>\n      <td>NaN</td>\n      <td>mm</td>\n      <td>NaN</td>\n      <td>NaN</td>\n      <td>http://www.tate.org.uk/art/images/work/A/A00/A...</td>\n      <td>http://www.tate.org.uk/art/artworks/blake-a-fi...</td>\n    </tr>\n    <tr>\n      <th>4</th>\n      <td>1039</td>\n      <td>A00005</td>\n      <td>Blake, William</td>\n      <td>artist</td>\n      <td>39</td>\n      <td>The Circle of the Lustful: Francesca da Rimini...</td>\n      <td>1826–7, reprinted 1892</td>\n      <td>Line engraving on paper</td>\n      <td>Purchased with the assistance of a special gra...</td>\n      <td>1826.0</td>\n      <td>1919</td>\n      <td>image: 243 x 335 mm</td>\n      <td>243</td>\n      <td>335</td>\n      <td>NaN</td>\n      <td>mm</td>\n      <td>NaN</td>\n      <td>NaN</td>\n      <td>http://www.tate.org.uk/art/images/work/A/A00/A...</td>\n      <td>http://www.tate.org.uk/art/artworks/blake-the-...</td>\n    </tr>\n  </tbody>\n</table>\n</div>"
     },
     "execution_count": 46,
     "metadata": {},
     "output_type": "execute_result"
    }
   ],
   "source": [
    "# deleting duplicates based on a subset\n",
    "\n",
    "# this will delete the rows where artist value is duplicated within other rows.\n",
    "data.drop_duplicates(subset=['artist'])"
   ],
   "metadata": {
    "collapsed": false,
    "pycharm": {
     "name": "#%%\n"
    }
   }
  },
  {
   "cell_type": "code",
   "execution_count": 47,
   "outputs": [
    {
     "data": {
      "text/plain": "     id accession_number          artist artistRole  artistId  \\\n0  1035           A00001   Blake, Robert     artist        38   \n4  1039           A00005  Blake, William     artist        39   \n\n                                               title                dateText  \\\n0  A Figure Bowing before a Seated Old Man with h...          date not known   \n4  The Circle of the Lustful: Francesca da Rimini...  1826–7, reprinted 1892   \n\n                                              medium  \\\n0  Watercolour, ink, chalk and graphite on paper....   \n4                            Line engraving on paper   \n\n                                          creditLine    year  acquisitionYear  \\\n0                Presented by Mrs John Richmond 1922     NaN             1922   \n4  Purchased with the assistance of a special gra...  1826.0             1919   \n\n              dimensions  width  height  depth units  inscription  \\\n0  support: 394 x 419 mm    394     419    NaN    mm          NaN   \n4    image: 243 x 335 mm    243     335    NaN    mm          NaN   \n\n   thumbnailCopyright                                       thumbnailUrl  \\\n0                 NaN  http://www.tate.org.uk/art/images/work/A/A00/A...   \n4                 NaN  http://www.tate.org.uk/art/images/work/A/A00/A...   \n\n                                                 url  \n0  http://www.tate.org.uk/art/artworks/blake-a-fi...  \n4  http://www.tate.org.uk/art/artworks/blake-the-...  ",
      "text/html": "<div>\n<style scoped>\n    .dataframe tbody tr th:only-of-type {\n        vertical-align: middle;\n    }\n\n    .dataframe tbody tr th {\n        vertical-align: top;\n    }\n\n    .dataframe thead th {\n        text-align: right;\n    }\n</style>\n<table border=\"1\" class=\"dataframe\">\n  <thead>\n    <tr style=\"text-align: right;\">\n      <th></th>\n      <th>id</th>\n      <th>accession_number</th>\n      <th>artist</th>\n      <th>artistRole</th>\n      <th>artistId</th>\n      <th>title</th>\n      <th>dateText</th>\n      <th>medium</th>\n      <th>creditLine</th>\n      <th>year</th>\n      <th>acquisitionYear</th>\n      <th>dimensions</th>\n      <th>width</th>\n      <th>height</th>\n      <th>depth</th>\n      <th>units</th>\n      <th>inscription</th>\n      <th>thumbnailCopyright</th>\n      <th>thumbnailUrl</th>\n      <th>url</th>\n    </tr>\n  </thead>\n  <tbody>\n    <tr>\n      <th>0</th>\n      <td>1035</td>\n      <td>A00001</td>\n      <td>Blake, Robert</td>\n      <td>artist</td>\n      <td>38</td>\n      <td>A Figure Bowing before a Seated Old Man with h...</td>\n      <td>date not known</td>\n      <td>Watercolour, ink, chalk and graphite on paper....</td>\n      <td>Presented by Mrs John Richmond 1922</td>\n      <td>NaN</td>\n      <td>1922</td>\n      <td>support: 394 x 419 mm</td>\n      <td>394</td>\n      <td>419</td>\n      <td>NaN</td>\n      <td>mm</td>\n      <td>NaN</td>\n      <td>NaN</td>\n      <td>http://www.tate.org.uk/art/images/work/A/A00/A...</td>\n      <td>http://www.tate.org.uk/art/artworks/blake-a-fi...</td>\n    </tr>\n    <tr>\n      <th>4</th>\n      <td>1039</td>\n      <td>A00005</td>\n      <td>Blake, William</td>\n      <td>artist</td>\n      <td>39</td>\n      <td>The Circle of the Lustful: Francesca da Rimini...</td>\n      <td>1826–7, reprinted 1892</td>\n      <td>Line engraving on paper</td>\n      <td>Purchased with the assistance of a special gra...</td>\n      <td>1826.0</td>\n      <td>1919</td>\n      <td>image: 243 x 335 mm</td>\n      <td>243</td>\n      <td>335</td>\n      <td>NaN</td>\n      <td>mm</td>\n      <td>NaN</td>\n      <td>NaN</td>\n      <td>http://www.tate.org.uk/art/images/work/A/A00/A...</td>\n      <td>http://www.tate.org.uk/art/artworks/blake-the-...</td>\n    </tr>\n  </tbody>\n</table>\n</div>"
     },
     "execution_count": 47,
     "metadata": {},
     "output_type": "execute_result"
    }
   ],
   "source": [
    "data.drop_duplicates(subset=['artist'], keep='first')\n"
   ],
   "metadata": {
    "collapsed": false,
    "pycharm": {
     "name": "#%%\n"
    }
   }
  },
  {
   "cell_type": "code",
   "execution_count": 48,
   "outputs": [
    {
     "data": {
      "text/plain": "     id accession_number          artist artistRole  artistId  \\\n3  1038           A00004   Blake, Robert     artist        38   \n9  1044           A00010  Blake, William     artist        39   \n\n                                            title                dateText  \\\n3  Six Drawings of Figures with Outstretched Arms          date not known   \n9              The Pit of Disease: The Falsifiers  1826–7, reprinted 1892   \n\n                    medium                                         creditLine  \\\n3        Graphite on paper                Presented by Mrs John Richmond 1922   \n9  Line engraving on paper  Purchased with the assistance of a special gra...   \n\n     year  acquisitionYear             dimensions  width  height  depth units  \\\n3     NaN             1922  support: 318 x 394 mm    318     394    NaN    mm   \n9  1826.0             1919    image: 243 x 340 mm    243     340    NaN    mm   \n\n   inscription  thumbnailCopyright  \\\n3          NaN                 NaN   \n9          NaN                 NaN   \n\n                                        thumbnailUrl  \\\n3  http://www.tate.org.uk/art/images/work/A/A00/A...   \n9  http://www.tate.org.uk/art/images/work/A/A00/A...   \n\n                                                 url  \n3  http://www.tate.org.uk/art/artworks/blake-six-...  \n9  http://www.tate.org.uk/art/artworks/blake-the-...  ",
      "text/html": "<div>\n<style scoped>\n    .dataframe tbody tr th:only-of-type {\n        vertical-align: middle;\n    }\n\n    .dataframe tbody tr th {\n        vertical-align: top;\n    }\n\n    .dataframe thead th {\n        text-align: right;\n    }\n</style>\n<table border=\"1\" class=\"dataframe\">\n  <thead>\n    <tr style=\"text-align: right;\">\n      <th></th>\n      <th>id</th>\n      <th>accession_number</th>\n      <th>artist</th>\n      <th>artistRole</th>\n      <th>artistId</th>\n      <th>title</th>\n      <th>dateText</th>\n      <th>medium</th>\n      <th>creditLine</th>\n      <th>year</th>\n      <th>acquisitionYear</th>\n      <th>dimensions</th>\n      <th>width</th>\n      <th>height</th>\n      <th>depth</th>\n      <th>units</th>\n      <th>inscription</th>\n      <th>thumbnailCopyright</th>\n      <th>thumbnailUrl</th>\n      <th>url</th>\n    </tr>\n  </thead>\n  <tbody>\n    <tr>\n      <th>3</th>\n      <td>1038</td>\n      <td>A00004</td>\n      <td>Blake, Robert</td>\n      <td>artist</td>\n      <td>38</td>\n      <td>Six Drawings of Figures with Outstretched Arms</td>\n      <td>date not known</td>\n      <td>Graphite on paper</td>\n      <td>Presented by Mrs John Richmond 1922</td>\n      <td>NaN</td>\n      <td>1922</td>\n      <td>support: 318 x 394 mm</td>\n      <td>318</td>\n      <td>394</td>\n      <td>NaN</td>\n      <td>mm</td>\n      <td>NaN</td>\n      <td>NaN</td>\n      <td>http://www.tate.org.uk/art/images/work/A/A00/A...</td>\n      <td>http://www.tate.org.uk/art/artworks/blake-six-...</td>\n    </tr>\n    <tr>\n      <th>9</th>\n      <td>1044</td>\n      <td>A00010</td>\n      <td>Blake, William</td>\n      <td>artist</td>\n      <td>39</td>\n      <td>The Pit of Disease: The Falsifiers</td>\n      <td>1826–7, reprinted 1892</td>\n      <td>Line engraving on paper</td>\n      <td>Purchased with the assistance of a special gra...</td>\n      <td>1826.0</td>\n      <td>1919</td>\n      <td>image: 243 x 340 mm</td>\n      <td>243</td>\n      <td>340</td>\n      <td>NaN</td>\n      <td>mm</td>\n      <td>NaN</td>\n      <td>NaN</td>\n      <td>http://www.tate.org.uk/art/images/work/A/A00/A...</td>\n      <td>http://www.tate.org.uk/art/artworks/blake-the-...</td>\n    </tr>\n  </tbody>\n</table>\n</div>"
     },
     "execution_count": 48,
     "metadata": {},
     "output_type": "execute_result"
    }
   ],
   "source": [
    "data.drop_duplicates(subset=['artist'], keep='last')\n"
   ],
   "metadata": {
    "collapsed": false,
    "pycharm": {
     "name": "#%%\n"
    }
   }
  },
  {
   "cell_type": "code",
   "execution_count": 49,
   "outputs": [
    {
     "data": {
      "text/plain": "Empty DataFrame\nColumns: [id, accession_number, artist, artistRole, artistId, title, dateText, medium, creditLine, year, acquisitionYear, dimensions, width, height, depth, units, inscription, thumbnailCopyright, thumbnailUrl, url]\nIndex: []",
      "text/html": "<div>\n<style scoped>\n    .dataframe tbody tr th:only-of-type {\n        vertical-align: middle;\n    }\n\n    .dataframe tbody tr th {\n        vertical-align: top;\n    }\n\n    .dataframe thead th {\n        text-align: right;\n    }\n</style>\n<table border=\"1\" class=\"dataframe\">\n  <thead>\n    <tr style=\"text-align: right;\">\n      <th></th>\n      <th>id</th>\n      <th>accession_number</th>\n      <th>artist</th>\n      <th>artistRole</th>\n      <th>artistId</th>\n      <th>title</th>\n      <th>dateText</th>\n      <th>medium</th>\n      <th>creditLine</th>\n      <th>year</th>\n      <th>acquisitionYear</th>\n      <th>dimensions</th>\n      <th>width</th>\n      <th>height</th>\n      <th>depth</th>\n      <th>units</th>\n      <th>inscription</th>\n      <th>thumbnailCopyright</th>\n      <th>thumbnailUrl</th>\n      <th>url</th>\n    </tr>\n  </thead>\n  <tbody>\n  </tbody>\n</table>\n</div>"
     },
     "execution_count": 49,
     "metadata": {},
     "output_type": "execute_result"
    }
   ],
   "source": [
    "data.drop_duplicates(subset=['artist'], keep=False)\n"
   ],
   "metadata": {
    "collapsed": false,
    "pycharm": {
     "name": "#%%\n"
    }
   }
  },
  {
   "cell_type": "code",
   "execution_count": 50,
   "outputs": [
    {
     "data": {
      "text/plain": "     id accession_number          artist artistRole  artistId  \\\n0  1035           A00001   Blake, Robert     artist        38   \n1  1036           A00002   Blake, Robert     artist        38   \n2  1037           A00003   Blake, Robert     artist        38   \n3  1038           A00004   Blake, Robert     artist        38   \n4  1039           A00005  Blake, William     artist        39   \n5  1040           A00006  Blake, William     artist        39   \n6  1041           A00007  Blake, William     artist        39   \n7  1042           A00008  Blake, William     artist        39   \n8  1043           A00009  Blake, William     artist        39   \n9  1044           A00010  Blake, William     artist        39   \n\n                                               title                dateText  \\\n0  A Figure Bowing before a Seated Old Man with h...          date not known   \n1  Two Drawings of Frightened Figures, Probably f...          date not known   \n2  The Preaching of Warning. Verso: An Old Man En...                 ?c.1785   \n3     Six Drawings of Figures with Outstretched Arms          date not known   \n4  The Circle of the Lustful: Francesca da Rimini...  1826–7, reprinted 1892   \n5      Ciampolo the Barrator Tormented by the Devils  1826–7, reprinted 1892   \n6                        The Baffled Devils Fighting  1826–7, reprinted 1892   \n7  The Six-Footed Serpent Attacking Agnolo Brunel...  1826–7, reprinted 1892   \n8                 The Serpent Attacking Buoso Donati  1826–7, reprinted 1892   \n9                 The Pit of Disease: The Falsifiers  1826–7, reprinted 1892   \n\n                                              medium  \\\n0  Watercolour, ink, chalk and graphite on paper....   \n1                                  Graphite on paper   \n2        Graphite on paper. Verso: graphite on paper   \n3                                  Graphite on paper   \n4                            Line engraving on paper   \n5                            Line engraving on paper   \n6                            Line engraving on paper   \n7                            Line engraving on paper   \n8                            Line engraving on paper   \n9                            Line engraving on paper   \n\n                                          creditLine    year  acquisitionYear  \\\n0                Presented by Mrs John Richmond 1922     NaN             1922   \n1                Presented by Mrs John Richmond 1922     NaN             1922   \n2                Presented by Mrs John Richmond 1922  1785.0             1922   \n3                Presented by Mrs John Richmond 1922     NaN             1922   \n4  Purchased with the assistance of a special gra...  1826.0             1919   \n5  Purchased with the assistance of a special gra...  1826.0             1919   \n6  Purchased with the assistance of a special gra...  1826.0             1919   \n7  Purchased with the assistance of a special gra...  1826.0             1919   \n8  Purchased with the assistance of a special gra...  1826.0             1919   \n9  Purchased with the assistance of a special gra...  1826.0             1919   \n\n              dimensions  width  height  depth units  inscription  \\\n0  support: 394 x 419 mm    394     419    NaN    mm          NaN   \n1  support: 311 x 213 mm    311     213    NaN    mm          NaN   \n2  support: 343 x 467 mm    343     467    NaN    mm          NaN   \n3  support: 318 x 394 mm    318     394    NaN    mm          NaN   \n4    image: 243 x 335 mm    243     335    NaN    mm          NaN   \n5    image: 240 x 338 mm    240     338    NaN    mm          NaN   \n6    image: 242 x 334 mm    242     334    NaN    mm          NaN   \n7    image: 246 x 340 mm    246     340    NaN    mm          NaN   \n8    image: 241 x 335 mm    241     335    NaN    mm          NaN   \n9    image: 243 x 340 mm    243     340    NaN    mm          NaN   \n\n   thumbnailCopyright                                       thumbnailUrl  \\\n0                 NaN  http://www.tate.org.uk/art/images/work/A/A00/A...   \n1                 NaN  http://www.tate.org.uk/art/images/work/A/A00/A...   \n2                 NaN  http://www.tate.org.uk/art/images/work/A/A00/A...   \n3                 NaN  http://www.tate.org.uk/art/images/work/A/A00/A...   \n4                 NaN  http://www.tate.org.uk/art/images/work/A/A00/A...   \n5                 NaN  http://www.tate.org.uk/art/images/work/A/A00/A...   \n6                 NaN  http://www.tate.org.uk/art/images/work/A/A00/A...   \n7                 NaN  http://www.tate.org.uk/art/images/work/A/A00/A...   \n8                 NaN  http://www.tate.org.uk/art/images/work/A/A00/A...   \n9                 NaN  http://www.tate.org.uk/art/images/work/A/A00/A...   \n\n                                                 url  \n0  http://www.tate.org.uk/art/artworks/blake-a-fi...  \n1  http://www.tate.org.uk/art/artworks/blake-two-...  \n2  http://www.tate.org.uk/art/artworks/blake-the-...  \n3  http://www.tate.org.uk/art/artworks/blake-six-...  \n4  http://www.tate.org.uk/art/artworks/blake-the-...  \n5  http://www.tate.org.uk/art/artworks/blake-ciam...  \n6  http://www.tate.org.uk/art/artworks/blake-the-...  \n7  http://www.tate.org.uk/art/artworks/blake-the-...  \n8  http://www.tate.org.uk/art/artworks/blake-the-...  \n9  http://www.tate.org.uk/art/artworks/blake-the-...  ",
      "text/html": "<div>\n<style scoped>\n    .dataframe tbody tr th:only-of-type {\n        vertical-align: middle;\n    }\n\n    .dataframe tbody tr th {\n        vertical-align: top;\n    }\n\n    .dataframe thead th {\n        text-align: right;\n    }\n</style>\n<table border=\"1\" class=\"dataframe\">\n  <thead>\n    <tr style=\"text-align: right;\">\n      <th></th>\n      <th>id</th>\n      <th>accession_number</th>\n      <th>artist</th>\n      <th>artistRole</th>\n      <th>artistId</th>\n      <th>title</th>\n      <th>dateText</th>\n      <th>medium</th>\n      <th>creditLine</th>\n      <th>year</th>\n      <th>acquisitionYear</th>\n      <th>dimensions</th>\n      <th>width</th>\n      <th>height</th>\n      <th>depth</th>\n      <th>units</th>\n      <th>inscription</th>\n      <th>thumbnailCopyright</th>\n      <th>thumbnailUrl</th>\n      <th>url</th>\n    </tr>\n  </thead>\n  <tbody>\n    <tr>\n      <th>0</th>\n      <td>1035</td>\n      <td>A00001</td>\n      <td>Blake, Robert</td>\n      <td>artist</td>\n      <td>38</td>\n      <td>A Figure Bowing before a Seated Old Man with h...</td>\n      <td>date not known</td>\n      <td>Watercolour, ink, chalk and graphite on paper....</td>\n      <td>Presented by Mrs John Richmond 1922</td>\n      <td>NaN</td>\n      <td>1922</td>\n      <td>support: 394 x 419 mm</td>\n      <td>394</td>\n      <td>419</td>\n      <td>NaN</td>\n      <td>mm</td>\n      <td>NaN</td>\n      <td>NaN</td>\n      <td>http://www.tate.org.uk/art/images/work/A/A00/A...</td>\n      <td>http://www.tate.org.uk/art/artworks/blake-a-fi...</td>\n    </tr>\n    <tr>\n      <th>1</th>\n      <td>1036</td>\n      <td>A00002</td>\n      <td>Blake, Robert</td>\n      <td>artist</td>\n      <td>38</td>\n      <td>Two Drawings of Frightened Figures, Probably f...</td>\n      <td>date not known</td>\n      <td>Graphite on paper</td>\n      <td>Presented by Mrs John Richmond 1922</td>\n      <td>NaN</td>\n      <td>1922</td>\n      <td>support: 311 x 213 mm</td>\n      <td>311</td>\n      <td>213</td>\n      <td>NaN</td>\n      <td>mm</td>\n      <td>NaN</td>\n      <td>NaN</td>\n      <td>http://www.tate.org.uk/art/images/work/A/A00/A...</td>\n      <td>http://www.tate.org.uk/art/artworks/blake-two-...</td>\n    </tr>\n    <tr>\n      <th>2</th>\n      <td>1037</td>\n      <td>A00003</td>\n      <td>Blake, Robert</td>\n      <td>artist</td>\n      <td>38</td>\n      <td>The Preaching of Warning. Verso: An Old Man En...</td>\n      <td>?c.1785</td>\n      <td>Graphite on paper. Verso: graphite on paper</td>\n      <td>Presented by Mrs John Richmond 1922</td>\n      <td>1785.0</td>\n      <td>1922</td>\n      <td>support: 343 x 467 mm</td>\n      <td>343</td>\n      <td>467</td>\n      <td>NaN</td>\n      <td>mm</td>\n      <td>NaN</td>\n      <td>NaN</td>\n      <td>http://www.tate.org.uk/art/images/work/A/A00/A...</td>\n      <td>http://www.tate.org.uk/art/artworks/blake-the-...</td>\n    </tr>\n    <tr>\n      <th>3</th>\n      <td>1038</td>\n      <td>A00004</td>\n      <td>Blake, Robert</td>\n      <td>artist</td>\n      <td>38</td>\n      <td>Six Drawings of Figures with Outstretched Arms</td>\n      <td>date not known</td>\n      <td>Graphite on paper</td>\n      <td>Presented by Mrs John Richmond 1922</td>\n      <td>NaN</td>\n      <td>1922</td>\n      <td>support: 318 x 394 mm</td>\n      <td>318</td>\n      <td>394</td>\n      <td>NaN</td>\n      <td>mm</td>\n      <td>NaN</td>\n      <td>NaN</td>\n      <td>http://www.tate.org.uk/art/images/work/A/A00/A...</td>\n      <td>http://www.tate.org.uk/art/artworks/blake-six-...</td>\n    </tr>\n    <tr>\n      <th>4</th>\n      <td>1039</td>\n      <td>A00005</td>\n      <td>Blake, William</td>\n      <td>artist</td>\n      <td>39</td>\n      <td>The Circle of the Lustful: Francesca da Rimini...</td>\n      <td>1826–7, reprinted 1892</td>\n      <td>Line engraving on paper</td>\n      <td>Purchased with the assistance of a special gra...</td>\n      <td>1826.0</td>\n      <td>1919</td>\n      <td>image: 243 x 335 mm</td>\n      <td>243</td>\n      <td>335</td>\n      <td>NaN</td>\n      <td>mm</td>\n      <td>NaN</td>\n      <td>NaN</td>\n      <td>http://www.tate.org.uk/art/images/work/A/A00/A...</td>\n      <td>http://www.tate.org.uk/art/artworks/blake-the-...</td>\n    </tr>\n    <tr>\n      <th>5</th>\n      <td>1040</td>\n      <td>A00006</td>\n      <td>Blake, William</td>\n      <td>artist</td>\n      <td>39</td>\n      <td>Ciampolo the Barrator Tormented by the Devils</td>\n      <td>1826–7, reprinted 1892</td>\n      <td>Line engraving on paper</td>\n      <td>Purchased with the assistance of a special gra...</td>\n      <td>1826.0</td>\n      <td>1919</td>\n      <td>image: 240 x 338 mm</td>\n      <td>240</td>\n      <td>338</td>\n      <td>NaN</td>\n      <td>mm</td>\n      <td>NaN</td>\n      <td>NaN</td>\n      <td>http://www.tate.org.uk/art/images/work/A/A00/A...</td>\n      <td>http://www.tate.org.uk/art/artworks/blake-ciam...</td>\n    </tr>\n    <tr>\n      <th>6</th>\n      <td>1041</td>\n      <td>A00007</td>\n      <td>Blake, William</td>\n      <td>artist</td>\n      <td>39</td>\n      <td>The Baffled Devils Fighting</td>\n      <td>1826–7, reprinted 1892</td>\n      <td>Line engraving on paper</td>\n      <td>Purchased with the assistance of a special gra...</td>\n      <td>1826.0</td>\n      <td>1919</td>\n      <td>image: 242 x 334 mm</td>\n      <td>242</td>\n      <td>334</td>\n      <td>NaN</td>\n      <td>mm</td>\n      <td>NaN</td>\n      <td>NaN</td>\n      <td>http://www.tate.org.uk/art/images/work/A/A00/A...</td>\n      <td>http://www.tate.org.uk/art/artworks/blake-the-...</td>\n    </tr>\n    <tr>\n      <th>7</th>\n      <td>1042</td>\n      <td>A00008</td>\n      <td>Blake, William</td>\n      <td>artist</td>\n      <td>39</td>\n      <td>The Six-Footed Serpent Attacking Agnolo Brunel...</td>\n      <td>1826–7, reprinted 1892</td>\n      <td>Line engraving on paper</td>\n      <td>Purchased with the assistance of a special gra...</td>\n      <td>1826.0</td>\n      <td>1919</td>\n      <td>image: 246 x 340 mm</td>\n      <td>246</td>\n      <td>340</td>\n      <td>NaN</td>\n      <td>mm</td>\n      <td>NaN</td>\n      <td>NaN</td>\n      <td>http://www.tate.org.uk/art/images/work/A/A00/A...</td>\n      <td>http://www.tate.org.uk/art/artworks/blake-the-...</td>\n    </tr>\n    <tr>\n      <th>8</th>\n      <td>1043</td>\n      <td>A00009</td>\n      <td>Blake, William</td>\n      <td>artist</td>\n      <td>39</td>\n      <td>The Serpent Attacking Buoso Donati</td>\n      <td>1826–7, reprinted 1892</td>\n      <td>Line engraving on paper</td>\n      <td>Purchased with the assistance of a special gra...</td>\n      <td>1826.0</td>\n      <td>1919</td>\n      <td>image: 241 x 335 mm</td>\n      <td>241</td>\n      <td>335</td>\n      <td>NaN</td>\n      <td>mm</td>\n      <td>NaN</td>\n      <td>NaN</td>\n      <td>http://www.tate.org.uk/art/images/work/A/A00/A...</td>\n      <td>http://www.tate.org.uk/art/artworks/blake-the-...</td>\n    </tr>\n    <tr>\n      <th>9</th>\n      <td>1044</td>\n      <td>A00010</td>\n      <td>Blake, William</td>\n      <td>artist</td>\n      <td>39</td>\n      <td>The Pit of Disease: The Falsifiers</td>\n      <td>1826–7, reprinted 1892</td>\n      <td>Line engraving on paper</td>\n      <td>Purchased with the assistance of a special gra...</td>\n      <td>1826.0</td>\n      <td>1919</td>\n      <td>image: 243 x 340 mm</td>\n      <td>243</td>\n      <td>340</td>\n      <td>NaN</td>\n      <td>mm</td>\n      <td>NaN</td>\n      <td>NaN</td>\n      <td>http://www.tate.org.uk/art/images/work/A/A00/A...</td>\n      <td>http://www.tate.org.uk/art/artworks/blake-the-...</td>\n    </tr>\n  </tbody>\n</table>\n</div>"
     },
     "execution_count": 50,
     "metadata": {},
     "output_type": "execute_result"
    }
   ],
   "source": [
    "data\n"
   ],
   "metadata": {
    "collapsed": false,
    "pycharm": {
     "name": "#%%\n"
    }
   }
  },
  {
   "cell_type": "code",
   "execution_count": 51,
   "outputs": [],
   "source": [
    "data.drop_duplicates(subset=['artist'], keep='first', inplace=True)\n"
   ],
   "metadata": {
    "collapsed": false,
    "pycharm": {
     "name": "#%%\n"
    }
   }
  },
  {
   "cell_type": "code",
   "execution_count": 52,
   "outputs": [
    {
     "data": {
      "text/plain": "     id accession_number          artist artistRole  artistId  \\\n0  1035           A00001   Blake, Robert     artist        38   \n4  1039           A00005  Blake, William     artist        39   \n\n                                               title                dateText  \\\n0  A Figure Bowing before a Seated Old Man with h...          date not known   \n4  The Circle of the Lustful: Francesca da Rimini...  1826–7, reprinted 1892   \n\n                                              medium  \\\n0  Watercolour, ink, chalk and graphite on paper....   \n4                            Line engraving on paper   \n\n                                          creditLine    year  acquisitionYear  \\\n0                Presented by Mrs John Richmond 1922     NaN             1922   \n4  Purchased with the assistance of a special gra...  1826.0             1919   \n\n              dimensions  width  height  depth units  inscription  \\\n0  support: 394 x 419 mm    394     419    NaN    mm          NaN   \n4    image: 243 x 335 mm    243     335    NaN    mm          NaN   \n\n   thumbnailCopyright                                       thumbnailUrl  \\\n0                 NaN  http://www.tate.org.uk/art/images/work/A/A00/A...   \n4                 NaN  http://www.tate.org.uk/art/images/work/A/A00/A...   \n\n                                                 url  \n0  http://www.tate.org.uk/art/artworks/blake-a-fi...  \n4  http://www.tate.org.uk/art/artworks/blake-the-...  ",
      "text/html": "<div>\n<style scoped>\n    .dataframe tbody tr th:only-of-type {\n        vertical-align: middle;\n    }\n\n    .dataframe tbody tr th {\n        vertical-align: top;\n    }\n\n    .dataframe thead th {\n        text-align: right;\n    }\n</style>\n<table border=\"1\" class=\"dataframe\">\n  <thead>\n    <tr style=\"text-align: right;\">\n      <th></th>\n      <th>id</th>\n      <th>accession_number</th>\n      <th>artist</th>\n      <th>artistRole</th>\n      <th>artistId</th>\n      <th>title</th>\n      <th>dateText</th>\n      <th>medium</th>\n      <th>creditLine</th>\n      <th>year</th>\n      <th>acquisitionYear</th>\n      <th>dimensions</th>\n      <th>width</th>\n      <th>height</th>\n      <th>depth</th>\n      <th>units</th>\n      <th>inscription</th>\n      <th>thumbnailCopyright</th>\n      <th>thumbnailUrl</th>\n      <th>url</th>\n    </tr>\n  </thead>\n  <tbody>\n    <tr>\n      <th>0</th>\n      <td>1035</td>\n      <td>A00001</td>\n      <td>Blake, Robert</td>\n      <td>artist</td>\n      <td>38</td>\n      <td>A Figure Bowing before a Seated Old Man with h...</td>\n      <td>date not known</td>\n      <td>Watercolour, ink, chalk and graphite on paper....</td>\n      <td>Presented by Mrs John Richmond 1922</td>\n      <td>NaN</td>\n      <td>1922</td>\n      <td>support: 394 x 419 mm</td>\n      <td>394</td>\n      <td>419</td>\n      <td>NaN</td>\n      <td>mm</td>\n      <td>NaN</td>\n      <td>NaN</td>\n      <td>http://www.tate.org.uk/art/images/work/A/A00/A...</td>\n      <td>http://www.tate.org.uk/art/artworks/blake-a-fi...</td>\n    </tr>\n    <tr>\n      <th>4</th>\n      <td>1039</td>\n      <td>A00005</td>\n      <td>Blake, William</td>\n      <td>artist</td>\n      <td>39</td>\n      <td>The Circle of the Lustful: Francesca da Rimini...</td>\n      <td>1826–7, reprinted 1892</td>\n      <td>Line engraving on paper</td>\n      <td>Purchased with the assistance of a special gra...</td>\n      <td>1826.0</td>\n      <td>1919</td>\n      <td>image: 243 x 335 mm</td>\n      <td>243</td>\n      <td>335</td>\n      <td>NaN</td>\n      <td>mm</td>\n      <td>NaN</td>\n      <td>NaN</td>\n      <td>http://www.tate.org.uk/art/images/work/A/A00/A...</td>\n      <td>http://www.tate.org.uk/art/artworks/blake-the-...</td>\n    </tr>\n  </tbody>\n</table>\n</div>"
     },
     "execution_count": 52,
     "metadata": {},
     "output_type": "execute_result"
    }
   ],
   "source": [
    "data\n"
   ],
   "metadata": {
    "collapsed": false,
    "pycharm": {
     "name": "#%%\n"
    }
   }
  },
  {
   "cell_type": "code",
   "execution_count": 53,
   "outputs": [],
   "source": [
    "# start with full dataset\n",
    "data = original_data.copy()\n"
   ],
   "metadata": {
    "collapsed": false,
    "pycharm": {
     "name": "#%%\n"
    }
   }
  },
  {
   "cell_type": "code",
   "execution_count": 54,
   "outputs": [
    {
     "data": {
      "text/plain": "(69201, 20)"
     },
     "execution_count": 54,
     "metadata": {},
     "output_type": "execute_result"
    }
   ],
   "source": [
    "data.shape\n"
   ],
   "metadata": {
    "collapsed": false,
    "pycharm": {
     "name": "#%%\n"
    }
   }
  },
  {
   "cell_type": "code",
   "execution_count": 55,
   "outputs": [
    {
     "data": {
      "text/plain": "0        False\n1        False\n2        False\n3        False\n4        False\n         ...  \n69196    False\n69197    False\n69198    False\n69199    False\n69200    False\nLength: 69201, dtype: bool"
     },
     "execution_count": 55,
     "metadata": {},
     "output_type": "execute_result"
    }
   ],
   "source": [
    "data.duplicated()\n"
   ],
   "metadata": {
    "collapsed": false,
    "pycharm": {
     "name": "#%%\n"
    }
   }
  },
  {
   "cell_type": "code",
   "execution_count": 56,
   "outputs": [
    {
     "data": {
      "text/plain": "Empty DataFrame\nColumns: [id, accession_number, artist, artistRole, artistId, title, dateText, medium, creditLine, year, acquisitionYear, dimensions, width, height, depth, units, inscription, thumbnailCopyright, thumbnailUrl, url]\nIndex: []",
      "text/html": "<div>\n<style scoped>\n    .dataframe tbody tr th:only-of-type {\n        vertical-align: middle;\n    }\n\n    .dataframe tbody tr th {\n        vertical-align: top;\n    }\n\n    .dataframe thead th {\n        text-align: right;\n    }\n</style>\n<table border=\"1\" class=\"dataframe\">\n  <thead>\n    <tr style=\"text-align: right;\">\n      <th></th>\n      <th>id</th>\n      <th>accession_number</th>\n      <th>artist</th>\n      <th>artistRole</th>\n      <th>artistId</th>\n      <th>title</th>\n      <th>dateText</th>\n      <th>medium</th>\n      <th>creditLine</th>\n      <th>year</th>\n      <th>acquisitionYear</th>\n      <th>dimensions</th>\n      <th>width</th>\n      <th>height</th>\n      <th>depth</th>\n      <th>units</th>\n      <th>inscription</th>\n      <th>thumbnailCopyright</th>\n      <th>thumbnailUrl</th>\n      <th>url</th>\n    </tr>\n  </thead>\n  <tbody>\n  </tbody>\n</table>\n</div>"
     },
     "execution_count": 56,
     "metadata": {},
     "output_type": "execute_result"
    }
   ],
   "source": [
    "data.loc[data.duplicated()]\n"
   ],
   "metadata": {
    "collapsed": false,
    "pycharm": {
     "name": "#%%\n"
    }
   }
  },
  {
   "cell_type": "code",
   "execution_count": 57,
   "outputs": [
    {
     "data": {
      "text/plain": "0        False\n1        False\n2        False\n3        False\n4         True\n         ...  \n69196    False\n69197    False\n69198    False\n69199    False\n69200    False\nLength: 69201, dtype: bool"
     },
     "execution_count": 57,
     "metadata": {},
     "output_type": "execute_result"
    }
   ],
   "source": [
    "data.duplicated(subset=['artist', 'title'], keep=False)\n"
   ],
   "metadata": {
    "collapsed": false,
    "pycharm": {
     "name": "#%%\n"
    }
   }
  },
  {
   "cell_type": "code",
   "execution_count": 58,
   "outputs": [
    {
     "data": {
      "text/plain": "                 artist                                              title\n4        Blake, William  The Circle of the Lustful: Francesca da Rimini...\n5        Blake, William      Ciampolo the Barrator Tormented by the Devils\n6        Blake, William                        The Baffled Devils Fighting\n7        Blake, William  The Six-Footed Serpent Attacking Agnolo Brunel...\n8        Blake, William                 The Serpent Attacking Buoso Donati\n...                 ...                                                ...\n69169  Barlow, Phyllida                                           Untitled\n69170  Barlow, Phyllida                                           Untitled\n69171  Barlow, Phyllida                                           Untitled\n69172  Barlow, Phyllida                                           Untitled\n69173  Barlow, Phyllida                                           Untitled\n\n[29019 rows x 2 columns]",
      "text/html": "<div>\n<style scoped>\n    .dataframe tbody tr th:only-of-type {\n        vertical-align: middle;\n    }\n\n    .dataframe tbody tr th {\n        vertical-align: top;\n    }\n\n    .dataframe thead th {\n        text-align: right;\n    }\n</style>\n<table border=\"1\" class=\"dataframe\">\n  <thead>\n    <tr style=\"text-align: right;\">\n      <th></th>\n      <th>artist</th>\n      <th>title</th>\n    </tr>\n  </thead>\n  <tbody>\n    <tr>\n      <th>4</th>\n      <td>Blake, William</td>\n      <td>The Circle of the Lustful: Francesca da Rimini...</td>\n    </tr>\n    <tr>\n      <th>5</th>\n      <td>Blake, William</td>\n      <td>Ciampolo the Barrator Tormented by the Devils</td>\n    </tr>\n    <tr>\n      <th>6</th>\n      <td>Blake, William</td>\n      <td>The Baffled Devils Fighting</td>\n    </tr>\n    <tr>\n      <th>7</th>\n      <td>Blake, William</td>\n      <td>The Six-Footed Serpent Attacking Agnolo Brunel...</td>\n    </tr>\n    <tr>\n      <th>8</th>\n      <td>Blake, William</td>\n      <td>The Serpent Attacking Buoso Donati</td>\n    </tr>\n    <tr>\n      <th>...</th>\n      <td>...</td>\n      <td>...</td>\n    </tr>\n    <tr>\n      <th>69169</th>\n      <td>Barlow, Phyllida</td>\n      <td>Untitled</td>\n    </tr>\n    <tr>\n      <th>69170</th>\n      <td>Barlow, Phyllida</td>\n      <td>Untitled</td>\n    </tr>\n    <tr>\n      <th>69171</th>\n      <td>Barlow, Phyllida</td>\n      <td>Untitled</td>\n    </tr>\n    <tr>\n      <th>69172</th>\n      <td>Barlow, Phyllida</td>\n      <td>Untitled</td>\n    </tr>\n    <tr>\n      <th>69173</th>\n      <td>Barlow, Phyllida</td>\n      <td>Untitled</td>\n    </tr>\n  </tbody>\n</table>\n<p>29019 rows × 2 columns</p>\n</div>"
     },
     "execution_count": 58,
     "metadata": {},
     "output_type": "execute_result"
    }
   ],
   "source": [
    "data.loc[data.duplicated(subset=['artist', 'title'], keep=False), ['artist', 'title']]\n"
   ],
   "metadata": {
    "collapsed": false,
    "pycharm": {
     "name": "#%%\n"
    }
   }
  },
  {
   "cell_type": "code",
   "execution_count": 71,
   "outputs": [
    {
     "data": {
      "text/plain": "           id accession_number                       artist artistRole  \\\n44345    1423           N06252  Brabazon, Hercules Brabazon     artist   \n55574  120563           P80252         Ojeikere, J.D. Okhai     artist   \n\n       artistId                             title        dateText  \\\n44345        50                             Akaba  date not known   \n55574     16018  Untitled (Onile Gogoro Or Akaba)            1975   \n\n                                          medium  \\\n44345           Watercolour and gouache on paper   \n55574  Photograph, gelatin silver print on paper   \n\n                                              creditLine  year  \\\n44345  Bequeathed by Sir Victor A.A.H. Wellesley Bt 1954   NaN   \n55574  Purchased with funds provided by the Acquisiti...  1975   \n\n       acquisitionYear             dimensions width height  depth units  \\\n44345           1954.0  support: 254 x 330 mm   254    330    NaN    mm   \n55574           2013.0            unconfirmed   NaN    NaN    NaN   NaN   \n\n      inscription thumbnailCopyright  \\\n44345         NaN                NaN   \n55574         NaN                NaN   \n\n                                            thumbnailUrl  \\\n44345  http://www.tate.org.uk/art/images/work/N/N06/N...   \n55574                                                NaN   \n\n                                                     url  \n44345  http://www.tate.org.uk/art/artworks/brabazon-a...  \n55574  http://www.tate.org.uk/art/artworks/ojeikere-u...  ",
      "text/html": "<div>\n<style scoped>\n    .dataframe tbody tr th:only-of-type {\n        vertical-align: middle;\n    }\n\n    .dataframe tbody tr th {\n        vertical-align: top;\n    }\n\n    .dataframe thead th {\n        text-align: right;\n    }\n</style>\n<table border=\"1\" class=\"dataframe\">\n  <thead>\n    <tr style=\"text-align: right;\">\n      <th></th>\n      <th>id</th>\n      <th>accession_number</th>\n      <th>artist</th>\n      <th>artistRole</th>\n      <th>artistId</th>\n      <th>title</th>\n      <th>dateText</th>\n      <th>medium</th>\n      <th>creditLine</th>\n      <th>year</th>\n      <th>acquisitionYear</th>\n      <th>dimensions</th>\n      <th>width</th>\n      <th>height</th>\n      <th>depth</th>\n      <th>units</th>\n      <th>inscription</th>\n      <th>thumbnailCopyright</th>\n      <th>thumbnailUrl</th>\n      <th>url</th>\n    </tr>\n  </thead>\n  <tbody>\n    <tr>\n      <th>44345</th>\n      <td>1423</td>\n      <td>N06252</td>\n      <td>Brabazon, Hercules Brabazon</td>\n      <td>artist</td>\n      <td>50</td>\n      <td>Akaba</td>\n      <td>date not known</td>\n      <td>Watercolour and gouache on paper</td>\n      <td>Bequeathed by Sir Victor A.A.H. Wellesley Bt 1954</td>\n      <td>NaN</td>\n      <td>1954.0</td>\n      <td>support: 254 x 330 mm</td>\n      <td>254</td>\n      <td>330</td>\n      <td>NaN</td>\n      <td>mm</td>\n      <td>NaN</td>\n      <td>NaN</td>\n      <td>http://www.tate.org.uk/art/images/work/N/N06/N...</td>\n      <td>http://www.tate.org.uk/art/artworks/brabazon-a...</td>\n    </tr>\n    <tr>\n      <th>55574</th>\n      <td>120563</td>\n      <td>P80252</td>\n      <td>Ojeikere, J.D. Okhai</td>\n      <td>artist</td>\n      <td>16018</td>\n      <td>Untitled (Onile Gogoro Or Akaba)</td>\n      <td>1975</td>\n      <td>Photograph, gelatin silver print on paper</td>\n      <td>Purchased with funds provided by the Acquisiti...</td>\n      <td>1975</td>\n      <td>2013.0</td>\n      <td>unconfirmed</td>\n      <td>NaN</td>\n      <td>NaN</td>\n      <td>NaN</td>\n      <td>NaN</td>\n      <td>NaN</td>\n      <td>NaN</td>\n      <td>NaN</td>\n      <td>http://www.tate.org.uk/art/artworks/ojeikere-u...</td>\n    </tr>\n  </tbody>\n</table>\n</div>"
     },
     "execution_count": 71,
     "metadata": {},
     "output_type": "execute_result"
    }
   ],
   "source": [
    "data.loc[data.title.str.contains('akaba',regex=True, na=False, case=False), :]\n"
   ],
   "metadata": {
    "collapsed": false,
    "pycharm": {
     "name": "#%%\n"
    }
   }
  },
  {
   "cell_type": "code",
   "execution_count": null,
   "outputs": [],
   "source": [],
   "metadata": {
    "collapsed": false,
    "pycharm": {
     "name": "#%%\n"
    }
   }
  }
 ],
 "metadata": {
  "kernelspec": {
   "display_name": "Python 3",
   "language": "python",
   "name": "python3"
  },
  "language_info": {
   "codemirror_mode": {
    "name": "ipython",
    "version": 2
   },
   "file_extension": ".py",
   "mimetype": "text/x-python",
   "name": "python",
   "nbconvert_exporter": "python",
   "pygments_lexer": "ipython2",
   "version": "2.7.6"
  }
 },
 "nbformat": 4,
 "nbformat_minor": 0
}