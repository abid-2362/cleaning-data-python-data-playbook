{
 "cells": [
  {
   "cell_type": "code",
   "execution_count": 167,
   "outputs": [],
   "source": [
    "import pandas as pd\n"
   ],
   "metadata": {
    "collapsed": false,
    "pycharm": {
     "name": "#%%\n"
    }
   }
  },
  {
   "cell_type": "code",
   "execution_count": 168,
   "outputs": [],
   "source": [
    "data = pd.read_csv('data/artwork_sample.csv');"
   ],
   "metadata": {
    "collapsed": false,
    "pycharm": {
     "name": "#%%\n"
    }
   }
  },
  {
   "cell_type": "code",
   "execution_count": 169,
   "outputs": [
    {
     "data": {
      "text/plain": "     id accession_number          artist artistRole  artistId  \\\n0  1035           A00001   Blake, Robert     artist        38   \n1  1036           A00002   Blake, Robert     artist        38   \n2  1037           A00003   Blake, Robert     artist        38   \n3  1038           A00004   Blake, Robert     artist        38   \n4  1039           A00005  Blake, William     artist        39   \n\n                                               title                dateText  \\\n0  A Figure Bowing before a Seated Old Man with h...          date not known   \n1  Two Drawings of Frightened Figures, Probably f...          date not known   \n2  The Preaching of Warning. Verso: An Old Man En...                 ?c.1785   \n3     Six Drawings of Figures with Outstretched Arms          date not known   \n4  The Circle of the Lustful: Francesca da Rimini...  1826–7, reprinted 1892   \n\n                                              medium  \\\n0  Watercolour, ink, chalk and graphite on paper....   \n1                                  Graphite on paper   \n2        Graphite on paper. Verso: graphite on paper   \n3                                  Graphite on paper   \n4                            Line engraving on paper   \n\n                                          creditLine    year  acquisitionYear  \\\n0                Presented by Mrs John Richmond 1922     NaN             1922   \n1                Presented by Mrs John Richmond 1922     NaN             1922   \n2                Presented by Mrs John Richmond 1922  1785.0             1922   \n3                Presented by Mrs John Richmond 1922     NaN             1922   \n4  Purchased with the assistance of a special gra...  1826.0             1919   \n\n              dimensions  width  height  depth units  inscription  \\\n0  support: 394 x 419 mm    394     419    NaN    mm          NaN   \n1  support: 311 x 213 mm    311     213    NaN    mm          NaN   \n2  support: 343 x 467 mm    343     467    NaN    mm          NaN   \n3  support: 318 x 394 mm    318     394    NaN    mm          NaN   \n4    image: 243 x 335 mm    243     335    NaN    mm          NaN   \n\n   thumbnailCopyright                                       thumbnailUrl  \\\n0                 NaN  http://www.tate.org.uk/art/images/work/A/A00/A...   \n1                 NaN  http://www.tate.org.uk/art/images/work/A/A00/A...   \n2                 NaN  http://www.tate.org.uk/art/images/work/A/A00/A...   \n3                 NaN  http://www.tate.org.uk/art/images/work/A/A00/A...   \n4                 NaN  http://www.tate.org.uk/art/images/work/A/A00/A...   \n\n                                                 url  \n0  http://www.tate.org.uk/art/artworks/blake-a-fi...  \n1  http://www.tate.org.uk/art/artworks/blake-two-...  \n2  http://www.tate.org.uk/art/artworks/blake-the-...  \n3  http://www.tate.org.uk/art/artworks/blake-six-...  \n4  http://www.tate.org.uk/art/artworks/blake-the-...  ",
      "text/html": "<div>\n<style scoped>\n    .dataframe tbody tr th:only-of-type {\n        vertical-align: middle;\n    }\n\n    .dataframe tbody tr th {\n        vertical-align: top;\n    }\n\n    .dataframe thead th {\n        text-align: right;\n    }\n</style>\n<table border=\"1\" class=\"dataframe\">\n  <thead>\n    <tr style=\"text-align: right;\">\n      <th></th>\n      <th>id</th>\n      <th>accession_number</th>\n      <th>artist</th>\n      <th>artistRole</th>\n      <th>artistId</th>\n      <th>title</th>\n      <th>dateText</th>\n      <th>medium</th>\n      <th>creditLine</th>\n      <th>year</th>\n      <th>acquisitionYear</th>\n      <th>dimensions</th>\n      <th>width</th>\n      <th>height</th>\n      <th>depth</th>\n      <th>units</th>\n      <th>inscription</th>\n      <th>thumbnailCopyright</th>\n      <th>thumbnailUrl</th>\n      <th>url</th>\n    </tr>\n  </thead>\n  <tbody>\n    <tr>\n      <th>0</th>\n      <td>1035</td>\n      <td>A00001</td>\n      <td>Blake, Robert</td>\n      <td>artist</td>\n      <td>38</td>\n      <td>A Figure Bowing before a Seated Old Man with h...</td>\n      <td>date not known</td>\n      <td>Watercolour, ink, chalk and graphite on paper....</td>\n      <td>Presented by Mrs John Richmond 1922</td>\n      <td>NaN</td>\n      <td>1922</td>\n      <td>support: 394 x 419 mm</td>\n      <td>394</td>\n      <td>419</td>\n      <td>NaN</td>\n      <td>mm</td>\n      <td>NaN</td>\n      <td>NaN</td>\n      <td>http://www.tate.org.uk/art/images/work/A/A00/A...</td>\n      <td>http://www.tate.org.uk/art/artworks/blake-a-fi...</td>\n    </tr>\n    <tr>\n      <th>1</th>\n      <td>1036</td>\n      <td>A00002</td>\n      <td>Blake, Robert</td>\n      <td>artist</td>\n      <td>38</td>\n      <td>Two Drawings of Frightened Figures, Probably f...</td>\n      <td>date not known</td>\n      <td>Graphite on paper</td>\n      <td>Presented by Mrs John Richmond 1922</td>\n      <td>NaN</td>\n      <td>1922</td>\n      <td>support: 311 x 213 mm</td>\n      <td>311</td>\n      <td>213</td>\n      <td>NaN</td>\n      <td>mm</td>\n      <td>NaN</td>\n      <td>NaN</td>\n      <td>http://www.tate.org.uk/art/images/work/A/A00/A...</td>\n      <td>http://www.tate.org.uk/art/artworks/blake-two-...</td>\n    </tr>\n    <tr>\n      <th>2</th>\n      <td>1037</td>\n      <td>A00003</td>\n      <td>Blake, Robert</td>\n      <td>artist</td>\n      <td>38</td>\n      <td>The Preaching of Warning. Verso: An Old Man En...</td>\n      <td>?c.1785</td>\n      <td>Graphite on paper. Verso: graphite on paper</td>\n      <td>Presented by Mrs John Richmond 1922</td>\n      <td>1785.0</td>\n      <td>1922</td>\n      <td>support: 343 x 467 mm</td>\n      <td>343</td>\n      <td>467</td>\n      <td>NaN</td>\n      <td>mm</td>\n      <td>NaN</td>\n      <td>NaN</td>\n      <td>http://www.tate.org.uk/art/images/work/A/A00/A...</td>\n      <td>http://www.tate.org.uk/art/artworks/blake-the-...</td>\n    </tr>\n    <tr>\n      <th>3</th>\n      <td>1038</td>\n      <td>A00004</td>\n      <td>Blake, Robert</td>\n      <td>artist</td>\n      <td>38</td>\n      <td>Six Drawings of Figures with Outstretched Arms</td>\n      <td>date not known</td>\n      <td>Graphite on paper</td>\n      <td>Presented by Mrs John Richmond 1922</td>\n      <td>NaN</td>\n      <td>1922</td>\n      <td>support: 318 x 394 mm</td>\n      <td>318</td>\n      <td>394</td>\n      <td>NaN</td>\n      <td>mm</td>\n      <td>NaN</td>\n      <td>NaN</td>\n      <td>http://www.tate.org.uk/art/images/work/A/A00/A...</td>\n      <td>http://www.tate.org.uk/art/artworks/blake-six-...</td>\n    </tr>\n    <tr>\n      <th>4</th>\n      <td>1039</td>\n      <td>A00005</td>\n      <td>Blake, William</td>\n      <td>artist</td>\n      <td>39</td>\n      <td>The Circle of the Lustful: Francesca da Rimini...</td>\n      <td>1826–7, reprinted 1892</td>\n      <td>Line engraving on paper</td>\n      <td>Purchased with the assistance of a special gra...</td>\n      <td>1826.0</td>\n      <td>1919</td>\n      <td>image: 243 x 335 mm</td>\n      <td>243</td>\n      <td>335</td>\n      <td>NaN</td>\n      <td>mm</td>\n      <td>NaN</td>\n      <td>NaN</td>\n      <td>http://www.tate.org.uk/art/images/work/A/A00/A...</td>\n      <td>http://www.tate.org.uk/art/artworks/blake-the-...</td>\n    </tr>\n  </tbody>\n</table>\n</div>"
     },
     "execution_count": 169,
     "metadata": {},
     "output_type": "execute_result"
    }
   ],
   "source": [
    "data.head()\n"
   ],
   "metadata": {
    "collapsed": false,
    "pycharm": {
     "name": "#%%\n"
    }
   }
  },
  {
   "cell_type": "code",
   "execution_count": 170,
   "outputs": [
    {
     "data": {
      "text/plain": "id                      int64\naccession_number       object\nartist                 object\nartistRole             object\nartistId                int64\ntitle                  object\ndateText               object\nmedium                 object\ncreditLine             object\nyear                  float64\nacquisitionYear         int64\ndimensions             object\nwidth                   int64\nheight                  int64\ndepth                 float64\nunits                  object\ninscription           float64\nthumbnailCopyright    float64\nthumbnailUrl           object\nurl                    object\ndtype: object"
     },
     "execution_count": 170,
     "metadata": {},
     "output_type": "execute_result"
    }
   ],
   "source": [
    "data.dtypes\n"
   ],
   "metadata": {
    "collapsed": false,
    "pycharm": {
     "name": "#%%\n"
    }
   }
  },
  {
   "cell_type": "code",
   "execution_count": 171,
   "outputs": [
    {
     "data": {
      "text/plain": "0    1922\n1    1922\n2    1922\n3    1922\n4    1919\n5    1919\n6    1919\n7    1919\n8    1919\n9    1919\nName: acquisitionYear, dtype: int64"
     },
     "execution_count": 171,
     "metadata": {},
     "output_type": "execute_result"
    }
   ],
   "source": [
    "data.acquisitionYear\n"
   ],
   "metadata": {
    "collapsed": false,
    "pycharm": {
     "name": "#%%\n"
    }
   }
  },
  {
   "cell_type": "code",
   "execution_count": 172,
   "outputs": [
    {
     "data": {
      "text/plain": "0    1922.0\n1    1922.0\n2    1922.0\n3    1922.0\n4    1919.0\n5    1919.0\n6    1919.0\n7    1919.0\n8    1919.0\n9    1919.0\nName: acquisitionYear, dtype: float64"
     },
     "execution_count": 172,
     "metadata": {},
     "output_type": "execute_result"
    }
   ],
   "source": [
    "data.acquisitionYear.astype(float)\n"
   ],
   "metadata": {
    "collapsed": false,
    "pycharm": {
     "name": "#%%\n"
    }
   }
  },
  {
   "cell_type": "code",
   "execution_count": 173,
   "outputs": [
    {
     "data": {
      "text/plain": "dtype('int64')"
     },
     "execution_count": 173,
     "metadata": {},
     "output_type": "execute_result"
    }
   ],
   "source": [
    "data.acquisitionYear.dtype"
   ],
   "metadata": {
    "collapsed": false,
    "pycharm": {
     "name": "#%%\n"
    }
   }
  },
  {
   "cell_type": "code",
   "execution_count": 174,
   "outputs": [],
   "source": [
    "data.acquisitionYear = data.acquisitionYear.astype(float)\n"
   ],
   "metadata": {
    "collapsed": false,
    "pycharm": {
     "name": "#%%\n"
    }
   }
  },
  {
   "cell_type": "code",
   "execution_count": 175,
   "outputs": [
    {
     "data": {
      "text/plain": "dtype('float64')"
     },
     "execution_count": 175,
     "metadata": {},
     "output_type": "execute_result"
    }
   ],
   "source": [
    "data.acquisitionYear.dtype\n"
   ],
   "metadata": {
    "collapsed": false,
    "pycharm": {
     "name": "#%%\n"
    }
   }
  },
  {
   "cell_type": "code",
   "execution_count": 176,
   "outputs": [],
   "source": [
    "fulldf = pd.read_csv('data/artwork_data.csv', low_memory=False)\n"
   ],
   "metadata": {
    "collapsed": false,
    "pycharm": {
     "name": "#%%\n"
    }
   }
  },
  {
   "cell_type": "code",
   "execution_count": 177,
   "outputs": [
    {
     "data": {
      "text/plain": "     id accession_number          artist artistRole  artistId  \\\n0  1035           A00001   Blake, Robert     artist        38   \n1  1036           A00002   Blake, Robert     artist        38   \n2  1037           A00003   Blake, Robert     artist        38   \n3  1038           A00004   Blake, Robert     artist        38   \n4  1039           A00005  Blake, William     artist        39   \n\n                                               title                dateText  \\\n0  A Figure Bowing before a Seated Old Man with h...          date not known   \n1  Two Drawings of Frightened Figures, Probably f...          date not known   \n2  The Preaching of Warning. Verso: An Old Man En...                 ?c.1785   \n3     Six Drawings of Figures with Outstretched Arms          date not known   \n4  The Circle of the Lustful: Francesca da Rimini...  1826–7, reprinted 1892   \n\n                                              medium  \\\n0  Watercolour, ink, chalk and graphite on paper....   \n1                                  Graphite on paper   \n2        Graphite on paper. Verso: graphite on paper   \n3                                  Graphite on paper   \n4                            Line engraving on paper   \n\n                                          creditLine  year  acquisitionYear  \\\n0                Presented by Mrs John Richmond 1922   NaN           1922.0   \n1                Presented by Mrs John Richmond 1922   NaN           1922.0   \n2                Presented by Mrs John Richmond 1922  1785           1922.0   \n3                Presented by Mrs John Richmond 1922   NaN           1922.0   \n4  Purchased with the assistance of a special gra...  1826           1919.0   \n\n              dimensions width height  depth units inscription  \\\n0  support: 394 x 419 mm   394    419    NaN    mm         NaN   \n1  support: 311 x 213 mm   311    213    NaN    mm         NaN   \n2  support: 343 x 467 mm   343    467    NaN    mm         NaN   \n3  support: 318 x 394 mm   318    394    NaN    mm         NaN   \n4    image: 243 x 335 mm   243    335    NaN    mm         NaN   \n\n  thumbnailCopyright                                       thumbnailUrl  \\\n0                NaN  http://www.tate.org.uk/art/images/work/A/A00/A...   \n1                NaN  http://www.tate.org.uk/art/images/work/A/A00/A...   \n2                NaN  http://www.tate.org.uk/art/images/work/A/A00/A...   \n3                NaN  http://www.tate.org.uk/art/images/work/A/A00/A...   \n4                NaN  http://www.tate.org.uk/art/images/work/A/A00/A...   \n\n                                                 url  \n0  http://www.tate.org.uk/art/artworks/blake-a-fi...  \n1  http://www.tate.org.uk/art/artworks/blake-two-...  \n2  http://www.tate.org.uk/art/artworks/blake-the-...  \n3  http://www.tate.org.uk/art/artworks/blake-six-...  \n4  http://www.tate.org.uk/art/artworks/blake-the-...  ",
      "text/html": "<div>\n<style scoped>\n    .dataframe tbody tr th:only-of-type {\n        vertical-align: middle;\n    }\n\n    .dataframe tbody tr th {\n        vertical-align: top;\n    }\n\n    .dataframe thead th {\n        text-align: right;\n    }\n</style>\n<table border=\"1\" class=\"dataframe\">\n  <thead>\n    <tr style=\"text-align: right;\">\n      <th></th>\n      <th>id</th>\n      <th>accession_number</th>\n      <th>artist</th>\n      <th>artistRole</th>\n      <th>artistId</th>\n      <th>title</th>\n      <th>dateText</th>\n      <th>medium</th>\n      <th>creditLine</th>\n      <th>year</th>\n      <th>acquisitionYear</th>\n      <th>dimensions</th>\n      <th>width</th>\n      <th>height</th>\n      <th>depth</th>\n      <th>units</th>\n      <th>inscription</th>\n      <th>thumbnailCopyright</th>\n      <th>thumbnailUrl</th>\n      <th>url</th>\n    </tr>\n  </thead>\n  <tbody>\n    <tr>\n      <th>0</th>\n      <td>1035</td>\n      <td>A00001</td>\n      <td>Blake, Robert</td>\n      <td>artist</td>\n      <td>38</td>\n      <td>A Figure Bowing before a Seated Old Man with h...</td>\n      <td>date not known</td>\n      <td>Watercolour, ink, chalk and graphite on paper....</td>\n      <td>Presented by Mrs John Richmond 1922</td>\n      <td>NaN</td>\n      <td>1922.0</td>\n      <td>support: 394 x 419 mm</td>\n      <td>394</td>\n      <td>419</td>\n      <td>NaN</td>\n      <td>mm</td>\n      <td>NaN</td>\n      <td>NaN</td>\n      <td>http://www.tate.org.uk/art/images/work/A/A00/A...</td>\n      <td>http://www.tate.org.uk/art/artworks/blake-a-fi...</td>\n    </tr>\n    <tr>\n      <th>1</th>\n      <td>1036</td>\n      <td>A00002</td>\n      <td>Blake, Robert</td>\n      <td>artist</td>\n      <td>38</td>\n      <td>Two Drawings of Frightened Figures, Probably f...</td>\n      <td>date not known</td>\n      <td>Graphite on paper</td>\n      <td>Presented by Mrs John Richmond 1922</td>\n      <td>NaN</td>\n      <td>1922.0</td>\n      <td>support: 311 x 213 mm</td>\n      <td>311</td>\n      <td>213</td>\n      <td>NaN</td>\n      <td>mm</td>\n      <td>NaN</td>\n      <td>NaN</td>\n      <td>http://www.tate.org.uk/art/images/work/A/A00/A...</td>\n      <td>http://www.tate.org.uk/art/artworks/blake-two-...</td>\n    </tr>\n    <tr>\n      <th>2</th>\n      <td>1037</td>\n      <td>A00003</td>\n      <td>Blake, Robert</td>\n      <td>artist</td>\n      <td>38</td>\n      <td>The Preaching of Warning. Verso: An Old Man En...</td>\n      <td>?c.1785</td>\n      <td>Graphite on paper. Verso: graphite on paper</td>\n      <td>Presented by Mrs John Richmond 1922</td>\n      <td>1785</td>\n      <td>1922.0</td>\n      <td>support: 343 x 467 mm</td>\n      <td>343</td>\n      <td>467</td>\n      <td>NaN</td>\n      <td>mm</td>\n      <td>NaN</td>\n      <td>NaN</td>\n      <td>http://www.tate.org.uk/art/images/work/A/A00/A...</td>\n      <td>http://www.tate.org.uk/art/artworks/blake-the-...</td>\n    </tr>\n    <tr>\n      <th>3</th>\n      <td>1038</td>\n      <td>A00004</td>\n      <td>Blake, Robert</td>\n      <td>artist</td>\n      <td>38</td>\n      <td>Six Drawings of Figures with Outstretched Arms</td>\n      <td>date not known</td>\n      <td>Graphite on paper</td>\n      <td>Presented by Mrs John Richmond 1922</td>\n      <td>NaN</td>\n      <td>1922.0</td>\n      <td>support: 318 x 394 mm</td>\n      <td>318</td>\n      <td>394</td>\n      <td>NaN</td>\n      <td>mm</td>\n      <td>NaN</td>\n      <td>NaN</td>\n      <td>http://www.tate.org.uk/art/images/work/A/A00/A...</td>\n      <td>http://www.tate.org.uk/art/artworks/blake-six-...</td>\n    </tr>\n    <tr>\n      <th>4</th>\n      <td>1039</td>\n      <td>A00005</td>\n      <td>Blake, William</td>\n      <td>artist</td>\n      <td>39</td>\n      <td>The Circle of the Lustful: Francesca da Rimini...</td>\n      <td>1826–7, reprinted 1892</td>\n      <td>Line engraving on paper</td>\n      <td>Purchased with the assistance of a special gra...</td>\n      <td>1826</td>\n      <td>1919.0</td>\n      <td>image: 243 x 335 mm</td>\n      <td>243</td>\n      <td>335</td>\n      <td>NaN</td>\n      <td>mm</td>\n      <td>NaN</td>\n      <td>NaN</td>\n      <td>http://www.tate.org.uk/art/images/work/A/A00/A...</td>\n      <td>http://www.tate.org.uk/art/artworks/blake-the-...</td>\n    </tr>\n  </tbody>\n</table>\n</div>"
     },
     "execution_count": 177,
     "metadata": {},
     "output_type": "execute_result"
    }
   ],
   "source": [
    "fulldf.head()\n"
   ],
   "metadata": {
    "collapsed": false,
    "pycharm": {
     "name": "#%%\n"
    }
   }
  },
  {
   "cell_type": "code",
   "execution_count": 178,
   "outputs": [
    {
     "data": {
      "text/plain": "id                      int64\naccession_number       object\nartist                 object\nartistRole             object\nartistId                int64\ntitle                  object\ndateText               object\nmedium                 object\ncreditLine             object\nyear                   object\nacquisitionYear       float64\ndimensions             object\nwidth                  object\nheight                 object\ndepth                 float64\nunits                  object\ninscription            object\nthumbnailCopyright     object\nthumbnailUrl           object\nurl                    object\ndtype: object"
     },
     "execution_count": 178,
     "metadata": {},
     "output_type": "execute_result"
    }
   ],
   "source": [
    "fulldf.dtypes\n"
   ],
   "metadata": {
    "collapsed": false,
    "pycharm": {
     "name": "#%%\n"
    }
   }
  },
  {
   "cell_type": "code",
   "execution_count": 179,
   "outputs": [
    {
     "ename": "ValueError",
     "evalue": "could not convert string to float: 'mm'",
     "output_type": "error",
     "traceback": [
      "\u001B[1;31m---------------------------------------------------------------------------\u001B[0m",
      "\u001B[1;31mValueError\u001B[0m                                Traceback (most recent call last)",
      "\u001B[1;32m~\\AppData\\Local\\Temp/ipykernel_13436/758736400.py\u001B[0m in \u001B[0;36m<module>\u001B[1;34m\u001B[0m\n\u001B[1;32m----> 1\u001B[1;33m \u001B[0mfulldf\u001B[0m\u001B[1;33m.\u001B[0m\u001B[0mheight\u001B[0m\u001B[1;33m.\u001B[0m\u001B[0mastype\u001B[0m\u001B[1;33m(\u001B[0m\u001B[0mfloat\u001B[0m\u001B[1;33m)\u001B[0m\u001B[1;33m\u001B[0m\u001B[1;33m\u001B[0m\u001B[0m\n\u001B[0m\u001B[0;32m      2\u001B[0m \u001B[1;33m\u001B[0m\u001B[0m\n",
      "\u001B[1;32m~\\anaconda3\\lib\\site-packages\\pandas\\core\\generic.py\u001B[0m in \u001B[0;36mastype\u001B[1;34m(self, dtype, copy, errors)\u001B[0m\n\u001B[0;32m   5813\u001B[0m         \u001B[1;32melse\u001B[0m\u001B[1;33m:\u001B[0m\u001B[1;33m\u001B[0m\u001B[1;33m\u001B[0m\u001B[0m\n\u001B[0;32m   5814\u001B[0m             \u001B[1;31m# else, only a single dtype is given\u001B[0m\u001B[1;33m\u001B[0m\u001B[1;33m\u001B[0m\u001B[0m\n\u001B[1;32m-> 5815\u001B[1;33m             \u001B[0mnew_data\u001B[0m \u001B[1;33m=\u001B[0m \u001B[0mself\u001B[0m\u001B[1;33m.\u001B[0m\u001B[0m_mgr\u001B[0m\u001B[1;33m.\u001B[0m\u001B[0mastype\u001B[0m\u001B[1;33m(\u001B[0m\u001B[0mdtype\u001B[0m\u001B[1;33m=\u001B[0m\u001B[0mdtype\u001B[0m\u001B[1;33m,\u001B[0m \u001B[0mcopy\u001B[0m\u001B[1;33m=\u001B[0m\u001B[0mcopy\u001B[0m\u001B[1;33m,\u001B[0m \u001B[0merrors\u001B[0m\u001B[1;33m=\u001B[0m\u001B[0merrors\u001B[0m\u001B[1;33m)\u001B[0m\u001B[1;33m\u001B[0m\u001B[1;33m\u001B[0m\u001B[0m\n\u001B[0m\u001B[0;32m   5816\u001B[0m             \u001B[1;32mreturn\u001B[0m \u001B[0mself\u001B[0m\u001B[1;33m.\u001B[0m\u001B[0m_constructor\u001B[0m\u001B[1;33m(\u001B[0m\u001B[0mnew_data\u001B[0m\u001B[1;33m)\u001B[0m\u001B[1;33m.\u001B[0m\u001B[0m__finalize__\u001B[0m\u001B[1;33m(\u001B[0m\u001B[0mself\u001B[0m\u001B[1;33m,\u001B[0m \u001B[0mmethod\u001B[0m\u001B[1;33m=\u001B[0m\u001B[1;34m\"astype\"\u001B[0m\u001B[1;33m)\u001B[0m\u001B[1;33m\u001B[0m\u001B[1;33m\u001B[0m\u001B[0m\n\u001B[0;32m   5817\u001B[0m \u001B[1;33m\u001B[0m\u001B[0m\n",
      "\u001B[1;32m~\\anaconda3\\lib\\site-packages\\pandas\\core\\internals\\managers.py\u001B[0m in \u001B[0;36mastype\u001B[1;34m(self, dtype, copy, errors)\u001B[0m\n\u001B[0;32m    416\u001B[0m \u001B[1;33m\u001B[0m\u001B[0m\n\u001B[0;32m    417\u001B[0m     \u001B[1;32mdef\u001B[0m \u001B[0mastype\u001B[0m\u001B[1;33m(\u001B[0m\u001B[0mself\u001B[0m\u001B[1;33m:\u001B[0m \u001B[0mT\u001B[0m\u001B[1;33m,\u001B[0m \u001B[0mdtype\u001B[0m\u001B[1;33m,\u001B[0m \u001B[0mcopy\u001B[0m\u001B[1;33m:\u001B[0m \u001B[0mbool\u001B[0m \u001B[1;33m=\u001B[0m \u001B[1;32mFalse\u001B[0m\u001B[1;33m,\u001B[0m \u001B[0merrors\u001B[0m\u001B[1;33m:\u001B[0m \u001B[0mstr\u001B[0m \u001B[1;33m=\u001B[0m \u001B[1;34m\"raise\"\u001B[0m\u001B[1;33m)\u001B[0m \u001B[1;33m->\u001B[0m \u001B[0mT\u001B[0m\u001B[1;33m:\u001B[0m\u001B[1;33m\u001B[0m\u001B[1;33m\u001B[0m\u001B[0m\n\u001B[1;32m--> 418\u001B[1;33m         \u001B[1;32mreturn\u001B[0m \u001B[0mself\u001B[0m\u001B[1;33m.\u001B[0m\u001B[0mapply\u001B[0m\u001B[1;33m(\u001B[0m\u001B[1;34m\"astype\"\u001B[0m\u001B[1;33m,\u001B[0m \u001B[0mdtype\u001B[0m\u001B[1;33m=\u001B[0m\u001B[0mdtype\u001B[0m\u001B[1;33m,\u001B[0m \u001B[0mcopy\u001B[0m\u001B[1;33m=\u001B[0m\u001B[0mcopy\u001B[0m\u001B[1;33m,\u001B[0m \u001B[0merrors\u001B[0m\u001B[1;33m=\u001B[0m\u001B[0merrors\u001B[0m\u001B[1;33m)\u001B[0m\u001B[1;33m\u001B[0m\u001B[1;33m\u001B[0m\u001B[0m\n\u001B[0m\u001B[0;32m    419\u001B[0m \u001B[1;33m\u001B[0m\u001B[0m\n\u001B[0;32m    420\u001B[0m     def convert(\n",
      "\u001B[1;32m~\\anaconda3\\lib\\site-packages\\pandas\\core\\internals\\managers.py\u001B[0m in \u001B[0;36mapply\u001B[1;34m(self, f, align_keys, ignore_failures, **kwargs)\u001B[0m\n\u001B[0;32m    325\u001B[0m                     \u001B[0mapplied\u001B[0m \u001B[1;33m=\u001B[0m \u001B[0mb\u001B[0m\u001B[1;33m.\u001B[0m\u001B[0mapply\u001B[0m\u001B[1;33m(\u001B[0m\u001B[0mf\u001B[0m\u001B[1;33m,\u001B[0m \u001B[1;33m**\u001B[0m\u001B[0mkwargs\u001B[0m\u001B[1;33m)\u001B[0m\u001B[1;33m\u001B[0m\u001B[1;33m\u001B[0m\u001B[0m\n\u001B[0;32m    326\u001B[0m                 \u001B[1;32melse\u001B[0m\u001B[1;33m:\u001B[0m\u001B[1;33m\u001B[0m\u001B[1;33m\u001B[0m\u001B[0m\n\u001B[1;32m--> 327\u001B[1;33m                     \u001B[0mapplied\u001B[0m \u001B[1;33m=\u001B[0m \u001B[0mgetattr\u001B[0m\u001B[1;33m(\u001B[0m\u001B[0mb\u001B[0m\u001B[1;33m,\u001B[0m \u001B[0mf\u001B[0m\u001B[1;33m)\u001B[0m\u001B[1;33m(\u001B[0m\u001B[1;33m**\u001B[0m\u001B[0mkwargs\u001B[0m\u001B[1;33m)\u001B[0m\u001B[1;33m\u001B[0m\u001B[1;33m\u001B[0m\u001B[0m\n\u001B[0m\u001B[0;32m    328\u001B[0m             \u001B[1;32mexcept\u001B[0m \u001B[1;33m(\u001B[0m\u001B[0mTypeError\u001B[0m\u001B[1;33m,\u001B[0m \u001B[0mNotImplementedError\u001B[0m\u001B[1;33m)\u001B[0m\u001B[1;33m:\u001B[0m\u001B[1;33m\u001B[0m\u001B[1;33m\u001B[0m\u001B[0m\n\u001B[0;32m    329\u001B[0m                 \u001B[1;32mif\u001B[0m \u001B[1;32mnot\u001B[0m \u001B[0mignore_failures\u001B[0m\u001B[1;33m:\u001B[0m\u001B[1;33m\u001B[0m\u001B[1;33m\u001B[0m\u001B[0m\n",
      "\u001B[1;32m~\\anaconda3\\lib\\site-packages\\pandas\\core\\internals\\blocks.py\u001B[0m in \u001B[0;36mastype\u001B[1;34m(self, dtype, copy, errors)\u001B[0m\n\u001B[0;32m    589\u001B[0m         \u001B[0mvalues\u001B[0m \u001B[1;33m=\u001B[0m \u001B[0mself\u001B[0m\u001B[1;33m.\u001B[0m\u001B[0mvalues\u001B[0m\u001B[1;33m\u001B[0m\u001B[1;33m\u001B[0m\u001B[0m\n\u001B[0;32m    590\u001B[0m \u001B[1;33m\u001B[0m\u001B[0m\n\u001B[1;32m--> 591\u001B[1;33m         \u001B[0mnew_values\u001B[0m \u001B[1;33m=\u001B[0m \u001B[0mastype_array_safe\u001B[0m\u001B[1;33m(\u001B[0m\u001B[0mvalues\u001B[0m\u001B[1;33m,\u001B[0m \u001B[0mdtype\u001B[0m\u001B[1;33m,\u001B[0m \u001B[0mcopy\u001B[0m\u001B[1;33m=\u001B[0m\u001B[0mcopy\u001B[0m\u001B[1;33m,\u001B[0m \u001B[0merrors\u001B[0m\u001B[1;33m=\u001B[0m\u001B[0merrors\u001B[0m\u001B[1;33m)\u001B[0m\u001B[1;33m\u001B[0m\u001B[1;33m\u001B[0m\u001B[0m\n\u001B[0m\u001B[0;32m    592\u001B[0m \u001B[1;33m\u001B[0m\u001B[0m\n\u001B[0;32m    593\u001B[0m         \u001B[0mnew_values\u001B[0m \u001B[1;33m=\u001B[0m \u001B[0mmaybe_coerce_values\u001B[0m\u001B[1;33m(\u001B[0m\u001B[0mnew_values\u001B[0m\u001B[1;33m)\u001B[0m\u001B[1;33m\u001B[0m\u001B[1;33m\u001B[0m\u001B[0m\n",
      "\u001B[1;32m~\\anaconda3\\lib\\site-packages\\pandas\\core\\dtypes\\cast.py\u001B[0m in \u001B[0;36mastype_array_safe\u001B[1;34m(values, dtype, copy, errors)\u001B[0m\n\u001B[0;32m   1307\u001B[0m \u001B[1;33m\u001B[0m\u001B[0m\n\u001B[0;32m   1308\u001B[0m     \u001B[1;32mtry\u001B[0m\u001B[1;33m:\u001B[0m\u001B[1;33m\u001B[0m\u001B[1;33m\u001B[0m\u001B[0m\n\u001B[1;32m-> 1309\u001B[1;33m         \u001B[0mnew_values\u001B[0m \u001B[1;33m=\u001B[0m \u001B[0mastype_array\u001B[0m\u001B[1;33m(\u001B[0m\u001B[0mvalues\u001B[0m\u001B[1;33m,\u001B[0m \u001B[0mdtype\u001B[0m\u001B[1;33m,\u001B[0m \u001B[0mcopy\u001B[0m\u001B[1;33m=\u001B[0m\u001B[0mcopy\u001B[0m\u001B[1;33m)\u001B[0m\u001B[1;33m\u001B[0m\u001B[1;33m\u001B[0m\u001B[0m\n\u001B[0m\u001B[0;32m   1310\u001B[0m     \u001B[1;32mexcept\u001B[0m \u001B[1;33m(\u001B[0m\u001B[0mValueError\u001B[0m\u001B[1;33m,\u001B[0m \u001B[0mTypeError\u001B[0m\u001B[1;33m)\u001B[0m\u001B[1;33m:\u001B[0m\u001B[1;33m\u001B[0m\u001B[1;33m\u001B[0m\u001B[0m\n\u001B[0;32m   1311\u001B[0m         \u001B[1;31m# e.g. astype_nansafe can fail on object-dtype of strings\u001B[0m\u001B[1;33m\u001B[0m\u001B[1;33m\u001B[0m\u001B[0m\n",
      "\u001B[1;32m~\\anaconda3\\lib\\site-packages\\pandas\\core\\dtypes\\cast.py\u001B[0m in \u001B[0;36mastype_array\u001B[1;34m(values, dtype, copy)\u001B[0m\n\u001B[0;32m   1255\u001B[0m \u001B[1;33m\u001B[0m\u001B[0m\n\u001B[0;32m   1256\u001B[0m     \u001B[1;32melse\u001B[0m\u001B[1;33m:\u001B[0m\u001B[1;33m\u001B[0m\u001B[1;33m\u001B[0m\u001B[0m\n\u001B[1;32m-> 1257\u001B[1;33m         \u001B[0mvalues\u001B[0m \u001B[1;33m=\u001B[0m \u001B[0mastype_nansafe\u001B[0m\u001B[1;33m(\u001B[0m\u001B[0mvalues\u001B[0m\u001B[1;33m,\u001B[0m \u001B[0mdtype\u001B[0m\u001B[1;33m,\u001B[0m \u001B[0mcopy\u001B[0m\u001B[1;33m=\u001B[0m\u001B[0mcopy\u001B[0m\u001B[1;33m)\u001B[0m\u001B[1;33m\u001B[0m\u001B[1;33m\u001B[0m\u001B[0m\n\u001B[0m\u001B[0;32m   1258\u001B[0m \u001B[1;33m\u001B[0m\u001B[0m\n\u001B[0;32m   1259\u001B[0m     \u001B[1;31m# in pandas we don't store numpy str dtypes, so convert to object\u001B[0m\u001B[1;33m\u001B[0m\u001B[1;33m\u001B[0m\u001B[0m\n",
      "\u001B[1;32m~\\anaconda3\\lib\\site-packages\\pandas\\core\\dtypes\\cast.py\u001B[0m in \u001B[0;36mastype_nansafe\u001B[1;34m(arr, dtype, copy, skipna)\u001B[0m\n\u001B[0;32m   1199\u001B[0m     \u001B[1;32mif\u001B[0m \u001B[0mcopy\u001B[0m \u001B[1;32mor\u001B[0m \u001B[0mis_object_dtype\u001B[0m\u001B[1;33m(\u001B[0m\u001B[0marr\u001B[0m\u001B[1;33m.\u001B[0m\u001B[0mdtype\u001B[0m\u001B[1;33m)\u001B[0m \u001B[1;32mor\u001B[0m \u001B[0mis_object_dtype\u001B[0m\u001B[1;33m(\u001B[0m\u001B[0mdtype\u001B[0m\u001B[1;33m)\u001B[0m\u001B[1;33m:\u001B[0m\u001B[1;33m\u001B[0m\u001B[1;33m\u001B[0m\u001B[0m\n\u001B[0;32m   1200\u001B[0m         \u001B[1;31m# Explicit copy, or required since NumPy can't view from / to object.\u001B[0m\u001B[1;33m\u001B[0m\u001B[1;33m\u001B[0m\u001B[0m\n\u001B[1;32m-> 1201\u001B[1;33m         \u001B[1;32mreturn\u001B[0m \u001B[0marr\u001B[0m\u001B[1;33m.\u001B[0m\u001B[0mastype\u001B[0m\u001B[1;33m(\u001B[0m\u001B[0mdtype\u001B[0m\u001B[1;33m,\u001B[0m \u001B[0mcopy\u001B[0m\u001B[1;33m=\u001B[0m\u001B[1;32mTrue\u001B[0m\u001B[1;33m)\u001B[0m\u001B[1;33m\u001B[0m\u001B[1;33m\u001B[0m\u001B[0m\n\u001B[0m\u001B[0;32m   1202\u001B[0m \u001B[1;33m\u001B[0m\u001B[0m\n\u001B[0;32m   1203\u001B[0m     \u001B[1;32mreturn\u001B[0m \u001B[0marr\u001B[0m\u001B[1;33m.\u001B[0m\u001B[0mastype\u001B[0m\u001B[1;33m(\u001B[0m\u001B[0mdtype\u001B[0m\u001B[1;33m,\u001B[0m \u001B[0mcopy\u001B[0m\u001B[1;33m=\u001B[0m\u001B[0mcopy\u001B[0m\u001B[1;33m)\u001B[0m\u001B[1;33m\u001B[0m\u001B[1;33m\u001B[0m\u001B[0m\n",
      "\u001B[1;31mValueError\u001B[0m: could not convert string to float: 'mm'"
     ]
    }
   ],
   "source": [
    "fulldf.height.astype(float)\n"
   ],
   "metadata": {
    "collapsed": false,
    "pycharm": {
     "name": "#%%\n"
    }
   }
  },
  {
   "cell_type": "code",
   "execution_count": 180,
   "outputs": [
    {
     "ename": "ValueError",
     "evalue": "Unable to parse string \"mm\" at position 41339",
     "output_type": "error",
     "traceback": [
      "\u001B[1;31m---------------------------------------------------------------------------\u001B[0m",
      "\u001B[1;31mValueError\u001B[0m                                Traceback (most recent call last)",
      "\u001B[1;32m~\\anaconda3\\lib\\site-packages\\pandas\\_libs\\lib.pyx\u001B[0m in \u001B[0;36mpandas._libs.lib.maybe_convert_numeric\u001B[1;34m()\u001B[0m\n",
      "\u001B[1;31mValueError\u001B[0m: Unable to parse string \"mm\"",
      "\nDuring handling of the above exception, another exception occurred:\n",
      "\u001B[1;31mValueError\u001B[0m                                Traceback (most recent call last)",
      "\u001B[1;32m~\\AppData\\Local\\Temp/ipykernel_13436/2657559055.py\u001B[0m in \u001B[0;36m<module>\u001B[1;34m\u001B[0m\n\u001B[1;32m----> 1\u001B[1;33m \u001B[0mpd\u001B[0m\u001B[1;33m.\u001B[0m\u001B[0mto_numeric\u001B[0m\u001B[1;33m(\u001B[0m\u001B[0mfulldf\u001B[0m\u001B[1;33m.\u001B[0m\u001B[0mheight\u001B[0m\u001B[1;33m)\u001B[0m\u001B[1;33m\u001B[0m\u001B[1;33m\u001B[0m\u001B[0m\n\u001B[0m\u001B[0;32m      2\u001B[0m \u001B[1;33m\u001B[0m\u001B[0m\n",
      "\u001B[1;32m~\\anaconda3\\lib\\site-packages\\pandas\\core\\tools\\numeric.py\u001B[0m in \u001B[0;36mto_numeric\u001B[1;34m(arg, errors, downcast)\u001B[0m\n\u001B[0;32m    181\u001B[0m         \u001B[0mcoerce_numeric\u001B[0m \u001B[1;33m=\u001B[0m \u001B[0merrors\u001B[0m \u001B[1;32mnot\u001B[0m \u001B[1;32min\u001B[0m \u001B[1;33m(\u001B[0m\u001B[1;34m\"ignore\"\u001B[0m\u001B[1;33m,\u001B[0m \u001B[1;34m\"raise\"\u001B[0m\u001B[1;33m)\u001B[0m\u001B[1;33m\u001B[0m\u001B[1;33m\u001B[0m\u001B[0m\n\u001B[0;32m    182\u001B[0m         \u001B[1;32mtry\u001B[0m\u001B[1;33m:\u001B[0m\u001B[1;33m\u001B[0m\u001B[1;33m\u001B[0m\u001B[0m\n\u001B[1;32m--> 183\u001B[1;33m             values, _ = lib.maybe_convert_numeric(\n\u001B[0m\u001B[0;32m    184\u001B[0m                 \u001B[0mvalues\u001B[0m\u001B[1;33m,\u001B[0m \u001B[0mset\u001B[0m\u001B[1;33m(\u001B[0m\u001B[1;33m)\u001B[0m\u001B[1;33m,\u001B[0m \u001B[0mcoerce_numeric\u001B[0m\u001B[1;33m=\u001B[0m\u001B[0mcoerce_numeric\u001B[0m\u001B[1;33m\u001B[0m\u001B[1;33m\u001B[0m\u001B[0m\n\u001B[0;32m    185\u001B[0m             )\n",
      "\u001B[1;32m~\\anaconda3\\lib\\site-packages\\pandas\\_libs\\lib.pyx\u001B[0m in \u001B[0;36mpandas._libs.lib.maybe_convert_numeric\u001B[1;34m()\u001B[0m\n",
      "\u001B[1;31mValueError\u001B[0m: Unable to parse string \"mm\" at position 41339"
     ]
    }
   ],
   "source": [
    "pd.to_numeric(fulldf.height)\n"
   ],
   "metadata": {
    "collapsed": false,
    "pycharm": {
     "name": "#%%\n"
    }
   }
  },
  {
   "cell_type": "code",
   "execution_count": 181,
   "outputs": [
    {
     "data": {
      "text/plain": "0         419.0\n1         213.0\n2         467.0\n3         394.0\n4         335.0\n          ...  \n69196     305.0\n69197     305.0\n69198    2410.0\n69199       NaN\n69200     660.0\nName: height, Length: 69201, dtype: float64"
     },
     "execution_count": 181,
     "metadata": {},
     "output_type": "execute_result"
    }
   ],
   "source": [
    "pd.to_numeric(fulldf.height, errors=\"coerce\")\n"
   ],
   "metadata": {
    "collapsed": false,
    "pycharm": {
     "name": "#%%\n"
    }
   }
  },
  {
   "cell_type": "code",
   "execution_count": 182,
   "outputs": [
    {
     "data": {
      "text/plain": "nan"
     },
     "execution_count": 182,
     "metadata": {},
     "output_type": "execute_result"
    }
   ],
   "source": [
    "pd.to_numeric(fulldf.height, errors=\"coerce\")[41339]\n"
   ],
   "metadata": {
    "collapsed": false,
    "pycharm": {
     "name": "#%%\n"
    }
   }
  },
  {
   "cell_type": "code",
   "execution_count": 183,
   "outputs": [
    {
     "data": {
      "text/plain": "dtype('O')"
     },
     "execution_count": 183,
     "metadata": {},
     "output_type": "execute_result"
    }
   ],
   "source": [
    "fulldf.height.dtype\n"
   ],
   "metadata": {
    "collapsed": false,
    "pycharm": {
     "name": "#%%\n"
    }
   }
  },
  {
   "cell_type": "code",
   "execution_count": null,
   "outputs": [],
   "source": [
    "fulldf.height = pd.to_numeric(fulldf.height, errors=\"coerce\")\n"
   ],
   "metadata": {
    "collapsed": false,
    "pycharm": {
     "name": "#%%\n"
    }
   }
  },
  {
   "cell_type": "code",
   "execution_count": null,
   "outputs": [],
   "source": [
    "fulldf.height.dtype\n"
   ],
   "metadata": {
    "collapsed": false,
    "pycharm": {
     "name": "#%%\n"
    }
   }
  },
  {
   "cell_type": "markdown",
   "source": [
    "## Aggregating Data\n"
   ],
   "metadata": {
    "collapsed": false,
    "pycharm": {
     "name": "#%% md\n"
    }
   }
  },
  {
   "cell_type": "code",
   "execution_count": null,
   "outputs": [],
   "source": [
    "data.head()\n"
   ],
   "metadata": {
    "collapsed": false,
    "pycharm": {
     "name": "#%%\n"
    }
   }
  },
  {
   "cell_type": "code",
   "execution_count": null,
   "outputs": [],
   "source": [
    "data.year\n"
   ],
   "metadata": {
    "collapsed": false,
    "pycharm": {
     "name": "#%%\n"
    }
   }
  },
  {
   "cell_type": "code",
   "execution_count": null,
   "outputs": [],
   "source": [
    "data.year.min()\n"
   ],
   "metadata": {
    "collapsed": false,
    "pycharm": {
     "name": "#%%\n"
    }
   }
  },
  {
   "cell_type": "code",
   "execution_count": null,
   "outputs": [],
   "source": [
    "data.year.max()\n"
   ],
   "metadata": {
    "collapsed": false,
    "pycharm": {
     "name": "#%%\n"
    }
   }
  },
  {
   "cell_type": "code",
   "execution_count": null,
   "outputs": [],
   "source": [
    "data.year.sum()\n"
   ],
   "metadata": {
    "collapsed": false,
    "pycharm": {
     "name": "#%%\n"
    }
   }
  },
  {
   "cell_type": "code",
   "execution_count": null,
   "outputs": [],
   "source": [
    "data.year.mean()\n"
   ],
   "metadata": {
    "collapsed": false,
    "pycharm": {
     "name": "#%%\n"
    }
   }
  },
  {
   "cell_type": "code",
   "execution_count": null,
   "outputs": [],
   "source": [
    "data.year.std()\n"
   ],
   "metadata": {
    "collapsed": false,
    "pycharm": {
     "name": "#%%\n"
    }
   }
  },
  {
   "cell_type": "code",
   "execution_count": null,
   "outputs": [],
   "source": [
    "data.artist.min()\n"
   ],
   "metadata": {
    "collapsed": false,
    "pycharm": {
     "name": "#%%\n"
    }
   }
  },
  {
   "cell_type": "code",
   "execution_count": null,
   "outputs": [],
   "source": [
    "data.artist.max()\n"
   ],
   "metadata": {
    "collapsed": false,
    "pycharm": {
     "name": "#%%\n"
    }
   }
  },
  {
   "cell_type": "code",
   "execution_count": null,
   "outputs": [],
   "source": [
    "data.artist\n"
   ],
   "metadata": {
    "collapsed": false,
    "pycharm": {
     "name": "#%%\n"
    }
   }
  },
  {
   "cell_type": "code",
   "execution_count": null,
   "outputs": [],
   "source": [
    "data.artist.mean()\n"
   ],
   "metadata": {
    "collapsed": false,
    "pycharm": {
     "name": "#%%\n"
    }
   }
  },
  {
   "cell_type": "code",
   "execution_count": null,
   "outputs": [],
   "source": [
    "data.artist.sum()\n"
   ],
   "metadata": {
    "collapsed": false,
    "pycharm": {
     "name": "#%%\n"
    }
   }
  },
  {
   "cell_type": "markdown",
   "source": [
    "## Transforming Data\n"
   ],
   "metadata": {
    "collapsed": false,
    "pycharm": {
     "name": "#%% md\n"
    }
   }
  },
  {
   "cell_type": "code",
   "execution_count": null,
   "outputs": [],
   "source": [
    "sample_data_original = pd.read_csv('data/artwork_sample.csv')\n"
   ],
   "metadata": {
    "collapsed": false,
    "pycharm": {
     "name": "#%%\n"
    }
   }
  },
  {
   "cell_type": "code",
   "execution_count": null,
   "outputs": [],
   "source": [
    "data = sample_data_original.copy()\n"
   ],
   "metadata": {
    "collapsed": false,
    "pycharm": {
     "name": "#%%\n"
    }
   }
  },
  {
   "cell_type": "code",
   "execution_count": null,
   "outputs": [],
   "source": [
    "data.height.transform(lambda x: print(x))\n"
   ],
   "metadata": {
    "collapsed": false,
    "pycharm": {
     "name": "#%%\n"
    }
   }
  },
  {
   "cell_type": "code",
   "execution_count": null,
   "outputs": [],
   "source": [
    "data.height.transform(lambda x: x)\n"
   ],
   "metadata": {
    "collapsed": false,
    "pycharm": {
     "name": "#%%\n"
    }
   }
  },
  {
   "cell_type": "code",
   "execution_count": null,
   "outputs": [],
   "source": [
    "data.height.transform(lambda x: x/10)\n"
   ],
   "metadata": {
    "collapsed": false,
    "pycharm": {
     "name": "#%%\n"
    }
   }
  },
  {
   "cell_type": "code",
   "execution_count": null,
   "outputs": [],
   "source": [
    "data.groupby('artist')\n"
   ],
   "metadata": {
    "collapsed": false,
    "pycharm": {
     "name": "#%%\n"
    }
   }
  },
  {
   "cell_type": "code",
   "execution_count": null,
   "outputs": [],
   "source": [
    "data.groupby('artist').transform('nunique')\n"
   ],
   "metadata": {
    "collapsed": false,
    "pycharm": {
     "name": "#%%\n"
    }
   }
  },
  {
   "cell_type": "code",
   "execution_count": null,
   "outputs": [],
   "source": [
    "data.groupby('artist')['height']\n"
   ],
   "metadata": {
    "collapsed": false,
    "pycharm": {
     "name": "#%%\n"
    }
   }
  },
  {
   "cell_type": "code",
   "execution_count": null,
   "outputs": [],
   "source": [
    "data.groupby('artist')['height'].transform('mean')\n"
   ],
   "metadata": {
    "collapsed": false,
    "pycharm": {
     "name": "#%%\n"
    }
   }
  },
  {
   "cell_type": "code",
   "execution_count": null,
   "outputs": [],
   "source": [
    "data.artist\n"
   ],
   "metadata": {
    "collapsed": false,
    "pycharm": {
     "name": "#%%\n"
    }
   }
  },
  {
   "cell_type": "code",
   "execution_count": null,
   "outputs": [],
   "source": [
    "data['mean_height_by_artist'] = data.groupby('artist')['height'].transform('mean')\n"
   ],
   "metadata": {
    "collapsed": false,
    "pycharm": {
     "name": "#%%\n"
    }
   }
  },
  {
   "cell_type": "code",
   "execution_count": null,
   "outputs": [],
   "source": [
    "data"
   ],
   "metadata": {
    "collapsed": false,
    "pycharm": {
     "name": "#%%\n"
    }
   }
  },
  {
   "cell_type": "markdown",
   "source": [
    "## Filtering Data\n"
   ],
   "metadata": {
    "collapsed": false,
    "pycharm": {
     "name": "#%% md\n"
    }
   }
  },
  {
   "cell_type": "code",
   "execution_count": null,
   "outputs": [],
   "source": [
    "data = fulldf.copy()\n"
   ],
   "metadata": {
    "collapsed": false,
    "pycharm": {
     "name": "#%%\n"
    }
   }
  },
  {
   "cell_type": "code",
   "execution_count": null,
   "outputs": [],
   "source": [
    "data.head()\n"
   ],
   "metadata": {
    "collapsed": false,
    "pycharm": {
     "name": "#%%\n"
    }
   }
  },
  {
   "cell_type": "code",
   "execution_count": null,
   "outputs": [],
   "source": [
    "data.filter(items=['id', 'artist']).head(50)\n"
   ],
   "metadata": {
    "collapsed": false,
    "pycharm": {
     "name": "#%%\n"
    }
   }
  },
  {
   "cell_type": "code",
   "execution_count": null,
   "outputs": [],
   "source": [
    "data.filter(like='year').head(50)\n"
   ],
   "metadata": {
    "collapsed": false,
    "pycharm": {
     "name": "#%%\n"
    }
   }
  },
  {
   "cell_type": "code",
   "execution_count": null,
   "outputs": [],
   "source": [
    "data.filter(like=\"artist\")\n"
   ],
   "metadata": {
    "collapsed": false,
    "pycharm": {
     "name": "#%%\n"
    }
   }
  },
  {
   "cell_type": "code",
   "execution_count": null,
   "outputs": [],
   "source": [
    "data.filter(regex=\"(?i)year\")\n"
   ],
   "metadata": {
    "collapsed": false,
    "pycharm": {
     "name": "#%%\n"
    }
   }
  },
  {
   "cell_type": "code",
   "execution_count": null,
   "outputs": [],
   "source": [
    "data.filter(axis=0, regex=\"^100.$\")\n"
   ],
   "metadata": {
    "collapsed": false,
    "pycharm": {
     "name": "#%%\n"
    }
   }
  },
  {
   "cell_type": "code",
   "execution_count": null,
   "outputs": [],
   "source": [
    "data.filter(regex=\"^100(2|4|6|8)$\", axis=0)\n"
   ],
   "metadata": {
    "collapsed": false,
    "pycharm": {
     "name": "#%%\n"
    }
   }
  },
  {
   "cell_type": "markdown",
   "source": [
    "## Dropping Columns\n"
   ],
   "metadata": {
    "collapsed": false,
    "pycharm": {
     "name": "#%% md\n"
    }
   }
  },
  {
   "cell_type": "code",
   "execution_count": null,
   "outputs": [],
   "source": [
    "data = sample_data_original.copy()\n"
   ],
   "metadata": {
    "collapsed": false,
    "pycharm": {
     "name": "#%%\n"
    }
   }
  },
  {
   "cell_type": "code",
   "execution_count": null,
   "outputs": [],
   "source": [
    "data.head()\n"
   ],
   "metadata": {
    "collapsed": false,
    "pycharm": {
     "name": "#%%\n"
    }
   }
  },
  {
   "cell_type": "code",
   "execution_count": null,
   "outputs": [],
   "source": [
    "# Dropping first row\n",
    "data.drop(0)\n"
   ],
   "metadata": {
    "collapsed": false,
    "pycharm": {
     "name": "#%%\n"
    }
   }
  },
  {
   "cell_type": "code",
   "execution_count": null,
   "outputs": [],
   "source": [
    "data.drop('id', axis=1)\n"
   ],
   "metadata": {
    "collapsed": false,
    "pycharm": {
     "name": "#%%\n"
    }
   }
  },
  {
   "cell_type": "code",
   "execution_count": null,
   "outputs": [],
   "source": [
    "data.drop(columns=['height', 'width', 'depth'])\n"
   ],
   "metadata": {
    "collapsed": false,
    "pycharm": {
     "name": "#%%\n"
    }
   }
  },
  {
   "cell_type": "code",
   "execution_count": null,
   "outputs": [],
   "source": [
    "# dropping by row labels\n",
    "data.drop(labels=[0,1,2])\n"
   ],
   "metadata": {
    "collapsed": false,
    "pycharm": {
     "name": "#%%\n"
    }
   }
  },
  {
   "cell_type": "code",
   "execution_count": null,
   "outputs": [],
   "source": [
    "data.drop(columns=['id'], inplace=True)\n",
    "data\n"
   ],
   "metadata": {
    "collapsed": false,
    "pycharm": {
     "name": "#%%\n"
    }
   }
  },
  {
   "cell_type": "code",
   "execution_count": null,
   "outputs": [],
   "source": [
    "data.drop(columns=['id'], inplace=True)\n"
   ],
   "metadata": {
    "collapsed": false,
    "pycharm": {
     "name": "#%%\n"
    }
   }
  },
  {
   "cell_type": "code",
   "execution_count": null,
   "outputs": [],
   "source": [
    "# importing only required columns\n",
    "data = pd.read_csv('data/artwork_sample.csv', usecols=['artist', 'title'])\n",
    "data\n"
   ],
   "metadata": {
    "collapsed": false,
    "pycharm": {
     "name": "#%%\n"
    }
   }
  }
 ],
 "metadata": {
  "kernelspec": {
   "display_name": "Python 3",
   "language": "python",
   "name": "python3"
  },
  "language_info": {
   "codemirror_mode": {
    "name": "ipython",
    "version": 2
   },
   "file_extension": ".py",
   "mimetype": "text/x-python",
   "name": "python",
   "nbconvert_exporter": "python",
   "pygments_lexer": "ipython2",
   "version": "2.7.6"
  }
 },
 "nbformat": 4,
 "nbformat_minor": 0
}